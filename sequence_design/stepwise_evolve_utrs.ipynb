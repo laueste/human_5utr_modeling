{
 "cells": [
  {
   "cell_type": "code",
   "execution_count": 1,
   "metadata": {},
   "outputs": [
    {
     "name": "stderr",
     "output_type": "stream",
     "text": [
      "Using TensorFlow backend.\n"
     ]
    }
   ],
   "source": [
    "import pandas as pd\n",
    "import numpy as np\n",
    "import matplotlib.pyplot as plt\n",
    "import scipy.stats as stats\n",
    "import seaborn as sns\n",
    "from sklearn import preprocessing\n",
    "#from sklearn.cross_validation import train_test_split  #LAE: sklearn changed package name\n",
    "from sklearn.model_selection import train_test_split #LAE: added\n",
    "\n",
    "%matplotlib inline\n",
    "pd.set_option(\"display.max_colwidth\",100)\n",
    "sns.set(style=\"ticks\", color_codes=True)\n",
    "def plot_data(data, x, y, x_title='x', y_title='y', xlim=None, ylim=None, size=4, alpha=0.02):\n",
    "    slope, intercept, r_value, p_value, std_err = stats.linregress(data[x],data[y])\n",
    "    print '# of UTRs = ', len(data)\n",
    "    print 'r-squared = ',r_value**2\n",
    "\n",
    "    sns.set(style=\"ticks\", color_codes=True)\n",
    "    g = sns.JointGrid(data=data, x=x, y=y, xlim=xlim, ylim=ylim, size=size)\n",
    "    g = g.plot_joint(plt.scatter, color='#e01145', edgecolor=\"black\", alpha=alpha)\n",
    "    f = g.fig\n",
    "    f.text(x=0, y=0, s='r2 = {}'.format(round(r_value**2, 3)))\n",
    "    g = g.plot_marginals(sns.distplot, kde=False, color='#e01145')\n",
    "    g = g.set_axis_labels(x_title, y_title)\n",
    "    \n",
    "def vectorizeSequence(seq):\n",
    "    # the order of the letters is not arbitrary.\n",
    "    # Flip the matrix up-down and left-right for reverse compliment\n",
    "    ltrdict = {'a':[1,0,0,0],'c':[0,1,0,0],'g':[0,0,1,0],'t':[0,0,0,1], 'n':[0,0,0,0]}\n",
    "    return np.array([ltrdict[x] for x in seq])\n",
    "\n",
    "import keras\n",
    "np.random.seed(1337)\n",
    "\n",
    "from keras.preprocessing import sequence\n",
    "from keras.optimizers import RMSprop\n",
    "from keras.models import Sequential\n",
    "from keras.layers.core import Dense\n",
    "from keras.layers.core import Dropout\n",
    "from keras.layers.core import Activation\n",
    "from keras.layers.core import Flatten\n",
    "from keras.layers.convolutional import Convolution1D, MaxPooling1D\n",
    "from keras.constraints import maxnorm\n",
    "from keras.callbacks import ModelCheckpoint, EarlyStopping\n",
    "\n",
    "def test_data(df, model, test_seq, obs_col, output_col='pred'):\n",
    "    scaler = preprocessing.StandardScaler()\n",
    "    scaler.fit(df[obs_col].reshape(-1,1))\n",
    "    #df.loc[:,'obs_stab'] = test_df['stab_df']\n",
    "    predictions = model.predict(test_seq).reshape(-1)\n",
    "    df.loc[:,output_col] = scaler.inverse_transform(predictions)\n",
    "    return df\n",
    "\n",
    "def binarize_sequences(df, col='utr', seq_len=54):\n",
    "    vector=np.empty([len(df),seq_len,4])\n",
    "    for i,seq in enumerate(df[col].str[:seq_len]):\n",
    "        vector[i]=vectorizeSequence(seq.lower())\n",
    "    return vector"
   ]
  },
  {
   "cell_type": "markdown",
   "metadata": {},
   "source": [
    "### Load data to get MRL values for scaling - convert the scaled predictions of the evolved sequences to MRL"
   ]
  },
  {
   "cell_type": "code",
   "execution_count": 2,
   "metadata": {},
   "outputs": [
    {
     "data": {
      "text/plain": [
       "StandardScaler(copy=True, with_mean=True, with_std=True)"
      ]
     },
     "execution_count": 2,
     "metadata": {},
     "output_type": "execute_result"
    }
   ],
   "source": [
    "df = pd.read_csv('../data/egfp_unmod_1.csv')\n",
    "df.sort_values('total_reads', ascending=False).reset_index(drop=True)\n",
    "\n",
    "# Select a number of UTRs for the purpose of scaling.\n",
    "scale_utrs = df[:40000]\n",
    "\n",
    "# Scale\n",
    "scaler = preprocessing.StandardScaler()\n",
    "scaler.fit(scale_utrs['rl'].values.reshape(-1,1)) #LAE: added .values for pd deprecation"
   ]
  },
  {
   "cell_type": "markdown",
   "metadata": {},
   "source": [
    "#### Choose model to use for evolving new sequences.\n",
    "In the paper, the model used for evolving sequences is saved here as \"evolution_model.hdf5\". This is an older model that predates the main egfp model used in the paper (trained on unmodified EGFP replicate #1). The main model used in the paper is labeled \"main_MRL_model.hdf5\". Both retrained models are also available."
   ]
  },
  {
   "cell_type": "code",
   "execution_count": 3,
   "metadata": {},
   "outputs": [
    {
     "name": "stderr",
     "output_type": "stream",
     "text": [
      "WARNING: Logging before flag parsing goes to stderr.\n",
      "W0719 15:03:24.207288 4458436032 deprecation_wrapper.py:119] From /usr/local/lib/python2.7/site-packages/keras/backend/tensorflow_backend.py:74: The name tf.get_default_graph is deprecated. Please use tf.compat.v1.get_default_graph instead.\n",
      "\n",
      "W0719 15:03:24.229902 4458436032 deprecation_wrapper.py:119] From /usr/local/lib/python2.7/site-packages/keras/backend/tensorflow_backend.py:517: The name tf.placeholder is deprecated. Please use tf.compat.v1.placeholder instead.\n",
      "\n",
      "W0719 15:03:24.235105 4458436032 deprecation_wrapper.py:119] From /usr/local/lib/python2.7/site-packages/keras/backend/tensorflow_backend.py:4138: The name tf.random_uniform is deprecated. Please use tf.random.uniform instead.\n",
      "\n",
      "W0719 15:03:24.366743 4458436032 deprecation_wrapper.py:119] From /usr/local/lib/python2.7/site-packages/keras/backend/tensorflow_backend.py:133: The name tf.placeholder_with_default is deprecated. Please use tf.compat.v1.placeholder_with_default instead.\n",
      "\n",
      "W0719 15:03:24.379096 4458436032 deprecation.py:506] From /usr/local/lib/python2.7/site-packages/keras/backend/tensorflow_backend.py:3445: calling dropout (from tensorflow.python.ops.nn_ops) with keep_prob is deprecated and will be removed in a future version.\n",
      "Instructions for updating:\n",
      "Please use `rate` instead of `keep_prob`. Rate should be set to `rate = 1 - keep_prob`.\n",
      "W0719 15:03:24.514822 4458436032 deprecation_wrapper.py:119] From /usr/local/lib/python2.7/site-packages/keras/backend/tensorflow_backend.py:174: The name tf.get_default_session is deprecated. Please use tf.compat.v1.get_default_session instead.\n",
      "\n",
      "W0719 15:03:24.649019 4458436032 deprecation_wrapper.py:119] From /usr/local/lib/python2.7/site-packages/keras/optimizers.py:790: The name tf.train.Optimizer is deprecated. Please use tf.compat.v1.train.Optimizer instead.\n",
      "\n"
     ]
    }
   ],
   "source": [
    "from keras.models import load_model\n",
    "# model = load_model('../modeling/saved_models/evolution_model.hdf5')\n",
    "# model = load_model('../modeling/saved_models/retrained_evolution_model.hdf5')\n",
    "# model = load_model('../modeling/saved_models/main_MRL_model.hdf5')\n",
    "model = load_model('../modeling/saved_models/retrained_main_MRL_model.hdf5')"
   ]
  },
  {
   "cell_type": "markdown",
   "metadata": {},
   "source": [
    "### Genetic algorithm"
   ]
  },
  {
   "cell_type": "code",
   "execution_count": 4,
   "metadata": {},
   "outputs": [],
   "source": [
    "import random\n",
    "import math\n",
    "\n",
    "def ret_rand_nuc():\n",
    "    x = random.randint(0,3)\n",
    "    if x == 0:\n",
    "        return [1,0,0,0] # A\n",
    "    if x == 1:\n",
    "        return [0,1,0,0] # C\n",
    "    if x == 2:\n",
    "        return [0,0,1,0] # G\n",
    "    if x == 3:\n",
    "        return [0,0,0,1] # T\n",
    "    \n",
    "def vector_to_nuc(arr, seq_len=50):\n",
    "    seq = ''\n",
    "    for i in range(seq_len):\n",
    "        if arr[i,0] == 1:\n",
    "            seq = seq + 'A'\n",
    "        if arr[i,1] == 1:\n",
    "            seq = seq + 'C'\n",
    "        if arr[i,2] == 1:\n",
    "            seq = seq + 'G'\n",
    "        if arr[i,3] == 1:\n",
    "            seq = seq + 'T'\n",
    "    return seq\n",
    "\n",
    "def convert_and_save(sequences, predictions):\n",
    "    # Convert the one-hot encoded sequences to A, C, T, G\n",
    "    seqs = []\n",
    "    for nbr in xrange(len(sequences)):\n",
    "        seqs.append(vector_to_nuc(sequences[nbr]))\n",
    "    df = pd.DataFrame(data=[seqs,predictions.tolist()]).transpose()\n",
    "    df.columns = ['utr', 'prediction']\n",
    "    df.sort_values('prediction', ascending=False, inplace=True)\n",
    "    return df\n",
    "\n",
    "def make_random_sequences(nbr_sequences, length, constant='', no_uaug=False, no_stop=False):\n",
    "    # Make randomize sequences, allowing for the inclusion / exclusion of uATGs / stop codons\n",
    "    seqs = []\n",
    "    nucs = {0:'A', 1:'T', 2:'C', 3:'G'}\n",
    "    i = 0\n",
    "    while i < nbr_sequences:\n",
    "        new_seq = ''\n",
    "        for n in range(length - len(constant)):\n",
    "            new_seq = new_seq + nucs[random.randint(0,3)]\n",
    "        \n",
    "        if no_uaug == False or (no_uaug==True and 'ATG' not in new_seq):\n",
    "            if no_stop == False or (no_stop == True and ('TAG' not in new_seq and 'TGA' not in new_seq and 'TAA' not in new_seq)):\n",
    "                new_seq = new_seq + constant\n",
    "                seqs.append(new_seq)\n",
    "                i+=1\n",
    "    return seqs\n",
    "\n",
    "def simple_mutate(seq, nbr_bases=1, prob=1):\n",
    "    if nbr_bases > 1 and prob > random.random():\n",
    "        nbr_bases = nbr_bases\n",
    "    else:\n",
    "        nbr_bases = 1\n",
    "    for i in range(nbr_bases):\n",
    "        pos = random.randint(0, 49)\n",
    "        seq[pos] = ret_rand_nuc()\n",
    "    return seq\n",
    "\n",
    "def check_for_uaug(seq):\n",
    "    seq = vector_to_nuc(seq)\n",
    "    return 'ATG' in seq[:50]\n",
    "\n",
    "def check_for_stops(seq):\n",
    "    seq = vector_to_nuc(seq)\n",
    "    if 'TAG' in seq[:50] or 'TGA' in seq[:50] or 'TAA' in seq[:50]:\n",
    "        return True\n",
    "    return False\n",
    "\n",
    "def negative_selection(seq, model, scaler, target_val, no_uaug=False, no_stop=False, nbr_bases_to_mutate=1, multi_mutate_prob=1, seq_len=50):\n",
    "    seqs = np.empty([2,seq_len,4])\n",
    "    seqs[0] = seq.copy()\n",
    "    seqs[1] = simple_mutate(seq.copy(), nbr_bases=nbr_bases_to_mutate, prob=multi_mutate_prob)\n",
    "    \n",
    "    if no_uaug == True and check_for_uaug(seqs[1]):\n",
    "        return seqs[0]\n",
    "    if no_stop == True and check_for_stops(seqs[1]):\n",
    "        return seqs[0]\n",
    "    \n",
    "    scores = model.predict(seqs).reshape(-1)\n",
    "    scores = scaler.inverse_transform(scores)\n",
    "    if scores[1] < scores[0]:\n",
    "        if scores[1] >= target_val:\n",
    "            return seqs[1]\n",
    "        else:\n",
    "            return seqs[0]\n",
    "    else:\n",
    "        return seqs[0]    \n",
    "\n",
    "def selection(seq, model, scaler, target_val, no_uaug=False, no_stop=False, nbr_bases_to_mutate=1, multi_mutate_prob=1, seq_len=50):\n",
    "    seqs = np.empty([2, seq_len, 4])\n",
    "    seqs[0] = seq.copy()\n",
    "    seqs[1] = simple_mutate(seq.copy(), nbr_bases=nbr_bases_to_mutate, prob=multi_mutate_prob)\n",
    "    \n",
    "    if no_uaug == True and check_for_uaug(seqs[1]):\n",
    "        return seqs[0]\n",
    "    if no_stop == True and check_for_stops(seqs[1]):\n",
    "        return seqs[0]\n",
    "    \n",
    "    scores = model.predict(seqs).reshape(-1)\n",
    "    scores = scaler.inverse_transform(scores)\n",
    "    if scores[1] > scores[0]:\n",
    "        if scores[1] <= target_val:\n",
    "            return seqs[1]\n",
    "        else:\n",
    "            return seqs[0]\n",
    "    else:\n",
    "        return seqs[0]    \n",
    "    \n",
    "def selection_to_target(seq, model, scaler, target_val, no_uaug=False, no_stop=False, nbr_bases_to_mutate=1, multi_mutate_prob=1, seq_len=50, accept_range=0.1):\n",
    "    seqs = np.empty([2,seq_len,4])\n",
    "    # Save the incoming sequence before mutating\n",
    "    seqs[0] = seq.copy()\n",
    "    # The mutated sequence\n",
    "    seqs[1] = simple_mutate(seq.copy(), nbr_bases=nbr_bases_to_mutate, prob=multi_mutate_prob)\n",
    "    \n",
    "    # Decide whether to continue with the new sequence based on the uAUG / stop codon preference\n",
    "    if no_uaug == True and check_for_uaug(seqs[1]):\n",
    "        return seqs[0]\n",
    "    if no_stop == True and check_for_stops(seqs[1]):\n",
    "        return seqs[0]\n",
    "    \n",
    "    scores = model.predict(seqs).reshape(-1)\n",
    "    scores = scaler.inverse_transform(scores)\n",
    "    \n",
    "    # Accept sequences that fall within this range. May provide more sequence diversity\n",
    "    if scores[0] >= target_val - accept_range and scores[0] <= target_val + accept_range:\n",
    "        return seqs[0]\n",
    "    else:\n",
    "        if abs(target_val - scores[1]) <= abs(target_val - scores[0]):\n",
    "            return seqs[1]\n",
    "        else:\n",
    "            return seqs[0]    "
   ]
  },
  {
   "cell_type": "markdown",
   "metadata": {},
   "source": [
    "_____"
   ]
  },
  {
   "cell_type": "markdown",
   "metadata": {},
   "source": [
    "### Evolve new sequences - random to worst to best"
   ]
  },
  {
   "cell_type": "code",
   "execution_count": 5,
   "metadata": {},
   "outputs": [
    {
     "name": "stdout",
     "output_type": "stream",
     "text": [
      "0 100\n"
     ]
    }
   ],
   "source": [
    "# Dictionary where new sequences are saved\n",
    "evolved_seqs = {}\n",
    "# Number of evolution iterations\n",
    "iterations = 100\n",
    "# Number of bases to mutate if the probability to 'multi-mutate' is exceeded\n",
    "nbr_bases_to_mutate = 2\n",
    "# Probability to change multiple bases in an iteration\n",
    "prob_of_multi_mutation = 0.5\n",
    "# If using the original evolution model, set seq_len to 54. That model was\n",
    "# trained on UTRs that included the first for basees of the CDS (ATGG).\n",
    "seq_len = 50\n",
    "# Choose whether or not to allow uAUGs and / or stop codons\n",
    "no_uaug = True\n",
    "no_stop = False\n",
    "\n",
    "nbr_sequences = 5\n",
    "rand_seqs = make_random_sequences(nbr_sequences, seq_len, no_uaug=True, no_stop=True)\n",
    "e_seqs = np.empty([len(rand_seqs), seq_len, 4])\n",
    "\n",
    "i = 0\n",
    "for seq in rand_seqs:\n",
    "    e_seqs[i]=vectorizeSequence(seq.lower())\n",
    "    i += 1\n",
    "\n",
    "for x in range(nbr_sequences):\n",
    "    evolved_seqs[x] = np.empty((iterations*2,2), dtype=object)\n",
    "\n",
    "for gen in range(0, iterations*2):\n",
    "    for i in range(len(e_seqs)):\n",
    "        if gen < iterations:\n",
    "            # Evolve for lowest MRL\n",
    "            target_rl = 0\n",
    "            e_seqs[i] = negative_selection(seq=e_seqs[i], model=model, scaler=scaler, target_val=target_rl, no_uaug=no_uaug,\n",
    "                                    no_stop=no_stop, nbr_bases_to_mutate=nbr_bases_to_mutate, multi_mutate_prob=prob_of_multi_mutation, seq_len=seq_len)\n",
    "        else:\n",
    "            # Evolve to highest MRL - set target_rl to arbitrarily high value\n",
    "            target_rl = 20\n",
    "            e_seqs[i] = selection(seq=e_seqs[i], model=model, scaler=scaler, target_val=target_rl,no_uaug=no_uaug,\n",
    "                                    no_stop=no_stop, nbr_bases_to_mutate=nbr_bases_to_mutate, multi_mutate_prob=prob_of_multi_mutation, seq_len=seq_len)\n",
    "    \n",
    "    for x in range(nbr_sequences):\n",
    "        evolved_seqs[x][gen, 0] = vector_to_nuc(e_seqs[x])\n",
    "        evolved_seqs[x][gen, 1] = model.predict(e_seqs).reshape(-1)[x]\n",
    "    \n",
    "    if gen % 100 == 0:\n",
    "        print gen,\n",
    "\n",
    "for x in range(nbr_sequences):\n",
    "    evolved_seqs[x][:,1] = scaler.inverse_transform(evolved_seqs[x][:, 1])"
   ]
  },
  {
   "cell_type": "markdown",
   "metadata": {},
   "source": [
    "### Plot"
   ]
  },
  {
   "cell_type": "code",
   "execution_count": 6,
   "metadata": {},
   "outputs": [
    {
     "data": {
      "image/png": "[encoded data removed]",
      "text/plain": [
       "<Figure size 288x288 with 1 Axes>"
      ]
     },
     "metadata": {
      "needs_background": "light"
     },
     "output_type": "display_data"
    }
   ],
   "source": [
    "for x in range(nbr_sequences)[:5]:\n",
    "    plt.plot(range(evolved_seqs[0].shape[0]), evolved_seqs[x][:,1])\n",
    "plt.xlabel('Generations')\n",
    "plt.ylabel('Predicted mean ribosome load')\n",
    "plt.gcf().set_size_inches((4,4))"
   ]
  },
  {
   "cell_type": "markdown",
   "metadata": {},
   "source": [
    "##### Now get rid of steps where the sequence didn't change, make a dataframe and store in a dictionary."
   ]
  },
  {
   "cell_type": "code",
   "execution_count": 7,
   "metadata": {},
   "outputs": [
    {
     "name": "stdout",
     "output_type": "stream",
     "text": [
      "286\n"
     ]
    }
   ],
   "source": [
    "wb_seqs = {}\n",
    "count = 0\n",
    "for x in range(len(evolved_seqs)):\n",
    "    tmp = pd.DataFrame(evolved_seqs[x], columns=['seq', 'pred_rl'])\n",
    "    tmp['generation'] = tmp.index\n",
    "    tmp = tmp.drop_duplicates(subset=['seq'])\n",
    "    tmp.reset_index(inplace=True, drop=True)\n",
    "    wb_seqs[x] = tmp\n",
    "    count += len(tmp)\n",
    "print count"
   ]
  },
  {
   "cell_type": "markdown",
   "metadata": {},
   "source": [
    "________________"
   ]
  },
  {
   "cell_type": "markdown",
   "metadata": {},
   "source": [
    "### Evolving random to best"
   ]
  },
  {
   "cell_type": "code",
   "execution_count": 8,
   "metadata": {
    "scrolled": true
   },
   "outputs": [
    {
     "data": {
      "text/plain": [
       "StandardScaler(copy=True, with_mean=True, with_std=True)"
      ]
     },
     "execution_count": 8,
     "metadata": {},
     "output_type": "execute_result"
    }
   ],
   "source": [
    "nbr_sequences = 20\n",
    "rand_seqs = make_random_sequences(nbr_sequences, 54, 'ATGG', no_uaug=True, no_stop=True)\n",
    "test_sequences = np.empty([len(rand_seqs),54,4])\n",
    "\n",
    "i = 0\n",
    "for seq in rand_seqs:\n",
    "    test_sequences[i]=vectorizeSequence(seq.lower())\n",
    "    i += 1\n",
    "\n",
    "scaler = preprocessing.StandardScaler()\n",
    "scaler.fit(scale_utrs['rl'].values.reshape(-1,1)) #LAE: got 1D/2D error, added .values.reshape(-1,1)"
   ]
  },
  {
   "cell_type": "code",
   "execution_count": 13,
   "metadata": {},
   "outputs": [
    {
     "name": "stdout",
     "output_type": "stream",
     "text": [
      " 0\n"
     ]
    }
   ],
   "source": [
    "# Dictionary where new sequences are saved\n",
    "evolved_seqs = {}\n",
    "# Number of evolution iterations\n",
    "iterations = 100\n",
    "# Number of bases to mutate if the probability to 'multi-mutate' is exceeded\n",
    "nbr_bases_to_mutate = 2\n",
    "# Probability to change multiple bases in an iteration\n",
    "prob_of_multi_mutation = 0.5\n",
    "# If using the original evolution model, set seq_len to 54. That model was\n",
    "# trained on UTRs that included the first for basees of the CDS (ATGG).\n",
    "seq_len = 50\n",
    "# Choose whether or not to allow uAUGs and / or stop codons\n",
    "no_uaug = True\n",
    "no_stop = False\n",
    "\n",
    "nbr_sequences = 5\n",
    "rand_seqs = make_random_sequences(nbr_sequences, seq_len, no_uaug=True, no_stop=True)\n",
    "e_seqs = np.empty([len(rand_seqs), seq_len, 4])\n",
    "\n",
    "i = 0\n",
    "for seq in rand_seqs:\n",
    "    e_seqs[i]=vectorizeSequence(seq.lower())\n",
    "    i += 1\n",
    "\n",
    "for x in range(nbr_sequences):\n",
    "    evolved_seqs[x] = np.empty((iterations,2), dtype=object)\n",
    "\n",
    "for gen in range(0, iterations):\n",
    "    for i in range(len(e_seqs)):\n",
    "        # Evolve to highest MRL - set target_rl to arbitrarily high value\n",
    "        target_rl = 20\n",
    "        e_seqs[i] = selection(seq=e_seqs[i], model=model, scaler=scaler, target_val=target_rl,no_uaug=no_uaug,\n",
    "                                no_stop=no_stop, nbr_bases_to_mutate=nbr_bases_to_mutate, multi_mutate_prob=prob_of_multi_mutation, seq_len=seq_len)\n",
    "    \n",
    "    for x in range(nbr_sequences):\n",
    "        evolved_seqs[x][gen, 0] = vector_to_nuc(e_seqs[x])\n",
    "        evolved_seqs[x][gen, 1] = model.predict(e_seqs).reshape(-1)[x]\n",
    "    \n",
    "    if gen % 100 == 0:\n",
    "        print gen,\n",
    "\n",
    "for x in range(nbr_sequences):\n",
    "    evolved_seqs[x][:,1] = scaler.inverse_transform(evolved_seqs[x][:, 1])"
   ]
  },
  {
   "cell_type": "markdown",
   "metadata": {},
   "source": [
    "### Plot"
   ]
  },
  {
   "cell_type": "code",
   "execution_count": 14,
   "metadata": {},
   "outputs": [
    {
     "data": {
      "image/png": "[encoded data removed]",
      "text/plain": [
       "<Figure size 288x288 with 1 Axes>"
      ]
     },
     "metadata": {
      "needs_background": "light"
     },
     "output_type": "display_data"
    }
   ],
   "source": [
    "for x in range(nbr_sequences)[:5]:\n",
    "    plt.plot(range(evolved_seqs[0].shape[0]), evolved_seqs[x][:,1])\n",
    "plt.xlabel('Generations')\n",
    "plt.ylabel('Predicted mean ribosome load')\n",
    "plt.gcf().set_size_inches((4,4))"
   ]
  },
  {
   "cell_type": "code",
   "execution_count": 15,
   "metadata": {},
   "outputs": [
    {
     "name": "stdout",
     "output_type": "stream",
     "text": [
      "117\n"
     ]
    }
   ],
   "source": [
    "rb_seqs = {}\n",
    "count = 0\n",
    "for x in range(len(evolved_seqs)):\n",
    "    tmp = pd.DataFrame(evolved_seqs[x], columns=['seq', 'pred_rl'])\n",
    "    tmp['generation'] = tmp.index\n",
    "    tmp = tmp.drop_duplicates(subset=['seq'])\n",
    "    tmp.reset_index(inplace=True, drop=True)\n",
    "    rb_seqs[x] = tmp\n",
    "    count += len(tmp)\n",
    "print count"
   ]
  },
  {
   "cell_type": "code",
   "execution_count": null,
   "metadata": {},
   "outputs": [],
   "source": []
  }
 ],
 "metadata": {
  "kernelspec": {
   "display_name": "Python 2",
   "language": "python",
   "name": "python2"
  },
  "language_info": {
   "codemirror_mode": {
    "name": "ipython",
    "version": 2
   },
   "file_extension": ".py",
   "mimetype": "text/x-python",
   "name": "python",
   "nbconvert_exporter": "python",
   "pygments_lexer": "ipython2",
   "version": "2.7.15"
  }
 },
 "nbformat": 4,
 "nbformat_minor": 2
}
