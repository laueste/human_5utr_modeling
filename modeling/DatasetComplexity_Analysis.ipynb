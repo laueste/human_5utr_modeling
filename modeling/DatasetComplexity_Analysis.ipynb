{
 "cells": [
  {
   "cell_type": "code",
   "execution_count": 1,
   "metadata": {},
   "outputs": [
    {
     "name": "stderr",
     "output_type": "stream",
     "text": [
      "Using TensorFlow backend.\n"
     ]
    }
   ],
   "source": [
    "## Imports ##\n",
    "import RNA\n",
    "import pandas as pd\n",
    "import numpy as np\n",
    "import matplotlib.pyplot as plt\n",
    "import matplotlib.colors as colors\n",
    "import scipy.stats as stats\n",
    "import seaborn as sns\n",
    "from sklearn import preprocessing\n",
    "from Bio.Seq import Seq\n",
    "from Bio import motifs\n",
    "import random\n",
    "\n",
    "import keras\n",
    "np.random.seed(1337)\n",
    "\n",
    "from keras.preprocessing import sequence\n",
    "from keras.optimizers import RMSprop\n",
    "from keras.models import Sequential, Model\n",
    "from keras.layers.core import Dense\n",
    "from keras.layers.core import Dropout\n",
    "from keras.layers.core import Activation\n",
    "from keras.layers.core import Flatten\n",
    "from keras.layers.convolutional import Conv1D\n",
    "from keras.layers.pooling import MaxPooling1D\n",
    "from keras.layers import UpSampling1D\n",
    "\n",
    "%matplotlib inline\n",
    "\n",
    "### Parameters for plotting model results ###\n",
    "pd.set_option(\"display.max_colwidth\",100)\n",
    "sns.set(style=\"ticks\", color_codes=True)\n",
    "plt.rcParams['font.weight'] = 'normal'\n",
    "plt.rcParams['axes.labelweight'] = 'normal'\n",
    "plt.rcParams['axes.labelpad'] = 5\n",
    "plt.rcParams['axes.linewidth']= 2\n",
    "plt.rcParams['xtick.labelsize']= 14\n",
    "plt.rcParams['ytick.labelsize']= 14\n",
    "plt.rcParams['xtick.major.size'] = 6\n",
    "plt.rcParams['ytick.major.size'] = 6\n",
    "plt.rcParams['xtick.minor.size'] = 3\n",
    "plt.rcParams['ytick.minor.size'] = 3\n",
    "plt.rcParams['xtick.minor.width'] = 1\n",
    "plt.rcParams['ytick.minor.width'] = 1\n",
    "plt.rcParams['xtick.major.width'] = 2\n",
    "plt.rcParams['ytick.major.width'] = 2\n",
    "plt.rcParams['xtick.color'] = 'black'\n",
    "plt.rcParams['ytick.color'] = 'black'\n",
    "plt.rcParams['axes.labelcolor'] = 'black'\n",
    "plt.rcParams['axes.edgecolor'] = 'black'"
   ]
  },
  {
   "cell_type": "code",
   "execution_count": 2,
   "metadata": {},
   "outputs": [],
   "source": [
    "## Read in Sequence Data\n",
    "\n",
    "# Raw Data\n",
    "#df = pd.read_pickle('../data/egfp_unmod_1.pkl')  #LAE: do not have this pickle file...?\n",
    "df = pd.read_csv('../data/egfp_unmod_1.csv',index_col=0)\n",
    "df.sort_values('total_reads', inplace=True, ascending=False)\n",
    "df.reset_index(inplace=True, drop=True)\n",
    "df = df.iloc[:280000]"
   ]
  },
  {
   "cell_type": "code",
   "execution_count": 3,
   "metadata": {},
   "outputs": [
    {
     "name": "stdout",
     "output_type": "stream",
     "text": [
      "9999\n",
      "19999\n",
      "29999\n",
      "39999\n",
      "49999\n",
      "59999\n",
      "69999\n",
      "79999\n",
      "89999\n",
      "99999\n",
      "109999\n",
      "119999\n",
      "129999\n",
      "139999\n",
      "149999\n",
      "159999\n",
      "169999\n",
      "179999\n",
      "189999\n",
      "199999\n",
      "209999\n",
      "219999\n",
      "229999\n",
      "239999\n",
      "249999\n",
      "259999\n",
      "269999\n",
      "279999\n"
     ]
    }
   ],
   "source": [
    "## Attempt to Calculate Dataset Entropy Using 8-Mers\n",
    "# 8mers are the functional unit of the author's CNN model (looks at 1 8mer at a time)\n",
    "# so see how entropic this dataset is in terms of 8mer distribution?\n",
    "# ** This doesn't get at length distributions, or the associated MRL values. Likely a better way exists...\n",
    "\n",
    "all_sequences = df['utr'].values\n",
    "dict_8mers = {}\n",
    "\n",
    "for j,s in enumerate(all_sequences):\n",
    "    for i in range(len(s)-7):\n",
    "        ss = s[i:i+8]\n",
    "        dict_8mers[ss] = dict_8mers.get(ss, 0) + 1\n",
    "    if (j+1) % 10000 == 0:\n",
    "        print j"
   ]
  },
  {
   "cell_type": "code",
   "execution_count": 4,
   "metadata": {},
   "outputs": [],
   "source": [
    "df_8mers = pd.DataFrame([{ 'utr':s, 'count':n} for s,n in dict_8mers.items()])\n",
    "df_8mers.to_csv('./saved_data/8mer_counts.csv')"
   ]
  },
  {
   "cell_type": "code",
   "execution_count": 5,
   "metadata": {},
   "outputs": [],
   "source": [
    "from math import log"
   ]
  },
  {
   "cell_type": "code",
   "execution_count": 6,
   "metadata": {},
   "outputs": [
    {
     "name": "stdout",
     "output_type": "stream",
     "text": [
      "449.402861699 bits of entropy, computed in units of 8mers\n"
     ]
    }
   ],
   "source": [
    "## Compute dataset informational entropy on an 8mer basis\n",
    "\n",
    "# function is H(X) = - sum_over_all_x( P(x)*log_2(P(x) )   bits\n",
    "\n",
    "h_entropy = 0\n",
    "\n",
    "for s,count in dict_8mers.items():\n",
    "    prob_s = count / 280000.0\n",
    "    h_entropy += prob_s * log(prob_s,2) \n",
    "\n",
    "h_entropy *= -1\n",
    "\n",
    "print h_entropy, 'bits of entropy, computed in units of 8mers'"
   ]
  },
  {
   "cell_type": "markdown",
   "metadata": {},
   "source": [
    "## Data Autoencoding"
   ]
  },
  {
   "cell_type": "code",
   "execution_count": 7,
   "metadata": {},
   "outputs": [],
   "source": [
    "## Split into Train, Validation, and Test Datasets\n",
    "\n",
    "# Stay sorted by read count, at least for now\n",
    "\n",
    "# The test set has 25k sequences\n",
    "# The validation set has 15k sequences \n",
    "# The train set has 230k sequences\n",
    "test = df[:25000].copy()\n",
    "validate = df[25000:40000].copy()\n",
    "train = df[40000:280000].copy()\n",
    "\n",
    "# Scale the label (column name = 'rl') for each dataset independently, to avoid info leakage\n",
    "test['scaled_rl'] = preprocessing.StandardScaler().fit_transform(test['rl'].values.reshape(-1,1))\n",
    "validate['scaled_rl'] = preprocessing.StandardScaler().fit_transform(validate['rl'].values.reshape(-1,1))\n",
    "train['scaled_rl'] = preprocessing.StandardScaler().fit_transform(train['rl'].values.reshape(-1,1))\n",
    "\n",
    "# Label the datasets\n",
    "test['dataset'] = 'test'\n",
    "validate['dataset'] = 'validate'\n",
    "train['dataset'] = 'train'"
   ]
  },
  {
   "cell_type": "code",
   "execution_count": 8,
   "metadata": {},
   "outputs": [],
   "source": [
    "def one_hot_encode(seqs,add_context=False):\n",
    "    # Dictionary returning one-hot encoding of nucleotides. \n",
    "    nuc_d = {'A':[1,0,0,0],'C':[0,1,0,0],'G':[0,0,1,0],'T':[0,0,0,1], 'N':[0,0,0,0]}\n",
    "    \n",
    "    if add_context:\n",
    "        seqs = [ upstream_constant[-25:]+s+eGFP[:25] for s in seqs ]\n",
    "    \n",
    "    # Creat empty matrix.\n",
    "    vectors=np.empty([len(seqs),len(seqs[0]),4])\n",
    "    \n",
    "    # Encode sequences\n",
    "    for i,seq in enumerate(seqs):\n",
    "        a = [ nuc_d[bp] for bp in seq ]\n",
    "        vectors[i] = a\n",
    "    \n",
    "    return vectors\n",
    "\n",
    "def r2(x,y):\n",
    "    slope, intercept, r_value, p_value, std_err = stats.linregress(x,y)\n",
    "    return r_value**2"
   ]
  },
  {
   "cell_type": "code",
   "execution_count": 9,
   "metadata": {},
   "outputs": [],
   "source": [
    "x_train = one_hot_encode(train['utr'].values)\n",
    "x_valid = one_hot_encode(validate['utr'].values)\n",
    "x_test = one_hot_encode(test['utr'].values)"
   ]
  },
  {
   "cell_type": "code",
   "execution_count": 10,
   "metadata": {},
   "outputs": [
    {
     "name": "stderr",
     "output_type": "stream",
     "text": [
      "WARNING: Logging before flag parsing goes to stderr.\n",
      "W1023 14:06:03.953371 4473021888 deprecation_wrapper.py:119] From /usr/local/lib/python2.7/site-packages/keras/backend/tensorflow_backend.py:74: The name tf.get_default_graph is deprecated. Please use tf.compat.v1.get_default_graph instead.\n",
      "\n",
      "W1023 14:06:03.968111 4473021888 deprecation_wrapper.py:119] From /usr/local/lib/python2.7/site-packages/keras/backend/tensorflow_backend.py:517: The name tf.placeholder is deprecated. Please use tf.compat.v1.placeholder instead.\n",
      "\n",
      "W1023 14:06:03.971187 4473021888 deprecation_wrapper.py:119] From /usr/local/lib/python2.7/site-packages/keras/backend/tensorflow_backend.py:4138: The name tf.random_uniform is deprecated. Please use tf.random.uniform instead.\n",
      "\n",
      "W1023 14:06:04.013513 4473021888 deprecation_wrapper.py:119] From /usr/local/lib/python2.7/site-packages/keras/backend/tensorflow_backend.py:3976: The name tf.nn.max_pool is deprecated. Please use tf.nn.max_pool2d instead.\n",
      "\n"
     ]
    },
    {
     "name": "stdout",
     "output_type": "stream",
     "text": [
      "_________________________________________________________________\n",
      "Layer (type)                 Output Shape              Param #   \n",
      "=================================================================\n",
      "conv1d_1 (Conv1D)            (None, 50, 20)            660       \n",
      "_________________________________________________________________\n",
      "max_pooling1d_1 (MaxPooling1 (None, 10, 20)            0         \n",
      "_________________________________________________________________\n",
      "conv1d_2 (Conv1D)            (None, 10, 10)            1610      \n",
      "_________________________________________________________________\n",
      "conv1d_3 (Conv1D)            (None, 10, 20)            1620      \n",
      "_________________________________________________________________\n",
      "up_sampling1d_1 (UpSampling1 (None, 50, 20)            0         \n",
      "_________________________________________________________________\n",
      "conv1d_4 (Conv1D)            (None, 50, 4)             644       \n",
      "=================================================================\n",
      "Total params: 4,534\n",
      "Trainable params: 4,534\n",
      "Non-trainable params: 0\n",
      "_________________________________________________________________\n"
     ]
    }
   ],
   "source": [
    "# Small Autoencoder\n",
    "\n",
    "small_auto = Sequential()\n",
    "# Encoder\n",
    "small_auto.add(Conv1D(filters=20,kernel_size=8, \n",
    "                      activation=\"relu\", input_shape=(50, 4), padding=\"same\")) \n",
    "small_auto.add(MaxPooling1D(pool_size=5,padding=\"same\")) \n",
    "small_auto.add(Conv1D(filters=10,kernel_size=8,\n",
    "                      activation=\"relu\", padding=\"same\")) \n",
    "# Decoder\n",
    "small_auto.add(Conv1D(filters=20,kernel_size=8,\n",
    "                      activation=\"relu\", padding=\"same\")) \n",
    "small_auto.add(UpSampling1D(size=5))\n",
    "small_auto.add(Conv1D(filters=4,kernel_size=8,\n",
    "                      activation=\"sigmoid\", padding=\"same\")) \n",
    "\n",
    "small_auto.summary()"
   ]
  },
  {
   "cell_type": "code",
   "execution_count": 12,
   "metadata": {},
   "outputs": [
    {
     "name": "stderr",
     "output_type": "stream",
     "text": [
      "/usr/local/lib/python2.7/site-packages/ipykernel_launcher.py:1: UserWarning: Update your `Model` call to the Keras 2 API: `Model(outputs=Tensor(\"co..., inputs=[<tf.Tenso...)`\n",
      "  \"\"\"Entry point for launching an IPython kernel.\n"
     ]
    }
   ],
   "source": [
    "small_encoder = Model(inputs=small_auto.inputs,output=small_auto.get_layer(\"conv1d_2\").output)"
   ]
  },
  {
   "cell_type": "code",
   "execution_count": 13,
   "metadata": {},
   "outputs": [
    {
     "name": "stderr",
     "output_type": "stream",
     "text": [
      "W1023 14:06:16.969810 4473021888 deprecation_wrapper.py:119] From /usr/local/lib/python2.7/site-packages/keras/optimizers.py:790: The name tf.train.Optimizer is deprecated. Please use tf.compat.v1.train.Optimizer instead.\n",
      "\n",
      "W1023 14:06:16.991705 4473021888 deprecation_wrapper.py:119] From /usr/local/lib/python2.7/site-packages/keras/backend/tensorflow_backend.py:3376: The name tf.log is deprecated. Please use tf.math.log instead.\n",
      "\n",
      "W1023 14:06:16.996956 4473021888 deprecation.py:323] From /usr/local/lib/python2.7/site-packages/tensorflow/python/ops/nn_impl.py:180: where (from tensorflow.python.ops.array_ops) is deprecated and will be removed in a future version.\n",
      "Instructions for updating:\n",
      "Use tf.where in 2.0, which has the same broadcast rule as np.where\n",
      "W1023 14:06:17.215668 4473021888 deprecation_wrapper.py:119] From /usr/local/lib/python2.7/site-packages/keras/backend/tensorflow_backend.py:986: The name tf.assign_add is deprecated. Please use tf.compat.v1.assign_add instead.\n",
      "\n"
     ]
    },
    {
     "name": "stdout",
     "output_type": "stream",
     "text": [
      "Train on 240000 samples, validate on 25000 samples\n",
      "Epoch 1/10\n",
      "240000/240000 [==============================] - 23s 96us/step - loss: 0.4077 - val_loss: 0.3712\n",
      "Epoch 2/10\n",
      "240000/240000 [==============================] - 23s 96us/step - loss: 0.3374 - val_loss: 0.3269\n",
      "Epoch 3/10\n",
      "240000/240000 [==============================] - 21s 88us/step - loss: 0.3032 - val_loss: 0.2994\n",
      "Epoch 4/10\n",
      "240000/240000 [==============================] - 22s 93us/step - loss: 0.2831 - val_loss: 0.2856\n",
      "Epoch 5/10\n",
      "240000/240000 [==============================] - 21s 87us/step - loss: 0.2742 - val_loss: 0.2793\n",
      "Epoch 6/10\n",
      "240000/240000 [==============================] - 22s 91us/step - loss: 0.2691 - val_loss: 0.2754\n",
      "Epoch 7/10\n",
      "240000/240000 [==============================] - 22s 93us/step - loss: 0.2655 - val_loss: 0.2725\n",
      "Epoch 8/10\n",
      "240000/240000 [==============================] - 18s 77us/step - loss: 0.2627 - val_loss: 0.2692\n",
      "Epoch 9/10\n",
      "240000/240000 [==============================] - 21s 89us/step - loss: 0.2603 - val_loss: 0.2673\n",
      "Epoch 10/10\n",
      "240000/240000 [==============================] - 20s 84us/step - loss: 0.2584 - val_loss: 0.2652\n"
     ]
    },
    {
     "data": {
      "text/plain": [
       "<keras.callbacks.History at 0x12b93c9d0>"
      ]
     },
     "execution_count": 13,
     "metadata": {},
     "output_type": "execute_result"
    }
   ],
   "source": [
    "np.random.seed(1338)\n",
    "small_auto.compile(optimizer='adam', loss='binary_crossentropy')\n",
    "small_auto.fit(x_train, x_train,\n",
    "                epochs=10,\n",
    "                batch_size=128,\n",
    "                validation_data=(x_test, x_test))"
   ]
  },
  {
   "cell_type": "code",
   "execution_count": 14,
   "metadata": {},
   "outputs": [
    {
     "data": {
      "text/plain": [
       "(<Figure size 576x288 with 1 Axes>,\n",
       " <matplotlib.axes._subplots.AxesSubplot at 0x12c7fc850>)"
      ]
     },
     "execution_count": 14,
     "metadata": {},
     "output_type": "execute_result"
    },
    {
     "data": {
      "image/png": "[encoded data removed]",
      "text/plain": [
       "<Figure size 576x288 with 1 Axes>"
      ]
     },
     "metadata": {
      "needs_background": "light"
     },
     "output_type": "display_data"
    }
   ],
   "source": [
    "def display_latest_train_history(model):\n",
    "    # can do for accuracy as well; check model.history.history.keys() to see what params were recorded\n",
    "    # summarize history for loss\n",
    "    fig,ax = plt.subplots(figsize=(8,4))\n",
    "    ax.plot(model.history.history['loss'],color='b',marker='o')\n",
    "    ax.plot(model.history.history['val_loss'],color='r',marker='o')\n",
    "    ax.set_title('Model Loss During Training')\n",
    "    ax.set_ylabel('Loss')\n",
    "    ax.set_xlabel('Epoch')\n",
    "    ax.legend(['Train Set', 'Validation Set'], loc='upper left')\n",
    "    return fig,ax\n",
    "display_latest_train_history(small_auto)"
   ]
  },
  {
   "cell_type": "code",
   "execution_count": 15,
   "metadata": {},
   "outputs": [
    {
     "data": {
      "image/png": "[encoded data removed]",
      "text/plain": [
       "<Figure size 1296x288 with 6 Axes>"
      ]
     },
     "metadata": {
      "needs_background": "light"
     },
     "output_type": "display_data"
    }
   ],
   "source": [
    "num_seqs = 2\n",
    "np.random.seed(42)\n",
    "random_test_seqs = np.random.randint(x_test.shape[0], size=num_seqs)\n",
    "\n",
    "encoded_seqs = small_encoder.predict(x_test)\n",
    "decoded_seqs = small_auto.predict(x_test)\n",
    "\n",
    "plt.figure(figsize=(18, 4))\n",
    "\n",
    "for i, seq_ind in enumerate(random_test_seqs):\n",
    "    # plot original sequence\n",
    "    ax = plt.subplot(3, num_seqs, i + 1)\n",
    "    plt.imshow(x_test[seq_ind].transpose())\n",
    "    plt.gray()\n",
    "    ax.get_xaxis().set_visible(False)\n",
    "    ax.get_yaxis().set_visible(False)\n",
    "    \n",
    "    # plot encoded sequence\n",
    "    ax = plt.subplot(3, num_seqs, num_seqs + i + 1)\n",
    "    plt.imshow(encoded_seqs[seq_ind].transpose())\n",
    "    plt.viridis()\n",
    "    ax.get_xaxis().set_visible(False)\n",
    "    ax.get_yaxis().set_visible(False)\n",
    "\n",
    "    # plot reconstructed sequence\n",
    "    ax = plt.subplot(3, num_seqs, 2*num_seqs + i + 1)\n",
    "    plt.imshow(decoded_seqs[seq_ind].transpose()) #.reshape(50,4)\n",
    "    plt.gray()\n",
    "    ax.get_xaxis().set_visible(False)\n",
    "    ax.get_yaxis().set_visible(False)\n",
    "plt.show()"
   ]
  },
  {
   "cell_type": "code",
   "execution_count": null,
   "metadata": {},
   "outputs": [],
   "source": []
  },
  {
   "cell_type": "code",
   "execution_count": null,
   "metadata": {},
   "outputs": [],
   "source": []
  },
  {
   "cell_type": "code",
   "execution_count": null,
   "metadata": {},
   "outputs": [],
   "source": []
  },
  {
   "cell_type": "code",
   "execution_count": 24,
   "metadata": {},
   "outputs": [
    {
     "name": "stdout",
     "output_type": "stream",
     "text": [
      "_________________________________________________________________\n",
      "Layer (type)                 Output Shape              Param #   \n",
      "=================================================================\n",
      "conv1d_35 (Conv1D)           (None, 50, 60)            1980      \n",
      "_________________________________________________________________\n",
      "max_pooling1d_11 (MaxPooling (None, 10, 60)            0         \n",
      "_________________________________________________________________\n",
      "conv1d_36 (Conv1D)           (None, 10, 30)            14430     \n",
      "_________________________________________________________________\n",
      "conv1d_37 (Conv1D)           (None, 10, 10)            2410      \n",
      "_________________________________________________________________\n",
      "conv1d_38 (Conv1D)           (None, 10, 10)            810       \n",
      "_________________________________________________________________\n",
      "conv1d_39 (Conv1D)           (None, 10, 30)            2430      \n",
      "_________________________________________________________________\n",
      "up_sampling1d_10 (UpSampling (None, 50, 30)            0         \n",
      "_________________________________________________________________\n",
      "conv1d_40 (Conv1D)           (None, 50, 60)            14460     \n",
      "_________________________________________________________________\n",
      "conv1d_41 (Conv1D)           (None, 50, 4)             1924      \n",
      "=================================================================\n",
      "Total params: 38,444\n",
      "Trainable params: 38,444\n",
      "Non-trainable params: 0\n",
      "_________________________________________________________________\n"
     ]
    }
   ],
   "source": [
    "# Large Autoencoder\n",
    "\n",
    "auto = Sequential()\n",
    "# Encoder\n",
    "auto.add(Conv1D(filters=60,kernel_size=8, \n",
    "                      activation=\"relu\", input_shape=(50, 4), padding=\"same\")) \n",
    "auto.add(MaxPooling1D(pool_size=5,padding=\"same\")) \n",
    "auto.add(Conv1D(filters=30,kernel_size=8,\n",
    "                      activation=\"relu\", padding=\"same\")) \n",
    "#auto.add(MaxPooling1D(pool_size=5,padding=\"same\")) \n",
    "auto.add(Conv1D(filters=10,kernel_size=8,\n",
    "                      activation=\"relu\", padding=\"same\")) \n",
    "\n",
    "# Decoder\n",
    "auto.add(Conv1D(filters=10,kernel_size=8,\n",
    "                      activation=\"relu\", padding=\"same\")) \n",
    "#auto.add(UpSampling1D(size=2))\n",
    "auto.add(Conv1D(filters=30,kernel_size=8,\n",
    "                      activation=\"relu\", padding=\"same\")) \n",
    "auto.add(UpSampling1D(size=5))\n",
    "auto.add(Conv1D(filters=60,kernel_size=8,\n",
    "                      activation=\"relu\", padding=\"same\")) \n",
    "auto.add(Conv1D(filters=4,kernel_size=8,\n",
    "                      activation=\"sigmoid\", padding=\"same\"))\n",
    "\n",
    "\n",
    "auto.summary()"
   ]
  },
  {
   "cell_type": "code",
   "execution_count": 25,
   "metadata": {},
   "outputs": [],
   "source": [
    "encoder = Model(inputs=auto.inputs,outputs=auto.get_layer('conv1d_37').output)"
   ]
  },
  {
   "cell_type": "code",
   "execution_count": 26,
   "metadata": {},
   "outputs": [
    {
     "name": "stdout",
     "output_type": "stream",
     "text": [
      "Train on 240000 samples, validate on 25000 samples\n",
      "Epoch 1/10\n",
      "240000/240000 [==============================] - 72s 302us/step - loss: 0.3944 - val_loss: 0.3089\n",
      "Epoch 2/10\n",
      "240000/240000 [==============================] - 53s 220us/step - loss: 0.2566 - val_loss: 0.2269\n",
      "Epoch 3/10\n",
      "240000/240000 [==============================] - 59s 244us/step - loss: 0.1973 - val_loss: 0.1873\n",
      "Epoch 4/10\n",
      "240000/240000 [==============================] - 59s 246us/step - loss: 0.1651 - val_loss: 0.1614\n",
      "Epoch 5/10\n",
      "240000/240000 [==============================] - 59s 246us/step - loss: 0.1520 - val_loss: 0.3009\n",
      "Epoch 6/10\n",
      "240000/240000 [==============================] - 59s 246us/step - loss: 0.2124 - val_loss: 0.1829\n",
      "Epoch 7/10\n",
      "240000/240000 [==============================] - 59s 247us/step - loss: 0.2057 - val_loss: 0.2053\n",
      "Epoch 8/10\n",
      "240000/240000 [==============================] - 59s 247us/step - loss: 0.1818 - val_loss: 0.1721\n",
      "Epoch 9/10\n",
      "240000/240000 [==============================] - 60s 251us/step - loss: 0.1515 - val_loss: 0.1512\n",
      "Epoch 10/10\n",
      "240000/240000 [==============================] - 59s 247us/step - loss: 0.1394 - val_loss: 0.1393\n"
     ]
    },
    {
     "data": {
      "text/plain": [
       "<keras.callbacks.History at 0x12ed49850>"
      ]
     },
     "execution_count": 26,
     "metadata": {},
     "output_type": "execute_result"
    }
   ],
   "source": [
    "np.random.seed(1338)\n",
    "auto.compile(optimizer='adam', loss='binary_crossentropy')\n",
    "auto.fit(x_train, x_train,\n",
    "                epochs=10,\n",
    "                batch_size=128,\n",
    "                validation_data=(x_test, x_test))"
   ]
  },
  {
   "cell_type": "code",
   "execution_count": 27,
   "metadata": {},
   "outputs": [
    {
     "data": {
      "text/plain": [
       "(<Figure size 576x288 with 1 Axes>,\n",
       " <matplotlib.axes._subplots.AxesSubplot at 0x12e1e2d90>)"
      ]
     },
     "execution_count": 27,
     "metadata": {},
     "output_type": "execute_result"
    },
    {
     "data": {
      "image/png": "[encoded data removed]",
      "text/plain": [
       "<Figure size 576x288 with 1 Axes>"
      ]
     },
     "metadata": {
      "needs_background": "light"
     },
     "output_type": "display_data"
    }
   ],
   "source": [
    "display_latest_train_history(auto)"
   ]
  },
  {
   "cell_type": "code",
   "execution_count": 28,
   "metadata": {},
   "outputs": [
    {
     "data": {
      "image/png": "[encoded data removed]",
      "text/plain": [
       "<Figure size 1296x288 with 9 Axes>"
      ]
     },
     "metadata": {
      "needs_background": "light"
     },
     "output_type": "display_data"
    }
   ],
   "source": [
    "num_seqs = 3\n",
    "np.random.seed(42)\n",
    "random_test_seqs = np.random.randint(x_test.shape[0], size=num_seqs)\n",
    "\n",
    "encoded_seqs = encoder.predict(x_test)\n",
    "decoded_seqs = auto.predict(x_test)\n",
    "\n",
    "plt.figure(figsize=(18, 4))\n",
    "\n",
    "for i, seq_ind in enumerate(random_test_seqs):\n",
    "    # plot original sequence\n",
    "    ax = plt.subplot(3, num_seqs, i + 1)\n",
    "    plt.imshow(x_test[seq_ind].transpose())\n",
    "    plt.gray()\n",
    "    ax.get_xaxis().set_visible(False)\n",
    "    ax.get_yaxis().set_visible(False)\n",
    "    \n",
    "    # plot encoded sequence\n",
    "    ax = plt.subplot(3, num_seqs, num_seqs + i + 1)\n",
    "    plt.imshow(encoded_seqs[seq_ind].transpose())\n",
    "    plt.viridis()\n",
    "    ax.get_xaxis().set_visible(False)\n",
    "    ax.get_yaxis().set_visible(False)\n",
    "\n",
    "    # plot reconstructed sequence\n",
    "    ax = plt.subplot(3, num_seqs, 2*num_seqs + i + 1)\n",
    "    plt.imshow(decoded_seqs[seq_ind].transpose()) #.reshape(50,4)\n",
    "    plt.gray()\n",
    "    ax.get_xaxis().set_visible(False)\n",
    "    ax.get_yaxis().set_visible(False)\n",
    "plt.show()"
   ]
  },
  {
   "cell_type": "code",
   "execution_count": null,
   "metadata": {},
   "outputs": [],
   "source": []
  }
 ],
 "metadata": {
  "kernelspec": {
   "display_name": "Python 2",
   "language": "python",
   "name": "python2"
  },
  "language_info": {
   "codemirror_mode": {
    "name": "ipython",
    "version": 2
   },
   "file_extension": ".py",
   "mimetype": "text/x-python",
   "name": "python",
   "nbconvert_exporter": "python",
   "pygments_lexer": "ipython2",
   "version": "2.7.15"
  }
 },
 "nbformat": 4,
 "nbformat_minor": 2
}
