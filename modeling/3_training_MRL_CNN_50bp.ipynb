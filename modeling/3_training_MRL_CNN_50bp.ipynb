{
 "cells": [
  {
   "cell_type": "code",
   "execution_count": 1,
   "metadata": {},
   "outputs": [
    {
     "name": "stderr",
     "output_type": "stream",
     "text": [
      "Using TensorFlow backend.\n"
     ]
    }
   ],
   "source": [
    "import RNA\n",
    "import pandas as pd\n",
    "import numpy as np\n",
    "import matplotlib.pyplot as plt\n",
    "import matplotlib.colors as colors\n",
    "import scipy.stats as stats\n",
    "import seaborn as sns\n",
    "from sklearn import preprocessing\n",
    "from Bio.Seq import Seq\n",
    "from Bio import motifs\n",
    "import random\n",
    "\n",
    "import keras\n",
    "np.random.seed(1337)\n",
    "\n",
    "from keras.preprocessing import sequence\n",
    "from keras.optimizers import RMSprop\n",
    "from keras.models import Sequential\n",
    "from keras.layers.core import Dense\n",
    "from keras.layers.core import Dropout\n",
    "from keras.layers.core import Activation\n",
    "from keras.layers.core import Flatten\n",
    "from keras.layers.convolutional import Conv1D\n",
    "\n",
    "%matplotlib inline\n",
    "\n",
    "### Parameters for plotting model results ###\n",
    "pd.set_option(\"display.max_colwidth\",100)\n",
    "sns.set(style=\"ticks\", color_codes=True)\n",
    "plt.rcParams['font.weight'] = 'normal'\n",
    "plt.rcParams['axes.labelweight'] = 'normal'\n",
    "plt.rcParams['axes.labelpad'] = 5\n",
    "plt.rcParams['axes.linewidth']= 2\n",
    "plt.rcParams['xtick.labelsize']= 14\n",
    "plt.rcParams['ytick.labelsize']= 14\n",
    "plt.rcParams['xtick.major.size'] = 6\n",
    "plt.rcParams['ytick.major.size'] = 6\n",
    "plt.rcParams['xtick.minor.size'] = 3\n",
    "plt.rcParams['ytick.minor.size'] = 3\n",
    "plt.rcParams['xtick.minor.width'] = 1\n",
    "plt.rcParams['ytick.minor.width'] = 1\n",
    "plt.rcParams['xtick.major.width'] = 2\n",
    "plt.rcParams['ytick.major.width'] = 2\n",
    "plt.rcParams['xtick.color'] = 'black'\n",
    "plt.rcParams['ytick.color'] = 'black'\n",
    "plt.rcParams['axes.labelcolor'] = 'black'\n",
    "plt.rcParams['axes.edgecolor'] = 'black'\n",
    "\n",
    "\n",
    "def train_model(x, y, border_mode='same', inp_len=50, nodes=40, layers=3, filter_len=8, nbr_filters=120,\n",
    "                dropout1=0, dropout2=0, dropout3=0, nb_epoch=3):\n",
    "    ''' Build model archicture and fit.'''\n",
    "    model = Sequential()\n",
    "    if layers >= 1:\n",
    "        model.add(Conv1D(activation=\"relu\", input_shape=(inp_len, 4), padding=border_mode, filters=nbr_filters, kernel_size=filter_len))\n",
    "    if layers >= 2:\n",
    "        model.add(Conv1D(activation=\"relu\", input_shape=(inp_len, 1), padding=border_mode, filters=nbr_filters, kernel_size=filter_len))\n",
    "        model.add(Dropout(dropout1))\n",
    "    if layers >= 3:\n",
    "        model.add(Conv1D(activation=\"relu\", input_shape=(inp_len, 1), padding=border_mode, filters=nbr_filters, kernel_size=filter_len))\n",
    "        model.add(Dropout(dropout2))\n",
    "    model.add(Flatten())\n",
    "\n",
    "    model.add(Dense(nodes))\n",
    "    model.add(Activation('relu'))\n",
    "    model.add(Dropout(dropout3))\n",
    "    \n",
    "    model.add(Dense(1))\n",
    "    model.add(Activation('linear'))\n",
    "\n",
    "    #compile the model\n",
    "    adam = keras.optimizers.Adam(lr=0.001, beta_1=0.9, beta_2=0.999, epsilon=1e-08)\n",
    "    model.compile(loss='mean_squared_error', optimizer=adam)\n",
    "\n",
    "    model.fit(x, y, batch_size=128, epochs=nb_epoch, verbose=1)\n",
    "    return model\n",
    "\n",
    "\n",
    "def test_data(df, model, test_seq, obs_col, output_col='pred'):\n",
    "    '''Predict mean ribosome load using model and test set UTRs'''\n",
    "    \n",
    "    # Scale the test set mean ribosome load\n",
    "    scaler = preprocessing.StandardScaler()\n",
    "    scaler.fit(df[obs_col].values.reshape(-1,1))   #LAE: .values added, pd deprecation\n",
    "    \n",
    "    # Make predictions\n",
    "    predictions = model.predict(test_seq).reshape(-1)\n",
    "    \n",
    "    # Inverse scaled predicted mean ribosome load and return in a column labeled 'pred'\n",
    "    df.loc[:,output_col] = scaler.inverse_transform(predictions)\n",
    "    return df\n",
    "\n",
    "\n",
    "def one_hot_encode(df, col='utr', seq_len=50):\n",
    "    # Dictionary returning one-hot encoding of nucleotides. \n",
    "    nuc_d = {'a':[1,0,0,0],'c':[0,1,0,0],'g':[0,0,1,0],'t':[0,0,0,1], 'n':[0,0,0,0]}\n",
    "    \n",
    "    # Creat empty matrix.\n",
    "    vectors=np.empty([len(df),seq_len,4])\n",
    "    \n",
    "    # Iterate through UTRs and one-hot encode\n",
    "    for i,seq in enumerate(df[col].str[:seq_len]): \n",
    "        seq = seq.lower()\n",
    "        a = np.array([nuc_d[x] for x in seq])\n",
    "        vectors[i] = a\n",
    "    return vectors\n",
    "\n",
    "\n",
    "def r2(x,y):\n",
    "    slope, intercept, r_value, p_value, std_err = stats.linregress(x,y)\n",
    "    return r_value**2"
   ]
  },
  {
   "cell_type": "markdown",
   "metadata": {},
   "source": [
    "### Load data, make a train and test set based on total reads per UTR\n",
    "The test set contains UTRs with the highest overall sequencing reads with the idea that increased reads will more accurately reflect the true ribosome load of a given 5'UTR."
   ]
  },
  {
   "cell_type": "code",
   "execution_count": 2,
   "metadata": {},
   "outputs": [
    {
     "name": "stderr",
     "output_type": "stream",
     "text": [
      "/usr/local/lib/python2.7/site-packages/pandas/core/indexing.py:362: SettingWithCopyWarning: \n",
      "A value is trying to be set on a copy of a slice from a DataFrame.\n",
      "Try using .loc[row_indexer,col_indexer] = value instead\n",
      "\n",
      "See the caveats in the documentation: http://pandas.pydata.org/pandas-docs/stable/indexing.html#indexing-view-versus-copy\n",
      "  self.obj[key] = _infer_fill_value(value)\n",
      "/usr/local/lib/python2.7/site-packages/pandas/core/indexing.py:543: SettingWithCopyWarning: \n",
      "A value is trying to be set on a copy of a slice from a DataFrame.\n",
      "Try using .loc[row_indexer,col_indexer] = value instead\n",
      "\n",
      "See the caveats in the documentation: http://pandas.pydata.org/pandas-docs/stable/indexing.html#indexing-view-versus-copy\n",
      "  self.obj[item] = s\n"
     ]
    }
   ],
   "source": [
    "#df = pd.read_pickle('../data/egfp_unmod_1.pkl')  #LAE: do not have this pickle file...?\n",
    "df = pd.read_csv('../data/egfp_unmod_1.csv')\n",
    "df.sort_values('total_reads', inplace=True, ascending=False)\n",
    "df.reset_index(inplace=True, drop=True)\n",
    "df = df.iloc[:280000]\n",
    "\n",
    "# The training set has 260k UTRs and the test set has 20k UTRs.\n",
    "e_test = df.iloc[:20000]\n",
    "e_train = df.iloc[20000:]\n",
    "\n",
    "# One-hot encode both training and test UTRs\n",
    "seq_e_train = one_hot_encode(e_train,seq_len=50)\n",
    "seq_e_test = one_hot_encode(e_test, seq_len=50)\n",
    "\n",
    "# Scale the training mean ribosome load values\n",
    "# LAE: added .values before reshape due to pandas naming deprecation\n",
    "e_train.loc[:,'scaled_rl'] = preprocessing.StandardScaler().fit_transform(e_train.loc[:,'rl'].values.reshape(-1,1))"
   ]
  },
  {
   "cell_type": "markdown",
   "metadata": {},
   "source": [
    "### Train model\n",
    "Using the author's parameters, but vary in the number of filters, number of layers, and increase the filter length to 30+ in order to try and capture long-range interactions"
   ]
  },
  {
   "cell_type": "code",
   "execution_count": 171,
   "metadata": {},
   "outputs": [],
   "source": [
    "# model = train_model(seq_e_train, e_train['scaled_rl'], nb_epoch=3,border_mode='same',\n",
    "#                     inp_len=50, nodes=40, layers=3, nbr_filters=30, filter_len=50, dropout1=0,\n",
    "#                     dropout2=0,dropout3=0.2)"
   ]
  },
  {
   "cell_type": "code",
   "execution_count": null,
   "metadata": {},
   "outputs": [],
   "source": [
    "# e_test = test_data(df=e_test, model=model, obs_col='rl',test_seq=seq_e_test)\n",
    "# r = r2(e_test['rl'], e_test['pred'])\n",
    "# print 'r-squared = ', r\n",
    "# print 'r-squared of original model = 0.9338...'"
   ]
  },
  {
   "cell_type": "code",
   "execution_count": null,
   "metadata": {},
   "outputs": [],
   "source": [
    "#model.save('./saved_models/long_range_model_50bp.hdf5')"
   ]
  },
  {
   "cell_type": "markdown",
   "metadata": {},
   "source": [
    "### How important is the size of the model? \n",
    "Does reducing its size only lose a small amount of r-squared, like with the 8-bp window CNN? That might seem to indicate that the total information content available is limited, but maybe that's not the correct interpretation...?"
   ]
  },
  {
   "cell_type": "code",
   "execution_count": 5,
   "metadata": {},
   "outputs": [
    {
     "name": "stdout",
     "output_type": "stream",
     "text": [
      "Epoch 1/3\n",
      "260000/260000 [==============================] - 37s 141us/step - loss: 0.4924\n",
      "Epoch 2/3\n",
      "260000/260000 [==============================] - 36s 139us/step - loss: 0.2403\n",
      "Epoch 3/3\n",
      "260000/260000 [==============================] - 35s 135us/step - loss: 0.1724\n"
     ]
    }
   ],
   "source": [
    "# np.random.seed(1337)\n",
    "# small_model = train_model(seq_e_train, e_train['scaled_rl'], nb_epoch=3,border_mode='same',\n",
    "#                     inp_len=50, nodes=40, layers=3, nbr_filters=5, filter_len=50, dropout1=0,\n",
    "#                     dropout2=0,dropout3=0.2)"
   ]
  },
  {
   "cell_type": "code",
   "execution_count": 3,
   "metadata": {},
   "outputs": [],
   "source": [
    "# e_test_small = test_data(df=e_test.copy(), model=small_model, obs_col='rl',test_seq=seq_e_test)\n",
    "# r = r2(e_test_small['rl'], e_test_small['pred'])\n",
    "# print 'r-squared = ', r"
   ]
  },
  {
   "cell_type": "code",
   "execution_count": 10,
   "metadata": {},
   "outputs": [],
   "source": [
    "#model.save('./saved_models/long_range_model_50bp_small.hdf5')"
   ]
  },
  {
   "cell_type": "markdown",
   "metadata": {},
   "source": [
    "## Visualizing Model Results"
   ]
  },
  {
   "cell_type": "code",
   "execution_count": 4,
   "metadata": {},
   "outputs": [
    {
     "name": "stderr",
     "output_type": "stream",
     "text": [
      "WARNING: Logging before flag parsing goes to stderr.\n",
      "W0822 12:57:35.674617 4690392512 deprecation_wrapper.py:119] From /usr/local/lib/python2.7/site-packages/keras/backend/tensorflow_backend.py:517: The name tf.placeholder is deprecated. Please use tf.compat.v1.placeholder instead.\n",
      "\n",
      "W0822 12:57:35.701009 4690392512 deprecation_wrapper.py:119] From /usr/local/lib/python2.7/site-packages/keras/backend/tensorflow_backend.py:4138: The name tf.random_uniform is deprecated. Please use tf.random.uniform instead.\n",
      "\n",
      "W0822 12:57:35.827963 4690392512 deprecation_wrapper.py:119] From /usr/local/lib/python2.7/site-packages/keras/backend/tensorflow_backend.py:131: The name tf.get_default_graph is deprecated. Please use tf.compat.v1.get_default_graph instead.\n",
      "\n",
      "W0822 12:57:35.833188 4690392512 deprecation_wrapper.py:119] From /usr/local/lib/python2.7/site-packages/keras/backend/tensorflow_backend.py:133: The name tf.placeholder_with_default is deprecated. Please use tf.compat.v1.placeholder_with_default instead.\n",
      "\n",
      "W0822 12:57:35.854979 4690392512 deprecation.py:506] From /usr/local/lib/python2.7/site-packages/keras/backend/tensorflow_backend.py:3445: calling dropout (from tensorflow.python.ops.nn_ops) with keep_prob is deprecated and will be removed in a future version.\n",
      "Instructions for updating:\n",
      "Please use `rate` instead of `keep_prob`. Rate should be set to `rate = 1 - keep_prob`.\n",
      "W0822 12:57:35.980257 4690392512 deprecation_wrapper.py:119] From /usr/local/lib/python2.7/site-packages/keras/backend/tensorflow_backend.py:174: The name tf.get_default_session is deprecated. Please use tf.compat.v1.get_default_session instead.\n",
      "\n",
      "W0822 12:57:36.160831 4690392512 deprecation_wrapper.py:119] From /usr/local/lib/python2.7/site-packages/keras/optimizers.py:790: The name tf.train.Optimizer is deprecated. Please use tf.compat.v1.train.Optimizer instead.\n",
      "\n"
     ]
    }
   ],
   "source": [
    "model = keras.models.load_model('./saved_models/long_range_model_50bp.hdf5')"
   ]
  },
  {
   "cell_type": "code",
   "execution_count": 5,
   "metadata": {},
   "outputs": [
    {
     "name": "stdout",
     "output_type": "stream",
     "text": [
      "r-squared =  0.9314214048210052\n"
     ]
    }
   ],
   "source": [
    "e_test = test_data(df=e_test.copy(), model=model, obs_col='rl',test_seq=seq_e_test)\n",
    "r = r2(e_test['rl'], e_test['pred'])\n",
    "print 'r-squared = ', r"
   ]
  },
  {
   "cell_type": "code",
   "execution_count": 6,
   "metadata": {},
   "outputs": [
    {
     "name": "stdout",
     "output_type": "stream",
     "text": [
      "Number of utrs with ATG: 13986\n",
      "Number of utrs without ATG: 6014\n"
     ]
    }
   ],
   "source": [
    "atg = e_test[e_test['utr'].apply(lambda x: 'ATG' in x)]\n",
    "n_atg = e_test[e_test['utr'].apply(lambda x: 'ATG' not in x)]\n",
    "print \"Number of utrs with ATG:\", len(atg)\n",
    "print \"Number of utrs without ATG:\", len(n_atg)"
   ]
  },
  {
   "cell_type": "code",
   "execution_count": 6,
   "metadata": {},
   "outputs": [
    {
     "name": "stderr",
     "output_type": "stream",
     "text": [
      "/usr/local/lib/python2.7/site-packages/seaborn/axisgrid.py:1672: UserWarning: The `size` parameter has been renamed to `height`; pleaes update your code.\n",
      "  warnings.warn(msg, UserWarning)\n"
     ]
    },
    {
     "data": {
      "image/png": "[encoded data removed]",
      "text/plain": [
       "<Figure size 504x504 with 3 Axes>"
      ]
     },
     "metadata": {
      "needs_background": "light"
     },
     "output_type": "display_data"
    }
   ],
   "source": [
    "c1 = (0.3, 0.45, 0.69)\n",
    "c2 = 'r'\n",
    "g = sns.JointGrid(x='rl', y=\"pred\", data=atg, space=0, xlim=(1,10), ylim=(0,10), ratio=6, size=7)\n",
    "g.plot_joint(plt.scatter,s=20, color=c1, linewidth=0.2, alpha='0.1', edgecolor='white')\n",
    "f = g.fig\n",
    "ax = f.gca()\n",
    "ax.set_yticks(np.arange(0,9.01, 1));\n",
    "ax.set_yticklabels(range(10),size=20);\n",
    "ax.set_xticks(np.arange(1,10.01, 1));\n",
    "ax.set_xticklabels(range(1,11),size=20);\n",
    "ax.set_ylim(0,9)\n",
    "ax.set_xlim(1,10)\n",
    "g.plot_marginals(sns.kdeplot,shade=c1, **{'linewidth':2, 'color':c1})\n",
    "g.set_axis_labels('Observed MRL', 'Predicted MRL', **{'size':22});\n",
    "\n",
    "g.x = n_atg['rl'].values\n",
    "g.y = n_atg['pred'].values\n",
    "g.plot_joint(plt.scatter, s=20, linewidth=0.2, alpha='0.2', color=c2, edgecolor='white')\n",
    "g.plot_marginals(sns.kdeplot, shade=c2, **{'linewidth':2, 'color':c2})\n",
    "f = g.fig"
   ]
  },
  {
   "cell_type": "markdown",
   "metadata": {},
   "source": [
    "## Are the Off-Diagonal Sequences the Same?\n",
    "\n",
    "(As compared to the authors' model, that is)"
   ]
  },
  {
   "cell_type": "code",
   "execution_count": 7,
   "metadata": {},
   "outputs": [
    {
     "data": {
      "text/plain": [
       "50"
      ]
     },
     "execution_count": 7,
     "metadata": {},
     "output_type": "execute_result"
    }
   ],
   "source": [
    "off_diagonal = e_test[(e_test['rl']<4.6)&(e_test['pred']>5.4)].sort_values(by='utr')\n",
    "off_diagonal = off_diagonal.drop(columns=['Unnamed: 0'])\n",
    "off_diagonal = off_diagonal.rename(columns={'pred':'pred_50bp'})\n",
    "len(off_diagonal)"
   ]
  },
  {
   "cell_type": "code",
   "execution_count": 8,
   "metadata": {},
   "outputs": [
    {
     "data": {
      "text/plain": [
       "48"
      ]
     },
     "execution_count": 8,
     "metadata": {},
     "output_type": "execute_result"
    }
   ],
   "source": [
    "auth_off_diagonal = pd.read_csv('../off_diagonal_utrs.csv').sort_values(by='utr')\n",
    "auth_off_diagonal = auth_off_diagonal.drop(columns=['Unnamed: 0.1','Unnamed: 0'])\n",
    "auth_off_diagonal = auth_off_diagonal.rename(columns={'pred':'pred_auth'})\n",
    "len(auth_off_diagonal)"
   ]
  },
  {
   "cell_type": "code",
   "execution_count": 9,
   "metadata": {},
   "outputs": [
    {
     "data": {
      "text/plain": [
       "50"
      ]
     },
     "execution_count": 9,
     "metadata": {},
     "output_type": "execute_result"
    }
   ],
   "source": [
    "rnn_off_diagonal = pd.read_csv('../off_diagonal_rnn_utrs.csv').sort_values(by='utr')\n",
    "rnn_off_diagonal = rnn_off_diagonal.drop(columns=['Unnamed: 0'])\n",
    "rnn_off_diagonal = rnn_off_diagonal.rename(columns={'pred':'pred_rnn'})\n",
    "len(rnn_off_diagonal)"
   ]
  },
  {
   "cell_type": "code",
   "execution_count": 10,
   "metadata": {},
   "outputs": [],
   "source": [
    "set_50bp = set(off_diagonal['utr'].values)\n",
    "set_auth = set(auth_off_diagonal['utr'].values)\n",
    "set_rnn = set(rnn_off_diagonal['utr'].values)"
   ]
  },
  {
   "cell_type": "code",
   "execution_count": 11,
   "metadata": {},
   "outputs": [
    {
     "data": {
      "text/plain": [
       "45"
      ]
     },
     "execution_count": 11,
     "metadata": {},
     "output_type": "execute_result"
    }
   ],
   "source": [
    "set_shared = set_50bp.intersection(set_auth).intersection(set_rnn)\n",
    "len(set_shared)"
   ]
  },
  {
   "cell_type": "code",
   "execution_count": 12,
   "metadata": {},
   "outputs": [
    {
     "data": {
      "text/html": [
       "<div>\n",
       "<style scoped>\n",
       "    .dataframe tbody tr th:only-of-type {\n",
       "        vertical-align: middle;\n",
       "    }\n",
       "\n",
       "    .dataframe tbody tr th {\n",
       "        vertical-align: top;\n",
       "    }\n",
       "\n",
       "    .dataframe thead th {\n",
       "        text-align: right;\n",
       "    }\n",
       "</style>\n",
       "<table border=\"1\" class=\"dataframe\">\n",
       "  <thead>\n",
       "    <tr style=\"text-align: right;\">\n",
       "      <th></th>\n",
       "      <th>utr</th>\n",
       "      <th>0</th>\n",
       "      <th>1</th>\n",
       "      <th>2</th>\n",
       "      <th>3</th>\n",
       "      <th>4</th>\n",
       "      <th>5</th>\n",
       "      <th>6</th>\n",
       "      <th>7</th>\n",
       "      <th>8</th>\n",
       "      <th>...</th>\n",
       "      <th>r8</th>\n",
       "      <th>r9</th>\n",
       "      <th>r10</th>\n",
       "      <th>r11</th>\n",
       "      <th>r12</th>\n",
       "      <th>r13</th>\n",
       "      <th>rl</th>\n",
       "      <th>pred_50bp</th>\n",
       "      <th>pred_auth</th>\n",
       "      <th>pred_rnn</th>\n",
       "    </tr>\n",
       "  </thead>\n",
       "  <tbody>\n",
       "    <tr>\n",
       "      <th>0</th>\n",
       "      <td>AAACGCGGTGGATCACGGCCAGCTAGAGGGCGAAGGCGTCCTTCCACCAG</td>\n",
       "      <td>0.000031</td>\n",
       "      <td>0.000027</td>\n",
       "      <td>0.000013</td>\n",
       "      <td>0.000009</td>\n",
       "      <td>0.000007</td>\n",
       "      <td>0.000004</td>\n",
       "      <td>0.000003</td>\n",
       "      <td>0.000003</td>\n",
       "      <td>0.000004</td>\n",
       "      <td>...</td>\n",
       "      <td>0.030310</td>\n",
       "      <td>0.017522</td>\n",
       "      <td>0.033050</td>\n",
       "      <td>0.033050</td>\n",
       "      <td>0.026678</td>\n",
       "      <td>0.034121</td>\n",
       "      <td>3.237970</td>\n",
       "      <td>5.849938</td>\n",
       "      <td>5.670214</td>\n",
       "      <td>6.179446</td>\n",
       "    </tr>\n",
       "    <tr>\n",
       "      <th>1</th>\n",
       "      <td>ACAAAAACATTGACATGATCGGATACAGGCGGCGTACGGCATGCGCTACC</td>\n",
       "      <td>0.000030</td>\n",
       "      <td>0.000032</td>\n",
       "      <td>0.000024</td>\n",
       "      <td>0.000016</td>\n",
       "      <td>0.000008</td>\n",
       "      <td>0.000007</td>\n",
       "      <td>0.000004</td>\n",
       "      <td>0.000004</td>\n",
       "      <td>0.000004</td>\n",
       "      <td>...</td>\n",
       "      <td>0.025049</td>\n",
       "      <td>0.024521</td>\n",
       "      <td>0.045485</td>\n",
       "      <td>0.045485</td>\n",
       "      <td>0.032901</td>\n",
       "      <td>0.031797</td>\n",
       "      <td>3.715876</td>\n",
       "      <td>6.207780</td>\n",
       "      <td>5.623970</td>\n",
       "      <td>6.539258</td>\n",
       "    </tr>\n",
       "    <tr>\n",
       "      <th>2</th>\n",
       "      <td>AGCTTACTGAACCTGGTCGTGGAGGTATGCAGGAGGTATGTGCATGCCTG</td>\n",
       "      <td>0.000034</td>\n",
       "      <td>0.000036</td>\n",
       "      <td>0.000025</td>\n",
       "      <td>0.000013</td>\n",
       "      <td>0.000009</td>\n",
       "      <td>0.000009</td>\n",
       "      <td>0.000005</td>\n",
       "      <td>0.000006</td>\n",
       "      <td>0.000005</td>\n",
       "      <td>...</td>\n",
       "      <td>0.030538</td>\n",
       "      <td>0.026672</td>\n",
       "      <td>0.043827</td>\n",
       "      <td>0.043827</td>\n",
       "      <td>0.042533</td>\n",
       "      <td>0.051309</td>\n",
       "      <td>4.065457</td>\n",
       "      <td>5.787129</td>\n",
       "      <td>5.995093</td>\n",
       "      <td>6.047128</td>\n",
       "    </tr>\n",
       "    <tr>\n",
       "      <th>3</th>\n",
       "      <td>ATCAGGGCTAGATTAATACGTAGCTCAGACAGTTATATTGAATCACCTGA</td>\n",
       "      <td>0.000017</td>\n",
       "      <td>0.000019</td>\n",
       "      <td>0.000017</td>\n",
       "      <td>0.000009</td>\n",
       "      <td>0.000005</td>\n",
       "      <td>0.000005</td>\n",
       "      <td>0.000003</td>\n",
       "      <td>0.000003</td>\n",
       "      <td>0.000005</td>\n",
       "      <td>...</td>\n",
       "      <td>0.046429</td>\n",
       "      <td>0.033113</td>\n",
       "      <td>0.043098</td>\n",
       "      <td>0.043098</td>\n",
       "      <td>0.048786</td>\n",
       "      <td>0.057706</td>\n",
       "      <td>4.411140</td>\n",
       "      <td>7.409012</td>\n",
       "      <td>7.143446</td>\n",
       "      <td>7.101318</td>\n",
       "    </tr>\n",
       "    <tr>\n",
       "      <th>4</th>\n",
       "      <td>CAATAGGCAGGTGCGCGCTACGCGCGGGATTCCTAGACCACTCGGTCAAT</td>\n",
       "      <td>0.000035</td>\n",
       "      <td>0.000026</td>\n",
       "      <td>0.000013</td>\n",
       "      <td>0.000007</td>\n",
       "      <td>0.000005</td>\n",
       "      <td>0.000004</td>\n",
       "      <td>0.000003</td>\n",
       "      <td>0.000003</td>\n",
       "      <td>0.000002</td>\n",
       "      <td>...</td>\n",
       "      <td>0.014933</td>\n",
       "      <td>0.025135</td>\n",
       "      <td>0.019118</td>\n",
       "      <td>0.019118</td>\n",
       "      <td>0.024517</td>\n",
       "      <td>0.026212</td>\n",
       "      <td>2.677383</td>\n",
       "      <td>6.840362</td>\n",
       "      <td>6.863350</td>\n",
       "      <td>6.812460</td>\n",
       "    </tr>\n",
       "    <tr>\n",
       "      <th>5</th>\n",
       "      <td>CACCGAGTCTTGCGGCCTAAATCCGTAGGGGTCTGGGTCCACGATTGTCC</td>\n",
       "      <td>0.000036</td>\n",
       "      <td>0.000031</td>\n",
       "      <td>0.000018</td>\n",
       "      <td>0.000009</td>\n",
       "      <td>0.000006</td>\n",
       "      <td>0.000007</td>\n",
       "      <td>0.000004</td>\n",
       "      <td>0.000004</td>\n",
       "      <td>0.000004</td>\n",
       "      <td>...</td>\n",
       "      <td>0.025882</td>\n",
       "      <td>0.026299</td>\n",
       "      <td>0.035648</td>\n",
       "      <td>0.035648</td>\n",
       "      <td>0.031976</td>\n",
       "      <td>0.037537</td>\n",
       "      <td>3.450179</td>\n",
       "      <td>6.618365</td>\n",
       "      <td>6.479451</td>\n",
       "      <td>6.480992</td>\n",
       "    </tr>\n",
       "    <tr>\n",
       "      <th>6</th>\n",
       "      <td>CACTCGTATACATATAACACGCAAATTGCTGTATCCATAAACAACGCAGT</td>\n",
       "      <td>0.000018</td>\n",
       "      <td>0.000019</td>\n",
       "      <td>0.000014</td>\n",
       "      <td>0.000007</td>\n",
       "      <td>0.000004</td>\n",
       "      <td>0.000004</td>\n",
       "      <td>0.000003</td>\n",
       "      <td>0.000004</td>\n",
       "      <td>0.000003</td>\n",
       "      <td>...</td>\n",
       "      <td>0.034665</td>\n",
       "      <td>0.044169</td>\n",
       "      <td>0.042853</td>\n",
       "      <td>0.042853</td>\n",
       "      <td>0.048468</td>\n",
       "      <td>0.039709</td>\n",
       "      <td>4.127045</td>\n",
       "      <td>7.523306</td>\n",
       "      <td>7.445688</td>\n",
       "      <td>7.339086</td>\n",
       "    </tr>\n",
       "    <tr>\n",
       "      <th>7</th>\n",
       "      <td>CAGCAGCGAGTGTCTGGCCGCGTTCAGGTAAAGGCGTAAACAACGCTCAG</td>\n",
       "      <td>0.000021</td>\n",
       "      <td>0.000022</td>\n",
       "      <td>0.000014</td>\n",
       "      <td>0.000007</td>\n",
       "      <td>0.000004</td>\n",
       "      <td>0.000005</td>\n",
       "      <td>0.000004</td>\n",
       "      <td>0.000004</td>\n",
       "      <td>0.000003</td>\n",
       "      <td>...</td>\n",
       "      <td>0.026501</td>\n",
       "      <td>0.031449</td>\n",
       "      <td>0.034996</td>\n",
       "      <td>0.034996</td>\n",
       "      <td>0.037160</td>\n",
       "      <td>0.046735</td>\n",
       "      <td>3.807885</td>\n",
       "      <td>6.988488</td>\n",
       "      <td>6.925332</td>\n",
       "      <td>6.839564</td>\n",
       "    </tr>\n",
       "    <tr>\n",
       "      <th>8</th>\n",
       "      <td>CAGTACCCGACGTGGGAAATTAACATACCATTGGACCCTTCCCACGTCAA</td>\n",
       "      <td>0.000027</td>\n",
       "      <td>0.000025</td>\n",
       "      <td>0.000015</td>\n",
       "      <td>0.000008</td>\n",
       "      <td>0.000006</td>\n",
       "      <td>0.000005</td>\n",
       "      <td>0.000004</td>\n",
       "      <td>0.000003</td>\n",
       "      <td>0.000003</td>\n",
       "      <td>...</td>\n",
       "      <td>0.029426</td>\n",
       "      <td>0.032772</td>\n",
       "      <td>0.041309</td>\n",
       "      <td>0.041309</td>\n",
       "      <td>0.038650</td>\n",
       "      <td>0.034648</td>\n",
       "      <td>3.701647</td>\n",
       "      <td>6.905163</td>\n",
       "      <td>6.924004</td>\n",
       "      <td>6.824212</td>\n",
       "    </tr>\n",
       "    <tr>\n",
       "      <th>9</th>\n",
       "      <td>CAGTCGGTAGATAAAGACCACACAGGCACCTGTCACCCGCTGCGTACCTC</td>\n",
       "      <td>0.000021</td>\n",
       "      <td>0.000023</td>\n",
       "      <td>0.000016</td>\n",
       "      <td>0.000007</td>\n",
       "      <td>0.000005</td>\n",
       "      <td>0.000005</td>\n",
       "      <td>0.000004</td>\n",
       "      <td>0.000004</td>\n",
       "      <td>0.000004</td>\n",
       "      <td>...</td>\n",
       "      <td>0.035963</td>\n",
       "      <td>0.038392</td>\n",
       "      <td>0.046187</td>\n",
       "      <td>0.046187</td>\n",
       "      <td>0.035746</td>\n",
       "      <td>0.039692</td>\n",
       "      <td>4.020205</td>\n",
       "      <td>6.783804</td>\n",
       "      <td>6.855105</td>\n",
       "      <td>6.806893</td>\n",
       "    </tr>\n",
       "  </tbody>\n",
       "</table>\n",
       "<p>10 rows × 35 columns</p>\n",
       "</div>"
      ],
      "text/plain": [
       "                                                  utr         0         1  \\\n",
       "0  AAACGCGGTGGATCACGGCCAGCTAGAGGGCGAAGGCGTCCTTCCACCAG  0.000031  0.000027   \n",
       "1  ACAAAAACATTGACATGATCGGATACAGGCGGCGTACGGCATGCGCTACC  0.000030  0.000032   \n",
       "2  AGCTTACTGAACCTGGTCGTGGAGGTATGCAGGAGGTATGTGCATGCCTG  0.000034  0.000036   \n",
       "3  ATCAGGGCTAGATTAATACGTAGCTCAGACAGTTATATTGAATCACCTGA  0.000017  0.000019   \n",
       "4  CAATAGGCAGGTGCGCGCTACGCGCGGGATTCCTAGACCACTCGGTCAAT  0.000035  0.000026   \n",
       "5  CACCGAGTCTTGCGGCCTAAATCCGTAGGGGTCTGGGTCCACGATTGTCC  0.000036  0.000031   \n",
       "6  CACTCGTATACATATAACACGCAAATTGCTGTATCCATAAACAACGCAGT  0.000018  0.000019   \n",
       "7  CAGCAGCGAGTGTCTGGCCGCGTTCAGGTAAAGGCGTAAACAACGCTCAG  0.000021  0.000022   \n",
       "8  CAGTACCCGACGTGGGAAATTAACATACCATTGGACCCTTCCCACGTCAA  0.000027  0.000025   \n",
       "9  CAGTCGGTAGATAAAGACCACACAGGCACCTGTCACCCGCTGCGTACCTC  0.000021  0.000023   \n",
       "\n",
       "          2         3         4         5         6         7         8  ...  \\\n",
       "0  0.000013  0.000009  0.000007  0.000004  0.000003  0.000003  0.000004  ...   \n",
       "1  0.000024  0.000016  0.000008  0.000007  0.000004  0.000004  0.000004  ...   \n",
       "2  0.000025  0.000013  0.000009  0.000009  0.000005  0.000006  0.000005  ...   \n",
       "3  0.000017  0.000009  0.000005  0.000005  0.000003  0.000003  0.000005  ...   \n",
       "4  0.000013  0.000007  0.000005  0.000004  0.000003  0.000003  0.000002  ...   \n",
       "5  0.000018  0.000009  0.000006  0.000007  0.000004  0.000004  0.000004  ...   \n",
       "6  0.000014  0.000007  0.000004  0.000004  0.000003  0.000004  0.000003  ...   \n",
       "7  0.000014  0.000007  0.000004  0.000005  0.000004  0.000004  0.000003  ...   \n",
       "8  0.000015  0.000008  0.000006  0.000005  0.000004  0.000003  0.000003  ...   \n",
       "9  0.000016  0.000007  0.000005  0.000005  0.000004  0.000004  0.000004  ...   \n",
       "\n",
       "         r8        r9       r10       r11       r12       r13        rl  \\\n",
       "0  0.030310  0.017522  0.033050  0.033050  0.026678  0.034121  3.237970   \n",
       "1  0.025049  0.024521  0.045485  0.045485  0.032901  0.031797  3.715876   \n",
       "2  0.030538  0.026672  0.043827  0.043827  0.042533  0.051309  4.065457   \n",
       "3  0.046429  0.033113  0.043098  0.043098  0.048786  0.057706  4.411140   \n",
       "4  0.014933  0.025135  0.019118  0.019118  0.024517  0.026212  2.677383   \n",
       "5  0.025882  0.026299  0.035648  0.035648  0.031976  0.037537  3.450179   \n",
       "6  0.034665  0.044169  0.042853  0.042853  0.048468  0.039709  4.127045   \n",
       "7  0.026501  0.031449  0.034996  0.034996  0.037160  0.046735  3.807885   \n",
       "8  0.029426  0.032772  0.041309  0.041309  0.038650  0.034648  3.701647   \n",
       "9  0.035963  0.038392  0.046187  0.046187  0.035746  0.039692  4.020205   \n",
       "\n",
       "   pred_50bp  pred_auth  pred_rnn  \n",
       "0   5.849938   5.670214  6.179446  \n",
       "1   6.207780   5.623970  6.539258  \n",
       "2   5.787129   5.995093  6.047128  \n",
       "3   7.409012   7.143446  7.101318  \n",
       "4   6.840362   6.863350  6.812460  \n",
       "5   6.618365   6.479451  6.480992  \n",
       "6   7.523306   7.445688  7.339086  \n",
       "7   6.988488   6.925332  6.839564  \n",
       "8   6.905163   6.924004  6.824212  \n",
       "9   6.783804   6.855105  6.806893  \n",
       "\n",
       "[10 rows x 35 columns]"
      ]
     },
     "execution_count": 12,
     "metadata": {},
     "output_type": "execute_result"
    }
   ],
   "source": [
    "z = off_diagonal[off_diagonal['utr'].isin(set_shared)].set_index('utr')\n",
    "w = auth_off_diagonal[auth_off_diagonal['utr'].isin(set_shared)].set_index('utr')\n",
    "u = rnn_off_diagonal[rnn_off_diagonal['utr'].isin(set_shared)].set_index('utr')\n",
    "shared_off_diagonals = pd.concat([z,w['pred_auth'],u['pred_rnn']],axis=1)\n",
    "shared_off_diagonals = shared_off_diagonals.reset_index()\n",
    "shared_off_diagonals.head(3)"
   ]
  },
  {
   "cell_type": "code",
   "execution_count": 13,
   "metadata": {},
   "outputs": [],
   "source": [
    "shared_off_diagonals.to_csv('../off_diagonal_utrs_shared.csv')"
   ]
  },
  {
   "cell_type": "code",
   "execution_count": null,
   "metadata": {},
   "outputs": [],
   "source": []
  }
 ],
 "metadata": {
  "kernelspec": {
   "display_name": "Python 2",
   "language": "python",
   "name": "python2"
  },
  "language_info": {
   "codemirror_mode": {
    "name": "ipython",
    "version": 2
   },
   "file_extension": ".py",
   "mimetype": "text/x-python",
   "name": "python",
   "nbconvert_exporter": "python",
   "pygments_lexer": "ipython2",
   "version": "2.7.15"
  }
 },
 "nbformat": 4,
 "nbformat_minor": 2
}
