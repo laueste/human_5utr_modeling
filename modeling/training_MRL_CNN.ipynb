{
 "cells": [
  {
   "cell_type": "code",
   "execution_count": 46,
   "metadata": {},
   "outputs": [],
   "source": [
    "import pandas as pd\n",
    "import numpy as np\n",
    "import matplotlib.pyplot as plt\n",
    "import scipy.stats as stats\n",
    "import seaborn as sns\n",
    "from sklearn import preprocessing\n",
    "from Bio.Seq import Seq\n",
    "from Bio import motifs\n",
    "import random\n",
    "\n",
    "import keras\n",
    "np.random.seed(1337)\n",
    "\n",
    "from keras.preprocessing import sequence\n",
    "from keras.optimizers import RMSprop\n",
    "from keras.models import Sequential\n",
    "from keras.layers.core import Dense\n",
    "from keras.layers.core import Dropout\n",
    "from keras.layers.core import Activation\n",
    "from keras.layers.core import Flatten\n",
    "from keras.layers.convolutional import Conv1D\n",
    "\n",
    "%matplotlib inline\n",
    "\n",
    "### Parameters for plotting model results ###\n",
    "pd.set_option(\"display.max_colwidth\",100)\n",
    "sns.set(style=\"ticks\", color_codes=True)\n",
    "plt.rcParams['font.weight'] = 'normal'\n",
    "plt.rcParams['axes.labelweight'] = 'normal'\n",
    "plt.rcParams['axes.labelpad'] = 5\n",
    "plt.rcParams['axes.linewidth']= 2\n",
    "plt.rcParams['xtick.labelsize']= 14\n",
    "plt.rcParams['ytick.labelsize']= 14\n",
    "plt.rcParams['xtick.major.size'] = 6\n",
    "plt.rcParams['ytick.major.size'] = 6\n",
    "plt.rcParams['xtick.minor.size'] = 3\n",
    "plt.rcParams['ytick.minor.size'] = 3\n",
    "plt.rcParams['xtick.minor.width'] = 1\n",
    "plt.rcParams['ytick.minor.width'] = 1\n",
    "plt.rcParams['xtick.major.width'] = 2\n",
    "plt.rcParams['ytick.major.width'] = 2\n",
    "plt.rcParams['xtick.color'] = 'black'\n",
    "plt.rcParams['ytick.color'] = 'black'\n",
    "plt.rcParams['axes.labelcolor'] = 'black'\n",
    "plt.rcParams['axes.edgecolor'] = 'black'\n",
    "\n",
    "\n",
    "def train_model(x, y, border_mode='same', inp_len=50, nodes=40, layers=3, filter_len=8, nbr_filters=120,\n",
    "                dropout1=0, dropout2=0, dropout3=0, nb_epoch=3):\n",
    "    ''' Build model archicture and fit.'''\n",
    "    model = Sequential()\n",
    "    if layers >= 1:\n",
    "        model.add(Conv1D(activation=\"relu\", input_shape=(inp_len, 4), padding=border_mode, filters=nbr_filters, kernel_size=filter_len))\n",
    "    if layers >= 2:\n",
    "        model.add(Conv1D(activation=\"relu\", input_shape=(inp_len, 1), padding=border_mode, filters=nbr_filters, kernel_size=filter_len))\n",
    "        model.add(Dropout(dropout1))\n",
    "    if layers >= 3:\n",
    "        model.add(Conv1D(activation=\"relu\", input_shape=(inp_len, 1), padding=border_mode, filters=nbr_filters, kernel_size=filter_len))\n",
    "        model.add(Dropout(dropout2))\n",
    "    model.add(Flatten())\n",
    "\n",
    "    model.add(Dense(nodes))\n",
    "    model.add(Activation('relu'))\n",
    "    model.add(Dropout(dropout3))\n",
    "    \n",
    "    model.add(Dense(1))\n",
    "    model.add(Activation('linear'))\n",
    "\n",
    "    #compile the model\n",
    "    adam = keras.optimizers.Adam(lr=0.001, beta_1=0.9, beta_2=0.999, epsilon=1e-08)\n",
    "    model.compile(loss='mean_squared_error', optimizer=adam)\n",
    "\n",
    "    model.fit(x, y, batch_size=128, epochs=nb_epoch, verbose=1)\n",
    "    return model\n",
    "\n",
    "\n",
    "def test_data(df, model, test_seq, obs_col, output_col='pred'):\n",
    "    '''Predict mean ribosome load using model and test set UTRs'''\n",
    "    \n",
    "    # Scale the test set mean ribosome load\n",
    "    scaler = preprocessing.StandardScaler()\n",
    "    scaler.fit(df[obs_col].values.reshape(-1,1))   #LAE: .values added, pd deprecation\n",
    "    \n",
    "    # Make predictions\n",
    "    predictions = model.predict(test_seq).reshape(-1)\n",
    "    \n",
    "    # Inverse scaled predicted mean ribosome load and return in a column labeled 'pred'\n",
    "    df.loc[:,output_col] = scaler.inverse_transform(predictions)\n",
    "    return df\n",
    "\n",
    "\n",
    "def one_hot_encode(df, col='utr', seq_len=50):\n",
    "    # Dictionary returning one-hot encoding of nucleotides. \n",
    "    nuc_d = {'a':[1,0,0,0],'c':[0,1,0,0],'g':[0,0,1,0],'t':[0,0,0,1], 'n':[0,0,0,0]}\n",
    "    \n",
    "    # Creat empty matrix.\n",
    "    vectors=np.empty([len(df),seq_len,4])\n",
    "    \n",
    "    # Iterate through UTRs and one-hot encode\n",
    "    for i,seq in enumerate(df[col].str[:seq_len]): \n",
    "        seq = seq.lower()\n",
    "        a = np.array([nuc_d[x] for x in seq])\n",
    "        vectors[i] = a\n",
    "    return vectors\n",
    "\n",
    "\n",
    "def r2(x,y):\n",
    "    slope, intercept, r_value, p_value, std_err = stats.linregress(x,y)\n",
    "    return r_value**2"
   ]
  },
  {
   "cell_type": "markdown",
   "metadata": {},
   "source": [
    "### Load data, make a train and test set based on total reads per UTR\n",
    "The test set contains UTRs with the highest overall sequencing reads with the idea that increased reads will more accurately reflect the true ribosome load of a given 5'UTR."
   ]
  },
  {
   "cell_type": "code",
   "execution_count": 2,
   "metadata": {},
   "outputs": [
    {
     "name": "stderr",
     "output_type": "stream",
     "text": [
      "/usr/local/lib/python2.7/site-packages/pandas/core/indexing.py:362: SettingWithCopyWarning: \n",
      "A value is trying to be set on a copy of a slice from a DataFrame.\n",
      "Try using .loc[row_indexer,col_indexer] = value instead\n",
      "\n",
      "See the caveats in the documentation: http://pandas.pydata.org/pandas-docs/stable/indexing.html#indexing-view-versus-copy\n",
      "  self.obj[key] = _infer_fill_value(value)\n",
      "/usr/local/lib/python2.7/site-packages/pandas/core/indexing.py:543: SettingWithCopyWarning: \n",
      "A value is trying to be set on a copy of a slice from a DataFrame.\n",
      "Try using .loc[row_indexer,col_indexer] = value instead\n",
      "\n",
      "See the caveats in the documentation: http://pandas.pydata.org/pandas-docs/stable/indexing.html#indexing-view-versus-copy\n",
      "  self.obj[item] = s\n"
     ]
    }
   ],
   "source": [
    "#df = pd.read_pickle('../data/egfp_unmod_1.pkl')  #LAE: do not have this pickle file...?\n",
    "df = pd.read_csv('../data/egfp_unmod_1.csv')\n",
    "df.sort_values('total_reads', inplace=True, ascending=False)\n",
    "df.reset_index(inplace=True, drop=True)\n",
    "df = df.iloc[:280000]\n",
    "\n",
    "# The training set has 260k UTRs and the test set has 20k UTRs.\n",
    "e_test = df.iloc[:20000]\n",
    "e_train = df.iloc[20000:]\n",
    "\n",
    "# One-hot encode both training and test UTRs\n",
    "seq_e_train = one_hot_encode(e_train,seq_len=50)\n",
    "seq_e_test = one_hot_encode(e_test, seq_len=50)\n",
    "\n",
    "# Scale the training mean ribosome load values\n",
    "# LAE: added .values before reshape due to pandas naming deprecation\n",
    "e_train.loc[:,'scaled_rl'] = preprocessing.StandardScaler().fit_transform(e_train.loc[:,'rl'].values.reshape(-1,1))"
   ]
  },
  {
   "cell_type": "markdown",
   "metadata": {},
   "source": [
    "### Train model\n",
    "Using the hyperparameter-optimised values."
   ]
  },
  {
   "cell_type": "code",
   "execution_count": 3,
   "metadata": {
    "scrolled": true
   },
   "outputs": [],
   "source": [
    "# Author's Original Model: 3 layers, 120 filters per layer, filter length 8, 40 nodes in the dense layer\n",
    "# model = train_model(seq_e_train, e_train['scaled_rl'], nb_epoch=3,border_mode='same',\n",
    "#                     inp_len=50, nodes=40, layers=3, nbr_filters=120, filter_len=8, dropout1=0,\n",
    "#                     dropout2=0,dropout3=0.2)"
   ]
  },
  {
   "cell_type": "markdown",
   "metadata": {},
   "source": [
    "### Train Copy of Model for Variation Tests"
   ]
  },
  {
   "cell_type": "code",
   "execution_count": 87,
   "metadata": {},
   "outputs": [],
   "source": [
    "# Scaled-Down Test, see below!\n",
    "# model = train_model(seq_e_train, e_train['scaled_rl'], nb_epoch=3,border_mode='same',\n",
    "#                      inp_len=50, nodes=40, layers=1, nbr_filters=1, filter_len=8, dropout1=0,\n",
    "#                      dropout2=0,dropout3=0)"
   ]
  },
  {
   "cell_type": "code",
   "execution_count": 6,
   "metadata": {},
   "outputs": [
    {
     "name": "stdout",
     "output_type": "stream",
     "text": [
      "r-squared =  0.7270459621613151\n"
     ]
    }
   ],
   "source": [
    "# e_test = test_data(df=e_test, model=model, obs_col='rl',test_seq=seq_e_test)\n",
    "# r = r2(e_test['rl'], e_test['pred'])\n",
    "# print 'r-squared = ', r"
   ]
  },
  {
   "cell_type": "code",
   "execution_count": 7,
   "metadata": {},
   "outputs": [],
   "source": [
    "# name = 'one_filter_one_layer.hdf5'\n",
    "# model.save('./saved_models/'+name)"
   ]
  },
  {
   "cell_type": "markdown",
   "metadata": {},
   "source": [
    "## Analyze Model Predictive Power as Function of Network Size\n",
    "\n",
    "Just how much information is in this model? In other words, how quickly do we lose predictive power as we shrink the size of the network?\n",
    "\n",
    "Test network from 120 filters per layer to 1, from 3 layers to 1 layer."
   ]
  },
  {
   "cell_type": "code",
   "execution_count": 10,
   "metadata": {},
   "outputs": [],
   "source": [
    "# I recorded these by hand because I wanted to restart the kernel every time I re-made a model\n",
    "# in order to make sure the initializations were all done with the same random seed\n",
    "\n",
    "n_filters = [1,3,10,20,60,120]\n",
    "rsquared = [0.7402,0.8216,0.9106,0.9205,0.9307,0.9339]\n",
    "\n",
    "nf_nodrop = [1,3,10]\n",
    "rsq_nodrop = [0.7424,0.8309,0.9095]\n",
    "\n",
    "nf_onelayer = [1,3,10] #note no dropout\n",
    "rsq_onelayer = [0.7270,0.8317,0.8632]\n",
    "\n",
    "small_model_efficiency_data = pd.DataFrame({ \"N_Filters\": n_filters, \"R-squared\": rsquared })                               \n",
    "#small_model_efficiency_data.to_csv('./saved_data/small_model_data.csv')\n",
    "small_model_efficiency_data2 = pd.DataFrame({ \"N_filters\": [1,3,10], \"R-squared_NoDropout\": rsq_nodrop,\n",
    "                                            \"R-squared_NoDropout_OneLayer\": rsq_onelayer })\n",
    "#small_model_efficiency_data.to_csv('./saved_data/small_model_data2.csv')"
   ]
  },
  {
   "cell_type": "code",
   "execution_count": 95,
   "metadata": {},
   "outputs": [
    {
     "data": {
      "image/png": "[encoded data removed]",
      "text/plain": [
       "<Figure size 576x432 with 1 Axes>"
      ]
     },
     "metadata": {},
     "output_type": "display_data"
    }
   ],
   "source": [
    "fig,ax = plt.subplots(figsize=(8,6))\n",
    "ax.axhline(0.93385044762,xmax=123,xmin=0,linestyle='--',label='Reported Value: 0.934',color='black')\n",
    "ax.plot(n_filters,rsquared,marker='o',markersize=10,linestyle='None')\n",
    "ax.plot([120],[0.933850],marker='o',markersize=7,alpha=0.5,color='black')\n",
    "ax.set_xlabel(\"Number of Convolutional Filters Per Layer\",size='large')\n",
    "ax.set_ylabel(\"R-squared on Test Dataset\",size='large')\n",
    "ax.set_title(\"Model Predictive Quality As Function of Size\",size='x-large')\n",
    "ax.set_ylim(top=1.0,bottom=0.5)\n",
    "plt.legend()\n",
    "\n",
    "for x,y in zip(n_filters,rsquared):\n",
    "\n",
    "    label = \"{:.3f}\".format(y)\n",
    "\n",
    "    plt.annotate(label, # this is the text\n",
    "                 (x,y), # this is the point to label\n",
    "                 textcoords=\"offset points\", # how to position the text\n",
    "                 xytext=(0,-18), # distance from text to points (x,y)\n",
    "                 ha='center') # horizontal alignment can be left, right or center\n"
   ]
  },
  {
   "cell_type": "code",
   "execution_count": 82,
   "metadata": {},
   "outputs": [
    {
     "data": {
      "text/plain": [
       "<matplotlib.legend.Legend at 0x1275bc290>"
      ]
     },
     "execution_count": 82,
     "metadata": {},
     "output_type": "execute_result"
    },
    {
     "data": {
      "image/png": "[encoded data removed]",
      "text/plain": [
       "<Figure size 576x432 with 1 Axes>"
      ]
     },
     "metadata": {},
     "output_type": "display_data"
    }
   ],
   "source": [
    "fig,ax = plt.subplots(figsize=(8,6))\n",
    "ax.plot(n_filters[:3],rsquared[:3],marker='o',markersize=11,linestyle='None',label='0.2 dropout (L3)')\n",
    "ax.plot(nf_nodrop,rsq_nodrop,marker='*',markersize=12,linestyle='None',label='No dropout')\n",
    "ax.plot(nf_onelayer,rsq_onelayer,marker='v',markersize=10,linestyle='None',label='Single layer (no dropout)')\n",
    "ax.set_xlabel(\"Number of Convolutional Filters Per Layer\",size='large')\n",
    "ax.set_ylabel(\"R-squared on Test Dataset\",size='large')\n",
    "ax.axhline(0.93385044762,xmax=123,xmin=0,linestyle='--',label='Reported Value: 0.934',color='black')\n",
    "ax.set_title(\"Model Predictive Quality As Function of Size\",size='x-large')\n",
    "ax.set_ylim(top=0.95,bottom=0.7)\n",
    "plt.legend()"
   ]
  },
  {
   "cell_type": "markdown",
   "metadata": {},
   "source": [
    "### And now, we return to our scheduled programming..."
   ]
  },
  {
   "cell_type": "markdown",
   "metadata": {},
   "source": [
    "Evaluate model. Return predicted mean ribosome load as a dataframe column labeled 'pred'."
   ]
  },
  {
   "cell_type": "code",
   "execution_count": 62,
   "metadata": {},
   "outputs": [
    {
     "name": "stdout",
     "output_type": "stream",
     "text": [
      "r-squared =  0.7791101441250295\n"
     ]
    }
   ],
   "source": [
    "e_test = test_data(df=e_test, model=model, obs_col='rl',test_seq=seq_e_test)\n",
    "r = r2(e_test['rl'], e_test['pred'])\n",
    "print 'r-squared = ', r"
   ]
  },
  {
   "cell_type": "markdown",
   "metadata": {},
   "source": [
    "Save model"
   ]
  },
  {
   "cell_type": "code",
   "execution_count": 6,
   "metadata": {},
   "outputs": [],
   "source": [
    "#model.save('./saved_models/my_special_model.hdf5')"
   ]
  },
  {
   "cell_type": "markdown",
   "metadata": {},
   "source": [
    "### Plotting test results"
   ]
  },
  {
   "cell_type": "code",
   "execution_count": 7,
   "metadata": {},
   "outputs": [
    {
     "name": "stderr",
     "output_type": "stream",
     "text": [
      "WARNING: Logging before flag parsing goes to stderr.\n",
      "W0809 10:07:06.133291 4567111104 deprecation_wrapper.py:119] From /usr/local/lib/python2.7/site-packages/keras/backend/tensorflow_backend.py:74: The name tf.get_default_graph is deprecated. Please use tf.compat.v1.get_default_graph instead.\n",
      "\n",
      "W0809 10:07:06.182420 4567111104 deprecation_wrapper.py:119] From /usr/local/lib/python2.7/site-packages/keras/backend/tensorflow_backend.py:517: The name tf.placeholder is deprecated. Please use tf.compat.v1.placeholder instead.\n",
      "\n",
      "W0809 10:07:06.212472 4567111104 deprecation_wrapper.py:119] From /usr/local/lib/python2.7/site-packages/keras/backend/tensorflow_backend.py:4138: The name tf.random_uniform is deprecated. Please use tf.random.uniform instead.\n",
      "\n",
      "W0809 10:07:06.358632 4567111104 deprecation_wrapper.py:119] From /usr/local/lib/python2.7/site-packages/keras/backend/tensorflow_backend.py:133: The name tf.placeholder_with_default is deprecated. Please use tf.compat.v1.placeholder_with_default instead.\n",
      "\n",
      "W0809 10:07:06.366897 4567111104 deprecation.py:506] From /usr/local/lib/python2.7/site-packages/keras/backend/tensorflow_backend.py:3445: calling dropout (from tensorflow.python.ops.nn_ops) with keep_prob is deprecated and will be removed in a future version.\n",
      "Instructions for updating:\n",
      "Please use `rate` instead of `keep_prob`. Rate should be set to `rate = 1 - keep_prob`.\n",
      "W0809 10:07:06.501470 4567111104 deprecation_wrapper.py:119] From /usr/local/lib/python2.7/site-packages/keras/backend/tensorflow_backend.py:174: The name tf.get_default_session is deprecated. Please use tf.compat.v1.get_default_session instead.\n",
      "\n",
      "W0809 10:07:06.962322 4567111104 deprecation_wrapper.py:119] From /usr/local/lib/python2.7/site-packages/keras/optimizers.py:790: The name tf.train.Optimizer is deprecated. Please use tf.compat.v1.train.Optimizer instead.\n",
      "\n"
     ]
    }
   ],
   "source": [
    "model = keras.models.load_model('./saved_models/main_MRL_model.hdf5')"
   ]
  },
  {
   "cell_type": "markdown",
   "metadata": {},
   "source": [
    "## What Does the Model Structure Look Like?"
   ]
  },
  {
   "cell_type": "code",
   "execution_count": 96,
   "metadata": {},
   "outputs": [
    {
     "name": "stdout",
     "output_type": "stream",
     "text": [
      "6\n",
      "0 (8, 4, 1)\n",
      "1 (1,)\n",
      "2 (50, 40)\n",
      "3 (40,)\n",
      "4 (40, 1)\n",
      "5 (1,)\n"
     ]
    }
   ],
   "source": [
    "x = model.get_weights()\n",
    "print len(x)\n",
    "for i in range(len(x)):\n",
    "    print i, x[i].shape"
   ]
  },
  {
   "cell_type": "markdown",
   "metadata": {},
   "source": [
    "### Can we extract the actual motifs from the filters?"
   ]
  },
  {
   "cell_type": "code",
   "execution_count": 97,
   "metadata": {},
   "outputs": [
    {
     "data": {
      "text/plain": [
       "Text(0.5,1,'First Filter Visualized')"
      ]
     },
     "execution_count": 97,
     "metadata": {},
     "output_type": "execute_result"
    },
    {
     "data": {
      "image/png": "[encoded data removed]",
      "text/plain": [
       "<Figure size 432x288 with 2 Axes>"
      ]
     },
     "metadata": {},
     "output_type": "display_data"
    }
   ],
   "source": [
    "NFILTERS = 1\n",
    "filters = [x[0][:,:,i] for i in range(NFILTERS)] #layer 1 filters\n",
    "df_example = pd.DataFrame(data=filters[0])\n",
    "df_example = df_example.transpose(copy=True)\n",
    "plt.imshow(df_example,cmap='viridis') #bp position along the bottom, A/T/G/C along y axis\n",
    "plt.colorbar()\n",
    "plt.title(\"First Filter Visualized\")\n",
    "#are the ones with the highest activation the ones with AUG?\n",
    "# figure out how to decode filters into BP motifs"
   ]
  },
  {
   "cell_type": "code",
   "execution_count": 68,
   "metadata": {},
   "outputs": [
    {
     "name": "stdout",
     "output_type": "stream",
     "text": [
      "[-0.22936958] ...\n"
     ]
    }
   ],
   "source": [
    "x[1] # the relu activation parameter for each of the 120 filters\n",
    "print x[1][:10], '...'"
   ]
  },
  {
   "cell_type": "code",
   "execution_count": 69,
   "metadata": {},
   "outputs": [
    {
     "data": {
      "text/plain": [
       "Text(0.5,1,'Sorted ReLu parameters for the 1 Filters')"
      ]
     },
     "execution_count": 69,
     "metadata": {},
     "output_type": "execute_result"
    },
    {
     "data": {
      "image/png": "[encoded data removed]",
      "text/plain": [
       "<Figure size 432x288 with 1 Axes>"
      ]
     },
     "metadata": {
      "needs_background": "light"
     },
     "output_type": "display_data"
    }
   ],
   "source": [
    "plt.plot(range(NFILTERS),sorted(x[1]),marker='o',linestyle='None')\n",
    "plt.plot(range(NFILTERS),[-0.045]*NFILTERS)\n",
    "plt.title(\"Sorted ReLu parameters for the \"+str(NFILTERS)+\" Filters\")"
   ]
  },
  {
   "cell_type": "code",
   "execution_count": 48,
   "metadata": {},
   "outputs": [
    {
     "data": {
      "text/plain": [
       "Text(0.5,1,'Sorted ReLu parameters for the 10 Filters')"
      ]
     },
     "execution_count": 48,
     "metadata": {},
     "output_type": "execute_result"
    },
    {
     "data": {
      "image/png": "[encoded data removed]",
      "text/plain": [
       "<Figure size 432x288 with 1 Axes>"
      ]
     },
     "metadata": {
      "needs_background": "light"
     },
     "output_type": "display_data"
    }
   ],
   "source": [
    "plt.plot(range(NFILTERS),x[1],marker='o',linestyle='None')\n",
    "plt.plot(range(NFILTERS),[-0.045]*NFILTERS)\n",
    "plt.title(\"Sorted ReLu parameters for the \"+str(NFILTERS)+\" Filters\")\n",
    "# Note that the 10th, 9th, and 6th filters are the \"most important\" by this metric"
   ]
  },
  {
   "cell_type": "code",
   "execution_count": 50,
   "metadata": {},
   "outputs": [
    {
     "name": "stdout",
     "output_type": "stream",
     "text": [
      "0\n",
      "1\n",
      "2\n",
      "3\n",
      "4\n",
      "5\n",
      "6\n",
      "7\n",
      "8\n",
      "9\n"
     ]
    }
   ],
   "source": [
    "# Get just the filters with the highest relu weighting \n",
    "#   (actually...hmm, is lower better? point where switches to linear is lower, aka we care sooner...?)\n",
    "top_filters = []\n",
    "for i in range(NFILTERS):\n",
    "    if x[1][i] < 0.1:\n",
    "        top_filters.append({'index':i,'filter':filters[i]})\n",
    "        print i"
   ]
  },
  {
   "cell_type": "code",
   "execution_count": 70,
   "metadata": {},
   "outputs": [
    {
     "ename": "IndexError",
     "evalue": "index 4 is out of bounds for axis 0 with size 4",
     "output_type": "error",
     "traceback": [
      "\u001b[0;31m---------------------------------------------------------------------------\u001b[0m",
      "\u001b[0;31mIndexError\u001b[0m                                Traceback (most recent call last)",
      "\u001b[0;32m<ipython-input-70-8ec90449f4ca>\u001b[0m in \u001b[0;36m<module>\u001b[0;34m()\u001b[0m\n\u001b[1;32m      3\u001b[0m \u001b[0;32mfor\u001b[0m \u001b[0mj\u001b[0m\u001b[0;34m,\u001b[0m\u001b[0md\u001b[0m \u001b[0;32min\u001b[0m \u001b[0menumerate\u001b[0m\u001b[0;34m(\u001b[0m\u001b[0mtop_filters\u001b[0m\u001b[0;34m)\u001b[0m\u001b[0;34m:\u001b[0m\u001b[0;34m\u001b[0m\u001b[0m\n\u001b[1;32m      4\u001b[0m     \u001b[0;31m#ax = axes[j/3,j%3]\u001b[0m\u001b[0;34m\u001b[0m\u001b[0;34m\u001b[0m\u001b[0m\n\u001b[0;32m----> 5\u001b[0;31m     \u001b[0max\u001b[0m \u001b[0;34m=\u001b[0m \u001b[0maxes\u001b[0m\u001b[0;34m[\u001b[0m\u001b[0mj\u001b[0m\u001b[0;34m]\u001b[0m\u001b[0;34m\u001b[0m\u001b[0m\n\u001b[0m\u001b[1;32m      6\u001b[0m     \u001b[0mdata\u001b[0m \u001b[0;34m=\u001b[0m \u001b[0mnp\u001b[0m\u001b[0;34m.\u001b[0m\u001b[0mtranspose\u001b[0m\u001b[0;34m(\u001b[0m\u001b[0md\u001b[0m\u001b[0;34m[\u001b[0m\u001b[0;34m'filter'\u001b[0m\u001b[0;34m]\u001b[0m\u001b[0;34m)\u001b[0m\u001b[0;34m\u001b[0m\u001b[0m\n\u001b[1;32m      7\u001b[0m     \u001b[0mp\u001b[0m \u001b[0;34m=\u001b[0m \u001b[0max\u001b[0m\u001b[0;34m.\u001b[0m\u001b[0mimshow\u001b[0m\u001b[0;34m(\u001b[0m\u001b[0mdata\u001b[0m\u001b[0;34m,\u001b[0m\u001b[0mcmap\u001b[0m\u001b[0;34m=\u001b[0m\u001b[0;34m'viridis'\u001b[0m\u001b[0;34m)\u001b[0m \u001b[0;31m#bp position along the bottom, A/T/G/C along y axis\u001b[0m\u001b[0;34m\u001b[0m\u001b[0m\n",
      "\u001b[0;31mIndexError\u001b[0m: index 4 is out of bounds for axis 0 with size 4"
     ]
    },
    {
     "data": {
      "image/png": "[encoded data removed]",
      "text/plain": [
       "<Figure size 864x288 with 4 Axes>"
      ]
     },
     "metadata": {
      "needs_background": "light"
     },
     "output_type": "display_data"
    }
   ],
   "source": [
    "#fig,axes = plt.subplots(ncols=3,nrows=4,figsize=(12,10))\n",
    "fig,axes = plt.subplots(ncols=4,nrows=1,figsize=(12,4))\n",
    "for j,d in enumerate(top_filters):\n",
    "    #ax = axes[j/3,j%3] \n",
    "    ax = axes[j]\n",
    "    data = np.transpose(d['filter'])\n",
    "    p = ax.imshow(data,cmap='viridis') #bp position along the bottom, A/T/G/C along y axis\n",
    "    ax.set_title(\"Filter \"+str(d['index']))\n",
    "fig.colorbar(p, ax=axes)"
   ]
  },
  {
   "cell_type": "markdown",
   "metadata": {},
   "source": [
    "### What are all the 8-mers present in each dataset and the total dataset?"
   ]
  },
  {
   "cell_type": "code",
   "execution_count": 99,
   "metadata": {},
   "outputs": [
    {
     "name": "stdout",
     "output_type": "stream",
     "text": [
      "train 260000 test 20000 total 280000\n"
     ]
    }
   ],
   "source": [
    "train_seqs = e_train['utr'].values\n",
    "test_seqs = e_test['utr'].values\n",
    "all_seqs = np.concatenate((train_seqs,test_seqs),axis=0)\n",
    "print 'train', len(train_seqs), 'test', len(test_seqs), 'total', len(all_seqs)"
   ]
  },
  {
   "cell_type": "code",
   "execution_count": 100,
   "metadata": {},
   "outputs": [],
   "source": [
    "def get_8mer_counts(seqs_set,filename):\n",
    "    dict_8mers = {}\n",
    "    for i,s in enumerate(seqs_set):\n",
    "        for j in range(len(s)-8):\n",
    "            ss = s[j:j+8]\n",
    "            dict_8mers[ss] = dict_8mers.get(ss, 0) + 1\n",
    "    print 'number of unique 8mers:', len(set(dict_8mers.keys()))\n",
    "    freq_8mers = pd.DataFrame(sorted(list(dict_8mers.items()),key=lambda n: n[1],reverse=True),columns=['8mer','frequency'])\n",
    "    freq_8mers.to_csv(\"./saved_sequences/\"+filename)\n",
    "    return freq_8mers"
   ]
  },
  {
   "cell_type": "markdown",
   "metadata": {},
   "source": [
    "#### Note that 4 to the 8th is 65536, so this is the theoretical maximum of possible different 8-mers of ATGC"
   ]
  },
  {
   "cell_type": "code",
   "execution_count": 101,
   "metadata": {},
   "outputs": [
    {
     "name": "stdout",
     "output_type": "stream",
     "text": [
      "number of unique 8mers: 65536\n",
      "number of unique 8mers: 65475\n",
      "number of unique 8mers: 65536\n"
     ]
    }
   ],
   "source": [
    "train_8mers = get_8mer_counts(train_seqs,'train_8mers.csv')\n",
    "test_8mers = get_8mer_counts(test_seqs,'test_8mers.csv')\n",
    "total_8mers = get_8mer_counts(all_seqs,'total_8mers.csv')"
   ]
  },
  {
   "cell_type": "markdown",
   "metadata": {},
   "source": [
    "### Compute the Activation Value for every Filter and every 8-mer"
   ]
  },
  {
   "cell_type": "code",
   "execution_count": 102,
   "metadata": {},
   "outputs": [],
   "source": [
    "filter_pairs = [{\n",
    "    'relu_param': x[1][i],\n",
    "    'filter': filters[i],\n",
    "    'filter_index': i\n",
    "} for i in range(len(filters))]\n",
    "# each layer 1 filter paired with its relu param, for easier access"
   ]
  },
  {
   "cell_type": "code",
   "execution_count": 103,
   "metadata": {},
   "outputs": [],
   "source": [
    "# get one-hot encoding\n",
    "char_8mers_total = total_8mers['8mer'].values\n",
    "vector_8mers_total = one_hot_encode(pd.DataFrame({'utr':char_8mers_total}),seq_len=8)"
   ]
  },
  {
   "cell_type": "code",
   "execution_count": 104,
   "metadata": {},
   "outputs": [
    {
     "name": "stdout",
     "output_type": "stream",
     "text": [
      "EXAMPLE\n",
      "[[-0.04423412 -0.03056789 -0.02337213 -0.15731397]\n",
      " [ 0.4138514  -0.4790037  -0.5098691  -0.5856314 ]\n",
      " [-0.75684637 -0.5093965  -0.54213524  0.4333661 ]\n",
      " [-0.5351932  -0.6097944   0.46071097 -0.7170188 ]\n",
      " [ 0.06648428 -0.00870623  0.21625842  0.03989761]\n",
      " [-0.08476555 -0.00637645 -0.0589039  -0.16002968]\n",
      " [-0.11296977 -0.06346687 -0.01797101 -0.07175086]\n",
      " [-0.1859519  -0.11491597 -0.12361874 -0.198881  ]] filter\n",
      "[[0. 0. 1. 0.]\n",
      " [1. 0. 0. 0.]\n",
      " [1. 0. 0. 0.]\n",
      " [1. 0. 0. 0.]\n",
      " [0. 0. 1. 0.]\n",
      " [1. 0. 0. 0.]\n",
      " [1. 0. 0. 0.]\n",
      " [0. 1. 0. 0.]] 8-mer sequence\n",
      "[[-0.         -0.         -0.02337213 -0.        ]\n",
      " [ 0.41385141 -0.         -0.         -0.        ]\n",
      " [-0.75684637 -0.         -0.          0.        ]\n",
      " [-0.5351932  -0.          0.         -0.        ]\n",
      " [ 0.         -0.          0.21625842  0.        ]\n",
      " [-0.08476555 -0.         -0.         -0.        ]\n",
      " [-0.11296977 -0.         -0.         -0.        ]\n",
      " [-0.         -0.11491597 -0.         -0.        ]] element-wise multiplication\n",
      "-0.9979531727731228 summation of product matrix\n"
     ]
    }
   ],
   "source": [
    "# This is what we want to do for each filter and 8-mer combination\n",
    "print 'EXAMPLE'\n",
    "print filters[0], \"filter\"\n",
    "print vector_8mers_total[1005], \"8-mer sequence\"\n",
    "print np.multiply(filters[0],vector_8mers_total[1005]), \"element-wise multiplication\"\n",
    "print np.sum(np.multiply(filters[0],vector_8mers_total[1005])), \"summation of product matrix\""
   ]
  },
  {
   "cell_type": "code",
   "execution_count": 105,
   "metadata": {},
   "outputs": [],
   "source": [
    "relu = lambda a,r: max(0,(a-r))\n",
    "kernel = lambda f,s: np.sum(np.multiply(f,s))\n",
    "\n",
    "def compute_filter_activations(filter_pairs,df_8mers,save=False,path=''):\n",
    "    filter_results = []\n",
    "    char_8mers = df_8mers['8mer'].values\n",
    "    vector_8mers = one_hot_encode(pd.DataFrame({'utr':char_8mers}),seq_len=8)\n",
    "    for i,d in enumerate(filter_pairs):\n",
    "        f, r = d['filter'], d['relu_param']\n",
    "        outputs = [ relu(kernel(f,s),r) for s in vector_8mers ]\n",
    "        nonzero_8mer_indices = [ j for j in range(len(outputs)) if outputs[j] > 0 ]\n",
    "        df = pd.DataFrame({'8mer_index': nonzero_8mer_indices, \n",
    "                           'activation': [outputs[j] for j in nonzero_8mer_indices],\n",
    "                           'seq': [char_8mers[j] for j in nonzero_8mer_indices],\n",
    "                           'aug_count': [char_8mers[j].count('ATG') for j in nonzero_8mer_indices],\n",
    "                          })\n",
    "        filter_results.append(df.sort_values(by='activation',ascending=False).head(min(len(df),2000)))\n",
    "        if i % 20 == 0:\n",
    "            print 'filter',i\n",
    "\n",
    "    print 'Done'\n",
    "    if save == True:\n",
    "        for i,fdf in enumerate(filter_results):\n",
    "            fdf.to_csv('./saved_activations/'+path+'10filter'+format(i,'02')+'.csv')\n",
    "\n",
    "    return filter_results"
   ]
  },
  {
   "cell_type": "code",
   "execution_count": 106,
   "metadata": {},
   "outputs": [
    {
     "name": "stdout",
     "output_type": "stream",
     "text": [
      "filter 0\n",
      "Done\n",
      "filter 0\n",
      "Done\n",
      "filter 0\n",
      "Done\n"
     ]
    }
   ],
   "source": [
    "total_results = compute_filter_activations(filter_pairs,total_8mers,save=False,path='total/')\n",
    "train_results = compute_filter_activations(filter_pairs,train_8mers,save=False,path='train/')\n",
    "test_results = compute_filter_activations(filter_pairs,test_8mers,save=False,path='test/')"
   ]
  },
  {
   "cell_type": "markdown",
   "metadata": {},
   "source": [
    "### Visualize Sequence Motifs as Logos and PFM Heatmaps"
   ]
  },
  {
   "cell_type": "code",
   "execution_count": 107,
   "metadata": {},
   "outputs": [],
   "source": [
    "## Create Motif Logo Graphics\n",
    "def makeLogos(results,path,name='filter'):\n",
    "    for i,res in enumerate(results):\n",
    "        m = motifs.create([ Seq(s) for s in res['seq'].values ])\n",
    "        title = name+format(i,'02')\n",
    "        m.weblogo('./saved_logos/'+path+title+'.pdf',format='pdf',\n",
    "                  color_scheme='color_classic',show_fineprint=False,show_ends=False,logo_title=title)\n",
    "    print 'Done'"
   ]
  },
  {
   "cell_type": "code",
   "execution_count": 109,
   "metadata": {},
   "outputs": [
    {
     "name": "stdout",
     "output_type": "stream",
     "text": [
      "Done\n",
      "Done\n",
      "Done\n"
     ]
    }
   ],
   "source": [
    "makeLogos(total_results,'total/',name='1layer1filter')\n",
    "makeLogos(train_results,'train/',name='1layer11filter')\n",
    "makeLogos(test_results,'test/',name='1layer1filter')"
   ]
  },
  {
   "cell_type": "code",
   "execution_count": 43,
   "metadata": {},
   "outputs": [],
   "source": [
    "def pfm(filter_df):\n",
    "    seqs = filter_df['seq'].values\n",
    "    A = []\n",
    "    T = []\n",
    "    G = []\n",
    "    C = []\n",
    "    for i in range(8):\n",
    "        bp = ''.join([ s[i] for s in seqs])\n",
    "        A.append(bp.count('A'))\n",
    "        T.append(bp.count('T'))\n",
    "        G.append(bp.count('G'))\n",
    "        C.append(bp.count('C'))\n",
    "    return pd.DataFrame({'A':A,'T':T,'G':G,'C':C})\n",
    "    \n",
    "    \n",
    "# Question: do we want to scale the counts by the actual activation values they represent? Is that even viable?"
   ]
  },
  {
   "cell_type": "code",
   "execution_count": 44,
   "metadata": {},
   "outputs": [],
   "source": [
    "total_filter_pfms = [ pfm(f) for f in total_results ]"
   ]
  },
  {
   "cell_type": "code",
   "execution_count": 52,
   "metadata": {},
   "outputs": [
    {
     "data": {
      "text/plain": [
       "<matplotlib.colorbar.Colorbar at 0x12d253450>"
      ]
     },
     "execution_count": 52,
     "metadata": {},
     "output_type": "execute_result"
    },
    {
     "data": {
      "image/png": "[encoded data removed]",
      "text/plain": [
       "<Figure size 1152x792 with 13 Axes>"
      ]
     },
     "metadata": {
      "needs_background": "light"
     },
     "output_type": "display_data"
    }
   ],
   "source": [
    "## Raw BP Frequency Heatmaps for the 12 Most Sensitive Filters\n",
    "fig,axes = plt.subplots(ncols=3,nrows=4,figsize=(16,11))\n",
    "for j,d in enumerate(top_filters):\n",
    "    ax = axes[j/3,j%3] \n",
    "    data = np.transpose(total_filter_pfms[d['index']].values)\n",
    "    p = ax.imshow(data,cmap='viridis') #bp position along the bottom, A/T/G/C along y axis\n",
    "    ax.set_title(\"Filter \"+str(d['index']))\n",
    "    ax.set_yticks(np.arange(4))\n",
    "    ax.set_yticklabels(['A','C','G','T'],visible=True)\n",
    "fig.colorbar(p, ax=axes)"
   ]
  },
  {
   "cell_type": "markdown",
   "metadata": {},
   "source": [
    "### Count AUG Frequency in Top 2000 8-mers per sequence"
   ]
  },
  {
   "cell_type": "code",
   "execution_count": 113,
   "metadata": {},
   "outputs": [
    {
     "data": {
      "text/plain": [
       "Text(0.5,1,'Histogram of Total AUG Count in Top 2000 8mers Per Filter, Test+Train')"
      ]
     },
     "execution_count": 113,
     "metadata": {},
     "output_type": "execute_result"
    },
    {
     "data": {
      "image/png": "[encoded data removed]",
      "text/plain": [
       "<Figure size 432x288 with 1 Axes>"
      ]
     },
     "metadata": {
      "needs_background": "light"
     },
     "output_type": "display_data"
    }
   ],
   "source": [
    "aug_counts = pd.DataFrame(\n",
    "    data={ \"total_aug\":[ np.sum(f['aug_count']) for f in total_results],\n",
    "           \"filter_index\":np.arange(len(total_results)) })\n",
    "plt.hist(aug_counts['total_aug'],bins=25)\n",
    "plt.title(\"Histogram of Total AUG Count in Top 2000 8mers Per Filter, Test+Train\")"
   ]
  },
  {
   "cell_type": "code",
   "execution_count": 33,
   "metadata": {},
   "outputs": [],
   "source": [
    "top_filter_indices = [ t['index'] for t in top_filters]"
   ]
  },
  {
   "cell_type": "code",
   "execution_count": 34,
   "metadata": {},
   "outputs": [
    {
     "data": {
      "text/plain": [
       "Text(0.5,1,'Same Histogram for Just Top Filters')"
      ]
     },
     "execution_count": 34,
     "metadata": {},
     "output_type": "execute_result"
    },
    {
     "data": {
      "image/png": "[encoded data removed]",
      "text/plain": [
       "<Figure size 432x288 with 1 Axes>"
      ]
     },
     "metadata": {
      "needs_background": "light"
     },
     "output_type": "display_data"
    }
   ],
   "source": [
    "plt.hist(aug_counts[aug_counts['filter_index'].isin(top_filter_indices)]['total_aug'],bins=18)\n",
    "plt.title(\"Same Histogram for Just Top Filters\")"
   ]
  },
  {
   "cell_type": "markdown",
   "metadata": {},
   "source": [
    "### More Histograms, Stop/Start Codon Dependence\n",
    "\n",
    "is the average activation higher for the 8mers within the top 2000 that have a stop or a start?\n"
   ]
  },
  {
   "cell_type": "code",
   "execution_count": 138,
   "metadata": {},
   "outputs": [
    {
     "name": "stdout",
     "output_type": "stream",
     "text": [
      "Number of top 2000 8mers (non-unique) with AUG: 37355\n",
      "Number of top 2000 8mers (non-unique) without AUG: 202256\n"
     ]
    },
    {
     "data": {
      "image/png": "[encoded data removed]",
      "text/plain": [
       "<Figure size 432x288 with 1 Axes>"
      ]
     },
     "metadata": {
      "needs_background": "light"
     },
     "output_type": "display_data"
    }
   ],
   "source": [
    "# Make histogram of activations for sequences with AUG and without\n",
    "fig,ax = plt.subplots()\n",
    "with_start = []\n",
    "without_start = []\n",
    "for f in total_results:\n",
    "    with_start = np.concatenate((with_start,f[f['aug_count'] > 0]['activation']))\n",
    "    without_start = np.concatenate((without_start,f[f['aug_count'] == 0]['activation']),axis=0)\n",
    "ax.hist(without_start,color='blue',alpha=0.4,bins=20,label='- AUG')\n",
    "ax.hist(with_start,color='red',alpha=0.6,bins=20,label='+AUG')\n",
    "ax.axvline(np.mean(without_start),linestyle='--',color='darkblue',label='- AUG mean')\n",
    "ax.axvline(np.mean(with_start),linestyle=':',color='darkred',label='+AUG mean')\n",
    "ax.set_title(\"Histogram of Activation Values of 8mers, with Means\")\n",
    "ax.legend()\n",
    "print 'Number of top 2000 8mers (non-unique) with AUG:', len(with_start)\n",
    "print 'Number of top 2000 8mers (non-unique) without AUG:', len(without_start)"
   ]
  },
  {
   "cell_type": "code",
   "execution_count": 145,
   "metadata": {},
   "outputs": [
    {
     "name": "stdout",
     "output_type": "stream",
     "text": [
      "Number of top 2000 8mers (non-unique) with UAA/UAG: 49653\n",
      "Number of top 2000 8mers (non-unique) without UAA/UAG: 189958\n"
     ]
    },
    {
     "data": {
      "image/png": "[encoded data removed]",
      "text/plain": [
       "<Figure size 432x288 with 1 Axes>"
      ]
     },
     "metadata": {
      "needs_background": "light"
     },
     "output_type": "display_data"
    }
   ],
   "source": [
    "# Make histogram of activations for sequences with TAA/TAG and without\n",
    "hasStop = lambda s: s.count('TAA') + s.count('TAG') > 0\n",
    "fig,ax = plt.subplots()\n",
    "with_stop = []\n",
    "without_stop = []\n",
    "for f in total_results:\n",
    "    w = f[f['seq'].apply(hasStop) == True]\n",
    "    wo = f[f['seq'].apply(hasStop) == False]\n",
    "    with_stop = np.concatenate((with_stop,w['activation'])) if len(w) > 0 else with_stop\n",
    "    without_stop = np.concatenate((without_stop,wo['activation'])) if len(wo) > 0 else without_stop\n",
    "ax.hist(without_stop,color='blue',alpha=0.4,bins=20,label='- UAA/UAG')\n",
    "ax.hist(with_stop,color='red',alpha=0.6,bins=20,label='+UAA/UAG')\n",
    "ax.axvline(np.mean(without_stop),linestyle='--',color='darkblue',label='- UAA/UAG mean')\n",
    "ax.axvline(np.mean(with_stop),linestyle=':',color='darkred',label='+UAA/UAG mean')\n",
    "ax.set_title(\"Histogram of Activation Values of 8mers, with Means\")\n",
    "ax.legend()\n",
    "print 'Number of top 2000 8mers (non-unique) with UAA/UAG:', len(with_stop)\n",
    "print 'Number of top 2000 8mers (non-unique) without UAA/UAG:', len(without_stop)"
   ]
  },
  {
   "cell_type": "code",
   "execution_count": 153,
   "metadata": {},
   "outputs": [],
   "source": [
    "for i,f in enumerate(total_results):\n",
    "    w = f[f['seq'].apply(hasStop) == True]['activation']\n",
    "    wo = f[f['seq'].apply(hasStop) == False]['activation']\n",
    "    fig,ax = plt.subplots()\n",
    "    ax.hist(wo,color='blue',alpha=0.4,bins=20,label='- UAA/UAG')\n",
    "    ax.hist(w,color='red',alpha=0.6,bins=20,label='+UAA/UAG')\n",
    "    ax.axvline(np.mean(wo),linestyle='--',color='darkblue',label='- UAA/UAG mean')\n",
    "    ax.axvline(np.mean(w),linestyle=':',color='darkred',label='+UAA/UAG mean')\n",
    "    ax.set_title(\"Activation by Stop Codon Presence, Filter \"+str(i))\n",
    "    ax.legend()\n",
    "    plt.savefig('./plots/stop_histograms/filter'+format(i,'03')+'.png',bbox_inches='tight')\n",
    "    plt.close()"
   ]
  },
  {
   "cell_type": "code",
   "execution_count": 154,
   "metadata": {},
   "outputs": [],
   "source": [
    "hasStart = lambda s: s.count('ATG') > 0\n",
    "for i,f in enumerate(total_results):\n",
    "    w = f[f['seq'].apply(hasStart) == True]['activation']\n",
    "    wo = f[f['seq'].apply(hasStart) == False]['activation']\n",
    "    fig,ax = plt.subplots()\n",
    "    ax.hist(wo,color='blue',alpha=0.4,bins=20,label='- AUG')\n",
    "    ax.hist(w,color='red',alpha=0.6,bins=20,label='+AUG')\n",
    "    ax.axvline(np.mean(wo),linestyle='--',color='darkblue',label='- AUG mean')\n",
    "    ax.axvline(np.mean(w),linestyle=':',color='darkred',label='+AUG mean')\n",
    "    ax.set_title(\"Activation by Start Codon Presence, Filter \"+str(i))\n",
    "    ax.legend()\n",
    "    plt.savefig('./plots/start_histograms/filter'+format(i,'03')+'.png',bbox_inches='tight')\n",
    "    plt.close()"
   ]
  },
  {
   "cell_type": "markdown",
   "metadata": {},
   "source": [
    "## Analyze Enrichment of Start and Stop Codons"
   ]
  },
  {
   "cell_type": "code",
   "execution_count": 163,
   "metadata": {},
   "outputs": [],
   "source": [
    "count_in_top2000 = { s:0 for s in total_8mers['8mer'].values }\n",
    "for f in total_results:\n",
    "    for s in f['seq'].values:\n",
    "        count_in_top2000[s] += 1\n",
    "# shows the number of times each 8mer appeared in a filter's top 2000 (all data)"
   ]
  },
  {
   "cell_type": "code",
   "execution_count": 182,
   "metadata": {},
   "outputs": [
    {
     "data": {
      "text/plain": [
       "<matplotlib.legend.Legend at 0x15721a410>"
      ]
     },
     "execution_count": 182,
     "metadata": {},
     "output_type": "execute_result"
    },
    {
     "data": {
      "image/png": "[encoded data removed]",
      "text/plain": [
       "<Figure size 432x288 with 1 Axes>"
      ]
     },
     "metadata": {
      "needs_background": "light"
     },
     "output_type": "display_data"
    }
   ],
   "source": [
    "# histogram of how often 8mers appear in a filter's top 2000 (all data)\n",
    "fig,ax = plt.subplots()\n",
    "c = count_in_top2000.values()\n",
    "ax.hist([c],color='green',alpha=0.4,bins=16)\n",
    "ax.axvline(np.mean(c),linestyle='--',color='darkgreen',label='mean')\n",
    "ax.set_title(\"Frequency of 8mers in any Filter's Top 2000\")\n",
    "ax.legend()"
   ]
  },
  {
   "cell_type": "code",
   "execution_count": 190,
   "metadata": {},
   "outputs": [],
   "source": [
    "hasStart = lambda s: s.count('ATG') > 0\n",
    "hasStop = lambda s: s.count('TAA') + s.count('TAG') > 0\n",
    "\n",
    "def compute_marginals(results,fn):\n",
    "    count_in_top2000 = { s:0 for s in total_8mers['8mer'].values } #out of all possible 8mers\n",
    "    for f in results:\n",
    "        for s in f['seq'].values:\n",
    "            count_in_top2000[s] += 1\n",
    "    set_in_top = set([s for s,c in count_in_top2000.items() if c > 0])\n",
    "    set_not_top = set([s for s,c in count_in_top2000.items() if c == 0])\n",
    "    TT = len([ s for s in list(set_in_top) if fn(s)])\n",
    "    TF = len(set_in_top) - TT\n",
    "    FT = len([ s for s in list(set_not_top) if fn(s)])\n",
    "    FF = len(set_not_top) - FT\n",
    "    print \"Top 2000, True:\", TT\n",
    "    print \"Top 2000, False:\", TF\n",
    "    print \"Not Top, True:\", FT\n",
    "    print \"Not Top, False:\", FF\n",
    "    oddsratio, pvalue = stats.fisher_exact([[TT, TF], [FT, FF]])\n",
    "    print \"Odds Ratio:\", oddsratio\n",
    "    print \"P Value:\", pvalue\n",
    "    return (oddsratio, pvalue, [[TT, TF], [FT, FF]])\n",
    "    "
   ]
  },
  {
   "cell_type": "code",
   "execution_count": 191,
   "metadata": {},
   "outputs": [
    {
     "name": "stdout",
     "output_type": "stream",
     "text": [
      "TOTAL\n",
      "Top 2000, True: 6031\n",
      "Top 2000, False: 57374\n",
      "Not Top, True: 17\n",
      "Not Top, False: 2114\n",
      "Odds Ratio: 13.07164548811821\n",
      "P Value: 4.038046590217892e-66\n",
      "-----\n",
      "TRAIN\n",
      "Top 2000, True: 6031\n",
      "Top 2000, False: 57374\n",
      "Not Top, True: 17\n",
      "Not Top, False: 2114\n",
      "Odds Ratio: 13.07164548811821\n",
      "P Value: 4.038046590217892e-66\n",
      "-----\n",
      "TEST\n",
      "Top 2000, True: 6029\n",
      "Top 2000, False: 57328\n",
      "Not Top, True: 19\n",
      "Not Top, False: 2160\n",
      "Odds Ratio: 11.955800049943447\n",
      "P Value: 5.206082501812125e-66\n"
     ]
    }
   ],
   "source": [
    "# Start Codon Enrichments\n",
    "print 'TOTAL'\n",
    "total_fischers_start = compute_marginals(total_results,hasStart)\n",
    "print \"-----\"\n",
    "print \"TRAIN\"\n",
    "train_fischers_start = compute_marginals(train_results,hasStart)\n",
    "print \"-----\"\n",
    "print \"TEST\"\n",
    "test_fischers_start = compute_marginals(test_results,hasStart)\n"
   ]
  },
  {
   "cell_type": "code",
   "execution_count": 192,
   "metadata": {},
   "outputs": [
    {
     "name": "stdout",
     "output_type": "stream",
     "text": [
      "TOTAL\n",
      "Top 2000, True: 11758\n",
      "Top 2000, False: 51647\n",
      "Not Top, True: 146\n",
      "Not Top, False: 1985\n",
      "Odds Ratio: 3.0952519885386334\n",
      "P Value: 6.134570973693473e-53\n",
      "-----\n",
      "TRAIN\n",
      "Top 2000, True: 11758\n",
      "Top 2000, False: 51647\n",
      "Not Top, True: 146\n",
      "Not Top, False: 1985\n",
      "Odds Ratio: 3.0952519885386334\n",
      "P Value: 6.134570973693473e-53\n",
      "-----\n",
      "TEST\n",
      "Top 2000, True: 11753\n",
      "Top 2000, False: 51604\n",
      "Not Top, True: 151\n",
      "Not Top, False: 2028\n",
      "Odds Ratio: 3.058837268634137\n",
      "P Value: 3.4481814251730115e-53\n"
     ]
    }
   ],
   "source": [
    "print 'TOTAL'\n",
    "total_fischers_stop = compute_marginals(total_results,hasStop)\n",
    "print \"-----\"\n",
    "print \"TRAIN\"\n",
    "train_fischers_stop = compute_marginals(train_results,hasStop)\n",
    "print \"-----\"\n",
    "print \"TEST\"\n",
    "test_fischers_stop = compute_marginals(test_results,hasStop)"
   ]
  },
  {
   "cell_type": "code",
   "execution_count": 69,
   "metadata": {},
   "outputs": [
    {
     "name": "stdout",
     "output_type": "stream",
     "text": [
      "9311 TCAATGAC\n",
      "10746 TTATATGT\n",
      "10760 TTATATGC\n",
      "21290 CTCATGTA\n",
      "23196 GTTCATGC\n",
      "25684 TCCATGAC\n",
      "27187 TTAATGGC\n",
      "28242 CCCATGAA\n",
      "46002 TTCATGTA\n",
      "46244 CCAATGAC\n",
      "48774 CCAATGTC\n",
      "57732 TCAATGCA\n",
      "59753 CTAATGGC\n",
      "62066 CGAATGAC\n",
      "62717 TCAATGTC\n",
      "63010 CCAATGCA\n",
      "63280 GAATGCGC\n"
     ]
    }
   ],
   "source": [
    "for i,s in enumerate(list(set_all_8mers)):\n",
    "    if 'ATG' in s and s not in set_top_8mers:\n",
    "        print i,s"
   ]
  },
  {
   "cell_type": "code",
   "execution_count": 70,
   "metadata": {},
   "outputs": [
    {
     "name": "stdout",
     "output_type": "stream",
     "text": [
      "in top, has TAA/TAG: 17348\n",
      "not in top, has TAA/TAG: 214\n",
      "in top, no TAA/TAG: 46009\n",
      "not in top, no TAA/TAG: 1904\n"
     ]
    }
   ],
   "source": [
    "## Repeat for stop codons\n",
    "count_taa_top = 0\n",
    "count_taa_all = 0\n",
    "count_taa_not_top = 0\n",
    "for i,s in enumerate(list(set_all_8mers)):\n",
    "    c = 1 if 'TAA' in s or 'TAG' in s or 'TGA' in s else 0\n",
    "    count_taa_all += c\n",
    "    if s in set_top_8mers:\n",
    "        count_taa_top += c\n",
    "    else:\n",
    "        count_taa_not_top += c\n",
    "\n",
    "# Table of Marginal Values\n",
    "YY = count_taa_top\n",
    "NY = count_taa_not_top\n",
    "YN = len(set_top_8mers) - count_taa_top\n",
    "NN = len(set_all_8mers) - len(set_top_8mers) - count_taa_not_top\n",
    "print 'in top, has TAA/TAG/TGA:', YY\n",
    "print 'not in top, has TAA/TAG/TGA:', NY\n",
    "print 'in top, no TAA/TAG/TGA:', YN\n",
    "print 'not in top, no TAA/TAG/TGA:', NN"
   ]
  },
  {
   "cell_type": "code",
   "execution_count": 71,
   "metadata": {},
   "outputs": [
    {
     "name": "stdout",
     "output_type": "stream",
     "text": [
      "3.354747130945327\n",
      "1.8283745641123367e-83\n"
     ]
    }
   ],
   "source": [
    "oddsratio, pvalue = stats.fisher_exact([[YY, NY], [YN, NN]])\n",
    "print oddsratio\n",
    "print pvalue"
   ]
  },
  {
   "cell_type": "markdown",
   "metadata": {},
   "source": [
    "# Visualize Model Results"
   ]
  },
  {
   "cell_type": "code",
   "execution_count": 78,
   "metadata": {},
   "outputs": [
    {
     "name": "stdout",
     "output_type": "stream",
     "text": [
      "r-squared =  0.9338504476208073\n"
     ]
    }
   ],
   "source": [
    "e_test = test_data(df=e_test, model=model, obs_col='rl',test_seq=seq_e_test)\n",
    "r = r2(e_test['rl'], e_test['pred'])\n",
    "print 'r-squared = ', r"
   ]
  },
  {
   "cell_type": "code",
   "execution_count": 7,
   "metadata": {},
   "outputs": [],
   "source": [
    "atg = e_test[e_test['utr'].apply(lambda x: 'ATG' in x)]\n",
    "n_atg = e_test[e_test['utr'].apply(lambda x: 'ATG' not in x)]"
   ]
  },
  {
   "cell_type": "code",
   "execution_count": 8,
   "metadata": {},
   "outputs": [
    {
     "name": "stderr",
     "output_type": "stream",
     "text": [
      "/usr/local/lib/python2.7/site-packages/seaborn/axisgrid.py:1672: UserWarning: The `size` parameter has been renamed to `height`; pleaes update your code.\n",
      "  warnings.warn(msg, UserWarning)\n"
     ]
    },
    {
     "data": {
      "image/png": "[encoded data removed]",
      "text/plain": [
       "<Figure size 504x504 with 3 Axes>"
      ]
     },
     "metadata": {
      "needs_background": "light"
     },
     "output_type": "display_data"
    }
   ],
   "source": [
    "c1 = (0.3, 0.45, 0.69)\n",
    "c2 = 'r'\n",
    "g = sns.JointGrid(x='rl', y=\"pred\", data=atg, space=0, xlim=(1,10), ylim=(0,10), ratio=6, size=7)\n",
    "g.plot_joint(plt.scatter,s=20, color=c1, linewidth=0.2, alpha='0.1', edgecolor='white')\n",
    "f = g.fig\n",
    "ax = f.gca()\n",
    "ax.set_yticks(np.arange(0,9.01, 1));\n",
    "ax.set_yticklabels(range(10),size=20);\n",
    "ax.set_xticks(np.arange(1,10.01, 1));\n",
    "ax.set_xticklabels(range(1,11),size=20);\n",
    "ax.set_ylim(0,9)\n",
    "ax.set_xlim(1,10)\n",
    "g.plot_marginals(sns.kdeplot,shade=c1, **{'linewidth':2, 'color':c1})\n",
    "g.set_axis_labels('Observed MRL', 'Predicted MRL', **{'size':22});\n",
    "\n",
    "g.x = n_atg['rl'].values\n",
    "g.y = n_atg['pred'].values\n",
    "g.plot_joint(plt.scatter, s=20, linewidth=0.2, alpha='0.2', color=c2, edgecolor='white')\n",
    "g.plot_marginals(sns.kdeplot, shade=c2, **{'linewidth':2, 'color':c2})\n",
    "f = g.fig"
   ]
  },
  {
   "cell_type": "markdown",
   "metadata": {},
   "source": [
    "## EVERYTHING BELOW THIS HEADER IS ADDED\n",
    "\n",
    "### So, just what are these off-diagonal UTRS in the graph above?"
   ]
  },
  {
   "cell_type": "code",
   "execution_count": 15,
   "metadata": {},
   "outputs": [
    {
     "data": {
      "text/plain": [
       "48"
      ]
     },
     "execution_count": 15,
     "metadata": {},
     "output_type": "execute_result"
    }
   ],
   "source": [
    "### BELOW IS MY OWN SANDBOX\n",
    "\n",
    "# so rl (that is RL, not R one!) is the observed MRL column, and pred is the predicted column\n",
    "\n",
    "off_diagonals = e_test[(e_test['rl']<4.6)&(e_test['pred']>5.4)]\n",
    "len(off_diagonals)"
   ]
  },
  {
   "cell_type": "code",
   "execution_count": 16,
   "metadata": {},
   "outputs": [
    {
     "data": {
      "text/html": [
       "<div>\n",
       "<style scoped>\n",
       "    .dataframe tbody tr th:only-of-type {\n",
       "        vertical-align: middle;\n",
       "    }\n",
       "\n",
       "    .dataframe tbody tr th {\n",
       "        vertical-align: top;\n",
       "    }\n",
       "\n",
       "    .dataframe thead th {\n",
       "        text-align: right;\n",
       "    }\n",
       "</style>\n",
       "<table border=\"1\" class=\"dataframe\">\n",
       "  <thead>\n",
       "    <tr style=\"text-align: right;\">\n",
       "      <th></th>\n",
       "      <th>Unnamed: 0</th>\n",
       "      <th>utr</th>\n",
       "      <th>0</th>\n",
       "      <th>1</th>\n",
       "      <th>2</th>\n",
       "      <th>3</th>\n",
       "      <th>4</th>\n",
       "      <th>5</th>\n",
       "      <th>6</th>\n",
       "      <th>7</th>\n",
       "      <th>...</th>\n",
       "      <th>r6</th>\n",
       "      <th>r7</th>\n",
       "      <th>r8</th>\n",
       "      <th>r9</th>\n",
       "      <th>r10</th>\n",
       "      <th>r11</th>\n",
       "      <th>r12</th>\n",
       "      <th>r13</th>\n",
       "      <th>rl</th>\n",
       "      <th>pred</th>\n",
       "    </tr>\n",
       "  </thead>\n",
       "  <tbody>\n",
       "    <tr>\n",
       "      <th>809</th>\n",
       "      <td>320</td>\n",
       "      <td>ATCGATCCACCCTGCATAGCAGGGAACTCTATTGTGCATGTTCGGATGCG</td>\n",
       "      <td>0.000044</td>\n",
       "      <td>0.000042</td>\n",
       "      <td>0.000025</td>\n",
       "      <td>0.000013</td>\n",
       "      <td>0.000009</td>\n",
       "      <td>0.000010</td>\n",
       "      <td>0.000004</td>\n",
       "      <td>0.000005</td>\n",
       "      <td>...</td>\n",
       "      <td>0.021431</td>\n",
       "      <td>0.024679</td>\n",
       "      <td>0.023677</td>\n",
       "      <td>0.021867</td>\n",
       "      <td>0.029297</td>\n",
       "      <td>0.029297</td>\n",
       "      <td>0.028727</td>\n",
       "      <td>0.042218</td>\n",
       "      <td>3.331041</td>\n",
       "      <td>6.045370</td>\n",
       "    </tr>\n",
       "    <tr>\n",
       "      <th>999</th>\n",
       "      <td>226582</td>\n",
       "      <td>AGCTTACTGAACCTGGTCGTGGAGGTATGCAGGAGGTATGTGCATGCCTG</td>\n",
       "      <td>0.000034</td>\n",
       "      <td>0.000036</td>\n",
       "      <td>0.000025</td>\n",
       "      <td>0.000013</td>\n",
       "      <td>0.000009</td>\n",
       "      <td>0.000009</td>\n",
       "      <td>0.000005</td>\n",
       "      <td>0.000006</td>\n",
       "      <td>...</td>\n",
       "      <td>0.029120</td>\n",
       "      <td>0.031509</td>\n",
       "      <td>0.030538</td>\n",
       "      <td>0.026672</td>\n",
       "      <td>0.043827</td>\n",
       "      <td>0.043827</td>\n",
       "      <td>0.042533</td>\n",
       "      <td>0.051309</td>\n",
       "      <td>4.065457</td>\n",
       "      <td>5.995093</td>\n",
       "    </tr>\n",
       "    <tr>\n",
       "      <th>1046</th>\n",
       "      <td>89012</td>\n",
       "      <td>GCGAGGGAACAAGAGCAAAGGAGAATCTAGGCCACATCTCTCGTCGTTCC</td>\n",
       "      <td>0.000024</td>\n",
       "      <td>0.000037</td>\n",
       "      <td>0.000028</td>\n",
       "      <td>0.000015</td>\n",
       "      <td>0.000011</td>\n",
       "      <td>0.000009</td>\n",
       "      <td>0.000006</td>\n",
       "      <td>0.000006</td>\n",
       "      <td>...</td>\n",
       "      <td>0.033772</td>\n",
       "      <td>0.035514</td>\n",
       "      <td>0.035510</td>\n",
       "      <td>0.033592</td>\n",
       "      <td>0.039144</td>\n",
       "      <td>0.039144</td>\n",
       "      <td>0.038410</td>\n",
       "      <td>0.035048</td>\n",
       "      <td>4.038996</td>\n",
       "      <td>7.305915</td>\n",
       "    </tr>\n",
       "    <tr>\n",
       "      <th>1733</th>\n",
       "      <td>85271</td>\n",
       "      <td>GTCCATGCAGAAAGTTCAGGTAAACTCGTGGGCGATAAGAATTTGGGAAC</td>\n",
       "      <td>0.000037</td>\n",
       "      <td>0.000033</td>\n",
       "      <td>0.000024</td>\n",
       "      <td>0.000012</td>\n",
       "      <td>0.000010</td>\n",
       "      <td>0.000007</td>\n",
       "      <td>0.000004</td>\n",
       "      <td>0.000004</td>\n",
       "      <td>...</td>\n",
       "      <td>0.024912</td>\n",
       "      <td>0.025271</td>\n",
       "      <td>0.019927</td>\n",
       "      <td>0.023506</td>\n",
       "      <td>0.035812</td>\n",
       "      <td>0.035812</td>\n",
       "      <td>0.030385</td>\n",
       "      <td>0.042090</td>\n",
       "      <td>3.502755</td>\n",
       "      <td>5.657888</td>\n",
       "    </tr>\n",
       "    <tr>\n",
       "      <th>1909</th>\n",
       "      <td>232479</td>\n",
       "      <td>ACAAAAACATTGACATGATCGGATACAGGCGGCGTACGGCATGCGCTACC</td>\n",
       "      <td>0.000030</td>\n",
       "      <td>0.000032</td>\n",
       "      <td>0.000024</td>\n",
       "      <td>0.000016</td>\n",
       "      <td>0.000008</td>\n",
       "      <td>0.000007</td>\n",
       "      <td>0.000004</td>\n",
       "      <td>0.000004</td>\n",
       "      <td>...</td>\n",
       "      <td>0.025004</td>\n",
       "      <td>0.026887</td>\n",
       "      <td>0.025049</td>\n",
       "      <td>0.024521</td>\n",
       "      <td>0.045485</td>\n",
       "      <td>0.045485</td>\n",
       "      <td>0.032901</td>\n",
       "      <td>0.031797</td>\n",
       "      <td>3.715876</td>\n",
       "      <td>5.623970</td>\n",
       "    </tr>\n",
       "    <tr>\n",
       "      <th>3279</th>\n",
       "      <td>115533</td>\n",
       "      <td>CACCGAGTCTTGCGGCCTAAATCCGTAGGGGTCTGGGTCCACGATTGTCC</td>\n",
       "      <td>0.000036</td>\n",
       "      <td>0.000031</td>\n",
       "      <td>0.000018</td>\n",
       "      <td>0.000009</td>\n",
       "      <td>0.000006</td>\n",
       "      <td>0.000007</td>\n",
       "      <td>0.000004</td>\n",
       "      <td>0.000004</td>\n",
       "      <td>...</td>\n",
       "      <td>0.027872</td>\n",
       "      <td>0.029664</td>\n",
       "      <td>0.025882</td>\n",
       "      <td>0.026299</td>\n",
       "      <td>0.035648</td>\n",
       "      <td>0.035648</td>\n",
       "      <td>0.031976</td>\n",
       "      <td>0.037537</td>\n",
       "      <td>3.450179</td>\n",
       "      <td>6.479451</td>\n",
       "    </tr>\n",
       "    <tr>\n",
       "      <th>3467</th>\n",
       "      <td>232027</td>\n",
       "      <td>CCATCAATTTATCACATAAAGCCCTGTGTGGGTTGTCTGCGCATACAGAA</td>\n",
       "      <td>0.000029</td>\n",
       "      <td>0.000028</td>\n",
       "      <td>0.000017</td>\n",
       "      <td>0.000010</td>\n",
       "      <td>0.000006</td>\n",
       "      <td>0.000006</td>\n",
       "      <td>0.000005</td>\n",
       "      <td>0.000005</td>\n",
       "      <td>...</td>\n",
       "      <td>0.031692</td>\n",
       "      <td>0.037771</td>\n",
       "      <td>0.034125</td>\n",
       "      <td>0.037183</td>\n",
       "      <td>0.047723</td>\n",
       "      <td>0.047723</td>\n",
       "      <td>0.039136</td>\n",
       "      <td>0.056973</td>\n",
       "      <td>4.217225</td>\n",
       "      <td>7.151853</td>\n",
       "    </tr>\n",
       "    <tr>\n",
       "      <th>3582</th>\n",
       "      <td>90322</td>\n",
       "      <td>CGCGCCGAACGCGCGACAAGCAAAGCACGACAGAACGTGCCCACTAAAGC</td>\n",
       "      <td>0.000035</td>\n",
       "      <td>0.000032</td>\n",
       "      <td>0.000018</td>\n",
       "      <td>0.000008</td>\n",
       "      <td>0.000007</td>\n",
       "      <td>0.000006</td>\n",
       "      <td>0.000005</td>\n",
       "      <td>0.000004</td>\n",
       "      <td>...</td>\n",
       "      <td>0.032290</td>\n",
       "      <td>0.026047</td>\n",
       "      <td>0.023872</td>\n",
       "      <td>0.028277</td>\n",
       "      <td>0.034306</td>\n",
       "      <td>0.034306</td>\n",
       "      <td>0.025561</td>\n",
       "      <td>0.041463</td>\n",
       "      <td>3.419108</td>\n",
       "      <td>6.397795</td>\n",
       "    </tr>\n",
       "    <tr>\n",
       "      <th>3974</th>\n",
       "      <td>265040</td>\n",
       "      <td>CCAGAAGATACAACCCGGGATTACTGGCGGTCCGATTAGAACTGATCAAG</td>\n",
       "      <td>0.000033</td>\n",
       "      <td>0.000034</td>\n",
       "      <td>0.000017</td>\n",
       "      <td>0.000010</td>\n",
       "      <td>0.000005</td>\n",
       "      <td>0.000005</td>\n",
       "      <td>0.000004</td>\n",
       "      <td>0.000004</td>\n",
       "      <td>...</td>\n",
       "      <td>0.025660</td>\n",
       "      <td>0.025103</td>\n",
       "      <td>0.025401</td>\n",
       "      <td>0.027429</td>\n",
       "      <td>0.032515</td>\n",
       "      <td>0.032515</td>\n",
       "      <td>0.039899</td>\n",
       "      <td>0.053005</td>\n",
       "      <td>3.598649</td>\n",
       "      <td>7.219923</td>\n",
       "    </tr>\n",
       "    <tr>\n",
       "      <th>4049</th>\n",
       "      <td>157141</td>\n",
       "      <td>CCTGCGTCTAGCCGGTGCGTGTAACGAATATCCTACCGTTGAAATACTAC</td>\n",
       "      <td>0.000029</td>\n",
       "      <td>0.000027</td>\n",
       "      <td>0.000019</td>\n",
       "      <td>0.000012</td>\n",
       "      <td>0.000005</td>\n",
       "      <td>0.000006</td>\n",
       "      <td>0.000003</td>\n",
       "      <td>0.000004</td>\n",
       "      <td>...</td>\n",
       "      <td>0.022889</td>\n",
       "      <td>0.029767</td>\n",
       "      <td>0.028933</td>\n",
       "      <td>0.027242</td>\n",
       "      <td>0.050658</td>\n",
       "      <td>0.050658</td>\n",
       "      <td>0.038351</td>\n",
       "      <td>0.045245</td>\n",
       "      <td>3.974110</td>\n",
       "      <td>6.926174</td>\n",
       "    </tr>\n",
       "    <tr>\n",
       "      <th>4553</th>\n",
       "      <td>251917</td>\n",
       "      <td>CTCAGGAGGGTGGTAAGCCACCGCCCACGCGTGGGGCACTCGTGTATTCT</td>\n",
       "      <td>0.000033</td>\n",
       "      <td>0.000034</td>\n",
       "      <td>0.000017</td>\n",
       "      <td>0.000010</td>\n",
       "      <td>0.000005</td>\n",
       "      <td>0.000006</td>\n",
       "      <td>0.000003</td>\n",
       "      <td>0.000003</td>\n",
       "      <td>...</td>\n",
       "      <td>0.021879</td>\n",
       "      <td>0.020438</td>\n",
       "      <td>0.019060</td>\n",
       "      <td>0.023047</td>\n",
       "      <td>0.037565</td>\n",
       "      <td>0.037565</td>\n",
       "      <td>0.031830</td>\n",
       "      <td>0.031183</td>\n",
       "      <td>3.290073</td>\n",
       "      <td>5.753128</td>\n",
       "    </tr>\n",
       "    <tr>\n",
       "      <th>4749</th>\n",
       "      <td>190715</td>\n",
       "      <td>GTGAAGACACGAGGGACCCACTAGTCAGCTGACTGCTGGAAACGTCCGGA</td>\n",
       "      <td>0.000031</td>\n",
       "      <td>0.000029</td>\n",
       "      <td>0.000014</td>\n",
       "      <td>0.000008</td>\n",
       "      <td>0.000006</td>\n",
       "      <td>0.000007</td>\n",
       "      <td>0.000004</td>\n",
       "      <td>0.000005</td>\n",
       "      <td>...</td>\n",
       "      <td>0.031691</td>\n",
       "      <td>0.036622</td>\n",
       "      <td>0.027722</td>\n",
       "      <td>0.037957</td>\n",
       "      <td>0.038120</td>\n",
       "      <td>0.038120</td>\n",
       "      <td>0.041766</td>\n",
       "      <td>0.043430</td>\n",
       "      <td>3.850492</td>\n",
       "      <td>7.150683</td>\n",
       "    </tr>\n",
       "    <tr>\n",
       "      <th>5424</th>\n",
       "      <td>107646</td>\n",
       "      <td>GAACATCAACTGGAAAAGATTACAAGTTTACGTATTCCAAAATCCCCTTC</td>\n",
       "      <td>0.000018</td>\n",
       "      <td>0.000020</td>\n",
       "      <td>0.000023</td>\n",
       "      <td>0.000013</td>\n",
       "      <td>0.000007</td>\n",
       "      <td>0.000007</td>\n",
       "      <td>0.000005</td>\n",
       "      <td>0.000004</td>\n",
       "      <td>...</td>\n",
       "      <td>0.039599</td>\n",
       "      <td>0.032969</td>\n",
       "      <td>0.035043</td>\n",
       "      <td>0.030797</td>\n",
       "      <td>0.048085</td>\n",
       "      <td>0.048085</td>\n",
       "      <td>0.033778</td>\n",
       "      <td>0.054191</td>\n",
       "      <td>4.379428</td>\n",
       "      <td>7.251095</td>\n",
       "    </tr>\n",
       "    <tr>\n",
       "      <th>6500</th>\n",
       "      <td>131328</td>\n",
       "      <td>GCCACGCATGAAGAAAGATTCGAGGATTCTCAAAAGCCTCTTGAGGCTAC</td>\n",
       "      <td>0.000021</td>\n",
       "      <td>0.000025</td>\n",
       "      <td>0.000019</td>\n",
       "      <td>0.000014</td>\n",
       "      <td>0.000010</td>\n",
       "      <td>0.000006</td>\n",
       "      <td>0.000004</td>\n",
       "      <td>0.000003</td>\n",
       "      <td>...</td>\n",
       "      <td>0.029935</td>\n",
       "      <td>0.026300</td>\n",
       "      <td>0.023500</td>\n",
       "      <td>0.034187</td>\n",
       "      <td>0.032083</td>\n",
       "      <td>0.032083</td>\n",
       "      <td>0.023536</td>\n",
       "      <td>0.033641</td>\n",
       "      <td>3.598116</td>\n",
       "      <td>5.439827</td>\n",
       "    </tr>\n",
       "    <tr>\n",
       "      <th>8461</th>\n",
       "      <td>115393</td>\n",
       "      <td>CAGTACCCGACGTGGGAAATTAACATACCATTGGACCCTTCCCACGTCAA</td>\n",
       "      <td>0.000027</td>\n",
       "      <td>0.000025</td>\n",
       "      <td>0.000015</td>\n",
       "      <td>0.000008</td>\n",
       "      <td>0.000006</td>\n",
       "      <td>0.000005</td>\n",
       "      <td>0.000004</td>\n",
       "      <td>0.000003</td>\n",
       "      <td>...</td>\n",
       "      <td>0.030352</td>\n",
       "      <td>0.024091</td>\n",
       "      <td>0.029426</td>\n",
       "      <td>0.032772</td>\n",
       "      <td>0.041309</td>\n",
       "      <td>0.041309</td>\n",
       "      <td>0.038650</td>\n",
       "      <td>0.034648</td>\n",
       "      <td>3.701647</td>\n",
       "      <td>6.924004</td>\n",
       "    </tr>\n",
       "    <tr>\n",
       "      <th>8845</th>\n",
       "      <td>124075</td>\n",
       "      <td>AAACGCGGTGGATCACGGCCAGCTAGAGGGCGAAGGCGTCCTTCCACCAG</td>\n",
       "      <td>0.000031</td>\n",
       "      <td>0.000027</td>\n",
       "      <td>0.000013</td>\n",
       "      <td>0.000009</td>\n",
       "      <td>0.000007</td>\n",
       "      <td>0.000004</td>\n",
       "      <td>0.000003</td>\n",
       "      <td>0.000003</td>\n",
       "      <td>...</td>\n",
       "      <td>0.025414</td>\n",
       "      <td>0.023455</td>\n",
       "      <td>0.030310</td>\n",
       "      <td>0.017522</td>\n",
       "      <td>0.033050</td>\n",
       "      <td>0.033050</td>\n",
       "      <td>0.026678</td>\n",
       "      <td>0.034121</td>\n",
       "      <td>3.237970</td>\n",
       "      <td>5.670214</td>\n",
       "    </tr>\n",
       "    <tr>\n",
       "      <th>9258</th>\n",
       "      <td>132925</td>\n",
       "      <td>CCTACCAGGAATAGTGTGCTATATGAGAGCTGTGTCGTTCCATAGATTTA</td>\n",
       "      <td>0.000022</td>\n",
       "      <td>0.000031</td>\n",
       "      <td>0.000019</td>\n",
       "      <td>0.000010</td>\n",
       "      <td>0.000007</td>\n",
       "      <td>0.000004</td>\n",
       "      <td>0.000003</td>\n",
       "      <td>0.000002</td>\n",
       "      <td>...</td>\n",
       "      <td>0.029835</td>\n",
       "      <td>0.019504</td>\n",
       "      <td>0.019664</td>\n",
       "      <td>0.021141</td>\n",
       "      <td>0.020420</td>\n",
       "      <td>0.020420</td>\n",
       "      <td>0.029994</td>\n",
       "      <td>0.036322</td>\n",
       "      <td>3.175697</td>\n",
       "      <td>5.858643</td>\n",
       "    </tr>\n",
       "    <tr>\n",
       "      <th>9571</th>\n",
       "      <td>119602</td>\n",
       "      <td>TTCAAGCCAGCAACCGGAAACCGTTACACAGCTCGGATATTCACGGTGGT</td>\n",
       "      <td>0.000020</td>\n",
       "      <td>0.000024</td>\n",
       "      <td>0.000018</td>\n",
       "      <td>0.000009</td>\n",
       "      <td>0.000005</td>\n",
       "      <td>0.000006</td>\n",
       "      <td>0.000003</td>\n",
       "      <td>0.000004</td>\n",
       "      <td>...</td>\n",
       "      <td>0.030554</td>\n",
       "      <td>0.036921</td>\n",
       "      <td>0.036646</td>\n",
       "      <td>0.031290</td>\n",
       "      <td>0.040653</td>\n",
       "      <td>0.040653</td>\n",
       "      <td>0.029556</td>\n",
       "      <td>0.034246</td>\n",
       "      <td>3.800930</td>\n",
       "      <td>7.132994</td>\n",
       "    </tr>\n",
       "    <tr>\n",
       "      <th>9627</th>\n",
       "      <td>74818</td>\n",
       "      <td>GACGCTGCTGCAGTACAAATCTAAATTAACATTGCTGATCCGCTAAAATT</td>\n",
       "      <td>0.000020</td>\n",
       "      <td>0.000021</td>\n",
       "      <td>0.000018</td>\n",
       "      <td>0.000007</td>\n",
       "      <td>0.000006</td>\n",
       "      <td>0.000004</td>\n",
       "      <td>0.000003</td>\n",
       "      <td>0.000005</td>\n",
       "      <td>...</td>\n",
       "      <td>0.030099</td>\n",
       "      <td>0.040094</td>\n",
       "      <td>0.034834</td>\n",
       "      <td>0.042886</td>\n",
       "      <td>0.050605</td>\n",
       "      <td>0.050605</td>\n",
       "      <td>0.044089</td>\n",
       "      <td>0.054820</td>\n",
       "      <td>4.412648</td>\n",
       "      <td>7.565299</td>\n",
       "    </tr>\n",
       "    <tr>\n",
       "      <th>10013</th>\n",
       "      <td>110422</td>\n",
       "      <td>CCGTATTAGATGCTCAAAATCACTGCATATAGAACTCAGGACGGGAACTT</td>\n",
       "      <td>0.000027</td>\n",
       "      <td>0.000022</td>\n",
       "      <td>0.000015</td>\n",
       "      <td>0.000009</td>\n",
       "      <td>0.000008</td>\n",
       "      <td>0.000006</td>\n",
       "      <td>0.000003</td>\n",
       "      <td>0.000003</td>\n",
       "      <td>...</td>\n",
       "      <td>0.029497</td>\n",
       "      <td>0.023459</td>\n",
       "      <td>0.025940</td>\n",
       "      <td>0.025412</td>\n",
       "      <td>0.032031</td>\n",
       "      <td>0.032031</td>\n",
       "      <td>0.034071</td>\n",
       "      <td>0.042645</td>\n",
       "      <td>3.601777</td>\n",
       "      <td>6.013274</td>\n",
       "    </tr>\n",
       "    <tr>\n",
       "      <th>10366</th>\n",
       "      <td>118197</td>\n",
       "      <td>CAGTCGGTAGATAAAGACCACACAGGCACCTGTCACCCGCTGCGTACCTC</td>\n",
       "      <td>0.000021</td>\n",
       "      <td>0.000023</td>\n",
       "      <td>0.000016</td>\n",
       "      <td>0.000007</td>\n",
       "      <td>0.000005</td>\n",
       "      <td>0.000005</td>\n",
       "      <td>0.000004</td>\n",
       "      <td>0.000004</td>\n",
       "      <td>...</td>\n",
       "      <td>0.031430</td>\n",
       "      <td>0.034574</td>\n",
       "      <td>0.035963</td>\n",
       "      <td>0.038392</td>\n",
       "      <td>0.046187</td>\n",
       "      <td>0.046187</td>\n",
       "      <td>0.035746</td>\n",
       "      <td>0.039692</td>\n",
       "      <td>4.020205</td>\n",
       "      <td>6.855105</td>\n",
       "    </tr>\n",
       "    <tr>\n",
       "      <th>10584</th>\n",
       "      <td>91579</td>\n",
       "      <td>CTCTCATAAGAAAAACCAGCACAACGAGGCGATACTGGCTACCCGAGAAA</td>\n",
       "      <td>0.000027</td>\n",
       "      <td>0.000025</td>\n",
       "      <td>0.000015</td>\n",
       "      <td>0.000007</td>\n",
       "      <td>0.000004</td>\n",
       "      <td>0.000005</td>\n",
       "      <td>0.000003</td>\n",
       "      <td>0.000004</td>\n",
       "      <td>...</td>\n",
       "      <td>0.028649</td>\n",
       "      <td>0.033274</td>\n",
       "      <td>0.024310</td>\n",
       "      <td>0.033714</td>\n",
       "      <td>0.035124</td>\n",
       "      <td>0.035124</td>\n",
       "      <td>0.034519</td>\n",
       "      <td>0.030622</td>\n",
       "      <td>3.469223</td>\n",
       "      <td>6.225135</td>\n",
       "    </tr>\n",
       "    <tr>\n",
       "      <th>10880</th>\n",
       "      <td>208745</td>\n",
       "      <td>GTTCATCGTAGCTCACGGTACAGATGAGACACGACAAACGACCGGATACC</td>\n",
       "      <td>0.000028</td>\n",
       "      <td>0.000025</td>\n",
       "      <td>0.000012</td>\n",
       "      <td>0.000006</td>\n",
       "      <td>0.000005</td>\n",
       "      <td>0.000005</td>\n",
       "      <td>0.000004</td>\n",
       "      <td>0.000004</td>\n",
       "      <td>...</td>\n",
       "      <td>0.032986</td>\n",
       "      <td>0.032512</td>\n",
       "      <td>0.025492</td>\n",
       "      <td>0.034925</td>\n",
       "      <td>0.040204</td>\n",
       "      <td>0.040204</td>\n",
       "      <td>0.034342</td>\n",
       "      <td>0.034817</td>\n",
       "      <td>3.596276</td>\n",
       "      <td>6.815835</td>\n",
       "    </tr>\n",
       "    <tr>\n",
       "      <th>11441</th>\n",
       "      <td>63076</td>\n",
       "      <td>CCGGCTACTCAAAAAAAGACATGGGCATCTTAAAGTCTAGTAGCAACAAA</td>\n",
       "      <td>0.000038</td>\n",
       "      <td>0.000031</td>\n",
       "      <td>0.000010</td>\n",
       "      <td>0.000005</td>\n",
       "      <td>0.000003</td>\n",
       "      <td>0.000003</td>\n",
       "      <td>0.000002</td>\n",
       "      <td>0.000002</td>\n",
       "      <td>...</td>\n",
       "      <td>0.015610</td>\n",
       "      <td>0.019809</td>\n",
       "      <td>0.017590</td>\n",
       "      <td>0.021771</td>\n",
       "      <td>0.026327</td>\n",
       "      <td>0.026327</td>\n",
       "      <td>0.027027</td>\n",
       "      <td>0.033588</td>\n",
       "      <td>2.694196</td>\n",
       "      <td>6.968068</td>\n",
       "    </tr>\n",
       "    <tr>\n",
       "      <th>11503</th>\n",
       "      <td>202242</td>\n",
       "      <td>CCGACCAATATCTGGGTATCGTGAGGCCCAAGTACGCCATGAGATTGCTA</td>\n",
       "      <td>0.000030</td>\n",
       "      <td>0.000026</td>\n",
       "      <td>0.000013</td>\n",
       "      <td>0.000008</td>\n",
       "      <td>0.000005</td>\n",
       "      <td>0.000004</td>\n",
       "      <td>0.000003</td>\n",
       "      <td>0.000003</td>\n",
       "      <td>...</td>\n",
       "      <td>0.024184</td>\n",
       "      <td>0.027447</td>\n",
       "      <td>0.017676</td>\n",
       "      <td>0.026465</td>\n",
       "      <td>0.029908</td>\n",
       "      <td>0.029908</td>\n",
       "      <td>0.026722</td>\n",
       "      <td>0.033754</td>\n",
       "      <td>3.119788</td>\n",
       "      <td>7.397473</td>\n",
       "    </tr>\n",
       "    <tr>\n",
       "      <th>11538</th>\n",
       "      <td>112917</td>\n",
       "      <td>GGATATTTGTCGGCAAAGGAGGCATAGCGGGTTGTAAGCACGTCACCTGT</td>\n",
       "      <td>0.000014</td>\n",
       "      <td>0.000022</td>\n",
       "      <td>0.000018</td>\n",
       "      <td>0.000009</td>\n",
       "      <td>0.000006</td>\n",
       "      <td>0.000005</td>\n",
       "      <td>0.000004</td>\n",
       "      <td>0.000004</td>\n",
       "      <td>...</td>\n",
       "      <td>0.031845</td>\n",
       "      <td>0.035922</td>\n",
       "      <td>0.035782</td>\n",
       "      <td>0.031953</td>\n",
       "      <td>0.044534</td>\n",
       "      <td>0.044534</td>\n",
       "      <td>0.041392</td>\n",
       "      <td>0.059451</td>\n",
       "      <td>4.394071</td>\n",
       "      <td>6.554894</td>\n",
       "    </tr>\n",
       "    <tr>\n",
       "      <th>11786</th>\n",
       "      <td>108231</td>\n",
       "      <td>CAATAGGCAGGTGCGCGCTACGCGCGGGATTCCTAGACCACTCGGTCAAT</td>\n",
       "      <td>0.000035</td>\n",
       "      <td>0.000026</td>\n",
       "      <td>0.000013</td>\n",
       "      <td>0.000007</td>\n",
       "      <td>0.000005</td>\n",
       "      <td>0.000004</td>\n",
       "      <td>0.000003</td>\n",
       "      <td>0.000003</td>\n",
       "      <td>...</td>\n",
       "      <td>0.023278</td>\n",
       "      <td>0.023326</td>\n",
       "      <td>0.014933</td>\n",
       "      <td>0.025135</td>\n",
       "      <td>0.019118</td>\n",
       "      <td>0.019118</td>\n",
       "      <td>0.024517</td>\n",
       "      <td>0.026212</td>\n",
       "      <td>2.677383</td>\n",
       "      <td>6.863350</td>\n",
       "    </tr>\n",
       "    <tr>\n",
       "      <th>13096</th>\n",
       "      <td>182258</td>\n",
       "      <td>TCGCACGGTTAACAAATCACATTAACGGCCGAATGATGCGGCGGGCTGCA</td>\n",
       "      <td>0.000032</td>\n",
       "      <td>0.000024</td>\n",
       "      <td>0.000012</td>\n",
       "      <td>0.000007</td>\n",
       "      <td>0.000005</td>\n",
       "      <td>0.000004</td>\n",
       "      <td>0.000002</td>\n",
       "      <td>0.000002</td>\n",
       "      <td>...</td>\n",
       "      <td>0.020389</td>\n",
       "      <td>0.021640</td>\n",
       "      <td>0.015606</td>\n",
       "      <td>0.023483</td>\n",
       "      <td>0.027510</td>\n",
       "      <td>0.027510</td>\n",
       "      <td>0.026419</td>\n",
       "      <td>0.024938</td>\n",
       "      <td>2.862142</td>\n",
       "      <td>7.406233</td>\n",
       "    </tr>\n",
       "    <tr>\n",
       "      <th>13125</th>\n",
       "      <td>35901</td>\n",
       "      <td>GAGAGTAAGTCTGGCAGCCATTGGAGACAGGTGCATATACAAAATTGTCT</td>\n",
       "      <td>0.000020</td>\n",
       "      <td>0.000021</td>\n",
       "      <td>0.000016</td>\n",
       "      <td>0.000009</td>\n",
       "      <td>0.000006</td>\n",
       "      <td>0.000005</td>\n",
       "      <td>0.000004</td>\n",
       "      <td>0.000004</td>\n",
       "      <td>...</td>\n",
       "      <td>0.037719</td>\n",
       "      <td>0.032656</td>\n",
       "      <td>0.022142</td>\n",
       "      <td>0.025590</td>\n",
       "      <td>0.040339</td>\n",
       "      <td>0.040339</td>\n",
       "      <td>0.034900</td>\n",
       "      <td>0.055343</td>\n",
       "      <td>4.002043</td>\n",
       "      <td>6.365770</td>\n",
       "    </tr>\n",
       "    <tr>\n",
       "      <th>13328</th>\n",
       "      <td>288795</td>\n",
       "      <td>TACGAAGTTTACCACTAAAGCCCTGGGCCTCGGGCGTAGCGTCAGCGTCA</td>\n",
       "      <td>0.000027</td>\n",
       "      <td>0.000028</td>\n",
       "      <td>0.000014</td>\n",
       "      <td>0.000006</td>\n",
       "      <td>0.000006</td>\n",
       "      <td>0.000004</td>\n",
       "      <td>0.000003</td>\n",
       "      <td>0.000003</td>\n",
       "      <td>...</td>\n",
       "      <td>0.029262</td>\n",
       "      <td>0.027949</td>\n",
       "      <td>0.022571</td>\n",
       "      <td>0.026085</td>\n",
       "      <td>0.025151</td>\n",
       "      <td>0.025151</td>\n",
       "      <td>0.019612</td>\n",
       "      <td>0.024970</td>\n",
       "      <td>2.940583</td>\n",
       "      <td>6.300197</td>\n",
       "    </tr>\n",
       "    <tr>\n",
       "      <th>13692</th>\n",
       "      <td>128912</td>\n",
       "      <td>ATCAGGGCTAGATTAATACGTAGCTCAGACAGTTATATTGAATCACCTGA</td>\n",
       "      <td>0.000017</td>\n",
       "      <td>0.000019</td>\n",
       "      <td>0.000017</td>\n",
       "      <td>0.000009</td>\n",
       "      <td>0.000005</td>\n",
       "      <td>0.000005</td>\n",
       "      <td>0.000003</td>\n",
       "      <td>0.000003</td>\n",
       "      <td>...</td>\n",
       "      <td>0.031341</td>\n",
       "      <td>0.032347</td>\n",
       "      <td>0.046429</td>\n",
       "      <td>0.033113</td>\n",
       "      <td>0.043098</td>\n",
       "      <td>0.043098</td>\n",
       "      <td>0.048786</td>\n",
       "      <td>0.057706</td>\n",
       "      <td>4.411140</td>\n",
       "      <td>7.143445</td>\n",
       "    </tr>\n",
       "    <tr>\n",
       "      <th>13731</th>\n",
       "      <td>70989</td>\n",
       "      <td>TGATTGCGAGGTGCCTGCGGATACCCAGGCAACCCTTCACAGGCAGTGCA</td>\n",
       "      <td>0.000029</td>\n",
       "      <td>0.000023</td>\n",
       "      <td>0.000010</td>\n",
       "      <td>0.000006</td>\n",
       "      <td>0.000004</td>\n",
       "      <td>0.000004</td>\n",
       "      <td>0.000002</td>\n",
       "      <td>0.000004</td>\n",
       "      <td>...</td>\n",
       "      <td>0.020260</td>\n",
       "      <td>0.034280</td>\n",
       "      <td>0.031014</td>\n",
       "      <td>0.030990</td>\n",
       "      <td>0.042391</td>\n",
       "      <td>0.042391</td>\n",
       "      <td>0.033041</td>\n",
       "      <td>0.042217</td>\n",
       "      <td>3.604835</td>\n",
       "      <td>6.823222</td>\n",
       "    </tr>\n",
       "    <tr>\n",
       "      <th>13927</th>\n",
       "      <td>156724</td>\n",
       "      <td>CTGGAAATCTTCGCCTAGCACGCCAGTATATAGTTCATGAACGTCAAAAC</td>\n",
       "      <td>0.000024</td>\n",
       "      <td>0.000022</td>\n",
       "      <td>0.000014</td>\n",
       "      <td>0.000009</td>\n",
       "      <td>0.000005</td>\n",
       "      <td>0.000005</td>\n",
       "      <td>0.000003</td>\n",
       "      <td>0.000003</td>\n",
       "      <td>...</td>\n",
       "      <td>0.026560</td>\n",
       "      <td>0.027655</td>\n",
       "      <td>0.024673</td>\n",
       "      <td>0.028310</td>\n",
       "      <td>0.035956</td>\n",
       "      <td>0.035956</td>\n",
       "      <td>0.032863</td>\n",
       "      <td>0.043498</td>\n",
       "      <td>3.622184</td>\n",
       "      <td>5.759692</td>\n",
       "    </tr>\n",
       "    <tr>\n",
       "      <th>14085</th>\n",
       "      <td>272927</td>\n",
       "      <td>CATCTGCGTAAAGGCGAAGGCTCAAACCAGTAAAATCTCAATAGAGAAGA</td>\n",
       "      <td>0.000023</td>\n",
       "      <td>0.000021</td>\n",
       "      <td>0.000014</td>\n",
       "      <td>0.000005</td>\n",
       "      <td>0.000005</td>\n",
       "      <td>0.000004</td>\n",
       "      <td>0.000003</td>\n",
       "      <td>0.000004</td>\n",
       "      <td>...</td>\n",
       "      <td>0.029610</td>\n",
       "      <td>0.041148</td>\n",
       "      <td>0.038206</td>\n",
       "      <td>0.034176</td>\n",
       "      <td>0.046320</td>\n",
       "      <td>0.046320</td>\n",
       "      <td>0.030109</td>\n",
       "      <td>0.052727</td>\n",
       "      <td>4.004887</td>\n",
       "      <td>7.347825</td>\n",
       "    </tr>\n",
       "    <tr>\n",
       "      <th>14193</th>\n",
       "      <td>286945</td>\n",
       "      <td>GGTTTACGGAATAAAGACATAGATTGTACCGTGCGCAGAGGCAAGAAAGA</td>\n",
       "      <td>0.000017</td>\n",
       "      <td>0.000018</td>\n",
       "      <td>0.000018</td>\n",
       "      <td>0.000007</td>\n",
       "      <td>0.000005</td>\n",
       "      <td>0.000004</td>\n",
       "      <td>0.000003</td>\n",
       "      <td>0.000003</td>\n",
       "      <td>...</td>\n",
       "      <td>0.027518</td>\n",
       "      <td>0.032699</td>\n",
       "      <td>0.046688</td>\n",
       "      <td>0.040854</td>\n",
       "      <td>0.051658</td>\n",
       "      <td>0.051658</td>\n",
       "      <td>0.045646</td>\n",
       "      <td>0.047680</td>\n",
       "      <td>4.404682</td>\n",
       "      <td>7.324816</td>\n",
       "    </tr>\n",
       "    <tr>\n",
       "      <th>14219</th>\n",
       "      <td>252321</td>\n",
       "      <td>CGAGGGTACAGGAGTAGCCACTAAGGGTACGTTCGCGGAGGTACGACGAA</td>\n",
       "      <td>0.000022</td>\n",
       "      <td>0.000021</td>\n",
       "      <td>0.000016</td>\n",
       "      <td>0.000008</td>\n",
       "      <td>0.000006</td>\n",
       "      <td>0.000005</td>\n",
       "      <td>0.000003</td>\n",
       "      <td>0.000003</td>\n",
       "      <td>...</td>\n",
       "      <td>0.028002</td>\n",
       "      <td>0.029310</td>\n",
       "      <td>0.020213</td>\n",
       "      <td>0.021017</td>\n",
       "      <td>0.035658</td>\n",
       "      <td>0.035658</td>\n",
       "      <td>0.035703</td>\n",
       "      <td>0.050120</td>\n",
       "      <td>3.733461</td>\n",
       "      <td>6.695081</td>\n",
       "    </tr>\n",
       "    <tr>\n",
       "      <th>14812</th>\n",
       "      <td>233113</td>\n",
       "      <td>CCATGATCGCTGTACCTCACATCTTGAAGGATAGAGACAACCATGTCAAT</td>\n",
       "      <td>0.000023</td>\n",
       "      <td>0.000020</td>\n",
       "      <td>0.000014</td>\n",
       "      <td>0.000009</td>\n",
       "      <td>0.000006</td>\n",
       "      <td>0.000006</td>\n",
       "      <td>0.000002</td>\n",
       "      <td>0.000003</td>\n",
       "      <td>...</td>\n",
       "      <td>0.020780</td>\n",
       "      <td>0.025572</td>\n",
       "      <td>0.026509</td>\n",
       "      <td>0.031039</td>\n",
       "      <td>0.044292</td>\n",
       "      <td>0.044292</td>\n",
       "      <td>0.032961</td>\n",
       "      <td>0.039536</td>\n",
       "      <td>3.795335</td>\n",
       "      <td>6.061355</td>\n",
       "    </tr>\n",
       "    <tr>\n",
       "      <th>15870</th>\n",
       "      <td>216814</td>\n",
       "      <td>CAGCAGCGAGTGTCTGGCCGCGTTCAGGTAAAGGCGTAAACAACGCTCAG</td>\n",
       "      <td>0.000021</td>\n",
       "      <td>0.000022</td>\n",
       "      <td>0.000014</td>\n",
       "      <td>0.000007</td>\n",
       "      <td>0.000004</td>\n",
       "      <td>0.000005</td>\n",
       "      <td>0.000004</td>\n",
       "      <td>0.000004</td>\n",
       "      <td>...</td>\n",
       "      <td>0.037197</td>\n",
       "      <td>0.034330</td>\n",
       "      <td>0.026501</td>\n",
       "      <td>0.031449</td>\n",
       "      <td>0.034996</td>\n",
       "      <td>0.034996</td>\n",
       "      <td>0.037160</td>\n",
       "      <td>0.046735</td>\n",
       "      <td>3.807885</td>\n",
       "      <td>6.925332</td>\n",
       "    </tr>\n",
       "    <tr>\n",
       "      <th>16983</th>\n",
       "      <td>95820</td>\n",
       "      <td>CCAAATAAGCCAGTGTGGGGCCCCTGCAAGGGCGAATTGGTTAGTGGGAA</td>\n",
       "      <td>0.000022</td>\n",
       "      <td>0.000021</td>\n",
       "      <td>0.000013</td>\n",
       "      <td>0.000006</td>\n",
       "      <td>0.000005</td>\n",
       "      <td>0.000005</td>\n",
       "      <td>0.000004</td>\n",
       "      <td>0.000004</td>\n",
       "      <td>...</td>\n",
       "      <td>0.043413</td>\n",
       "      <td>0.036756</td>\n",
       "      <td>0.035151</td>\n",
       "      <td>0.035641</td>\n",
       "      <td>0.034518</td>\n",
       "      <td>0.034518</td>\n",
       "      <td>0.026932</td>\n",
       "      <td>0.040957</td>\n",
       "      <td>3.723705</td>\n",
       "      <td>6.615157</td>\n",
       "    </tr>\n",
       "    <tr>\n",
       "      <th>18036</th>\n",
       "      <td>13868</td>\n",
       "      <td>CTAAGCGGTATTTTCCATACTGAAGGTCTGGTCGGCTCTCGGAGTGAATC</td>\n",
       "      <td>0.000025</td>\n",
       "      <td>0.000021</td>\n",
       "      <td>0.000011</td>\n",
       "      <td>0.000006</td>\n",
       "      <td>0.000005</td>\n",
       "      <td>0.000004</td>\n",
       "      <td>0.000003</td>\n",
       "      <td>0.000003</td>\n",
       "      <td>...</td>\n",
       "      <td>0.029741</td>\n",
       "      <td>0.031131</td>\n",
       "      <td>0.031462</td>\n",
       "      <td>0.029371</td>\n",
       "      <td>0.036596</td>\n",
       "      <td>0.036596</td>\n",
       "      <td>0.027711</td>\n",
       "      <td>0.040417</td>\n",
       "      <td>3.548753</td>\n",
       "      <td>7.267674</td>\n",
       "    </tr>\n",
       "    <tr>\n",
       "      <th>18139</th>\n",
       "      <td>170346</td>\n",
       "      <td>CCCAGGTCCGTGAACGTCGGGTATAGGGCATCACGAATAAAGTTGCTTAT</td>\n",
       "      <td>0.000018</td>\n",
       "      <td>0.000018</td>\n",
       "      <td>0.000015</td>\n",
       "      <td>0.000007</td>\n",
       "      <td>0.000005</td>\n",
       "      <td>0.000005</td>\n",
       "      <td>0.000004</td>\n",
       "      <td>0.000004</td>\n",
       "      <td>...</td>\n",
       "      <td>0.039116</td>\n",
       "      <td>0.041162</td>\n",
       "      <td>0.038800</td>\n",
       "      <td>0.029604</td>\n",
       "      <td>0.035600</td>\n",
       "      <td>0.035600</td>\n",
       "      <td>0.046552</td>\n",
       "      <td>0.043719</td>\n",
       "      <td>4.044968</td>\n",
       "      <td>6.927310</td>\n",
       "    </tr>\n",
       "    <tr>\n",
       "      <th>18152</th>\n",
       "      <td>134998</td>\n",
       "      <td>CACTCGTATACATATAACACGCAAATTGCTGTATCCATAAACAACGCAGT</td>\n",
       "      <td>0.000018</td>\n",
       "      <td>0.000019</td>\n",
       "      <td>0.000014</td>\n",
       "      <td>0.000007</td>\n",
       "      <td>0.000004</td>\n",
       "      <td>0.000004</td>\n",
       "      <td>0.000003</td>\n",
       "      <td>0.000004</td>\n",
       "      <td>...</td>\n",
       "      <td>0.032506</td>\n",
       "      <td>0.036069</td>\n",
       "      <td>0.034665</td>\n",
       "      <td>0.044169</td>\n",
       "      <td>0.042853</td>\n",
       "      <td>0.042853</td>\n",
       "      <td>0.048468</td>\n",
       "      <td>0.039709</td>\n",
       "      <td>4.127045</td>\n",
       "      <td>7.445688</td>\n",
       "    </tr>\n",
       "    <tr>\n",
       "      <th>18481</th>\n",
       "      <td>124678</td>\n",
       "      <td>CGCGCAATTTATCGTGATCTGGTCACGGAGGCGAAGGCTCACGTGACGGC</td>\n",
       "      <td>0.000031</td>\n",
       "      <td>0.000024</td>\n",
       "      <td>0.000011</td>\n",
       "      <td>0.000006</td>\n",
       "      <td>0.000004</td>\n",
       "      <td>0.000003</td>\n",
       "      <td>0.000002</td>\n",
       "      <td>0.000002</td>\n",
       "      <td>...</td>\n",
       "      <td>0.023153</td>\n",
       "      <td>0.022047</td>\n",
       "      <td>0.020253</td>\n",
       "      <td>0.020238</td>\n",
       "      <td>0.016817</td>\n",
       "      <td>0.016817</td>\n",
       "      <td>0.032513</td>\n",
       "      <td>0.040955</td>\n",
       "      <td>2.870973</td>\n",
       "      <td>6.708549</td>\n",
       "    </tr>\n",
       "    <tr>\n",
       "      <th>19033</th>\n",
       "      <td>107129</td>\n",
       "      <td>CCTTATGTAGTAAGAGTCAACTGAACAGACCTAGTCTCGATCATAACATT</td>\n",
       "      <td>0.000014</td>\n",
       "      <td>0.000020</td>\n",
       "      <td>0.000014</td>\n",
       "      <td>0.000007</td>\n",
       "      <td>0.000005</td>\n",
       "      <td>0.000006</td>\n",
       "      <td>0.000004</td>\n",
       "      <td>0.000003</td>\n",
       "      <td>...</td>\n",
       "      <td>0.041643</td>\n",
       "      <td>0.033754</td>\n",
       "      <td>0.023281</td>\n",
       "      <td>0.028933</td>\n",
       "      <td>0.043760</td>\n",
       "      <td>0.043760</td>\n",
       "      <td>0.051450</td>\n",
       "      <td>0.059052</td>\n",
       "      <td>4.403224</td>\n",
       "      <td>6.314336</td>\n",
       "    </tr>\n",
       "    <tr>\n",
       "      <th>19259</th>\n",
       "      <td>212675</td>\n",
       "      <td>TGTCCAGGAACCTCCCCGTCTTCAACAAACGTATGAATACGGGAGTTAGA</td>\n",
       "      <td>0.000020</td>\n",
       "      <td>0.000020</td>\n",
       "      <td>0.000013</td>\n",
       "      <td>0.000008</td>\n",
       "      <td>0.000004</td>\n",
       "      <td>0.000004</td>\n",
       "      <td>0.000003</td>\n",
       "      <td>0.000002</td>\n",
       "      <td>...</td>\n",
       "      <td>0.026430</td>\n",
       "      <td>0.023376</td>\n",
       "      <td>0.027347</td>\n",
       "      <td>0.030519</td>\n",
       "      <td>0.042638</td>\n",
       "      <td>0.042638</td>\n",
       "      <td>0.035427</td>\n",
       "      <td>0.054874</td>\n",
       "      <td>3.905940</td>\n",
       "      <td>7.019022</td>\n",
       "    </tr>\n",
       "    <tr>\n",
       "      <th>19760</th>\n",
       "      <td>47947</td>\n",
       "      <td>CCGGCGTGGGAAGCTCTCGACAGAATACAACACACCAGGATCTCCGGACA</td>\n",
       "      <td>0.000017</td>\n",
       "      <td>0.000022</td>\n",
       "      <td>0.000015</td>\n",
       "      <td>0.000006</td>\n",
       "      <td>0.000003</td>\n",
       "      <td>0.000004</td>\n",
       "      <td>0.000004</td>\n",
       "      <td>0.000004</td>\n",
       "      <td>...</td>\n",
       "      <td>0.037281</td>\n",
       "      <td>0.041289</td>\n",
       "      <td>0.031579</td>\n",
       "      <td>0.033009</td>\n",
       "      <td>0.047241</td>\n",
       "      <td>0.047241</td>\n",
       "      <td>0.034981</td>\n",
       "      <td>0.046612</td>\n",
       "      <td>4.041780</td>\n",
       "      <td>6.982026</td>\n",
       "    </tr>\n",
       "    <tr>\n",
       "      <th>19762</th>\n",
       "      <td>71944</td>\n",
       "      <td>CCCCTAGGAGGTCGGCACAAGCGTACCTGAACAAGGGGTCTTCCCGACTG</td>\n",
       "      <td>0.000019</td>\n",
       "      <td>0.000021</td>\n",
       "      <td>0.000014</td>\n",
       "      <td>0.000007</td>\n",
       "      <td>0.000004</td>\n",
       "      <td>0.000006</td>\n",
       "      <td>0.000003</td>\n",
       "      <td>0.000003</td>\n",
       "      <td>...</td>\n",
       "      <td>0.036565</td>\n",
       "      <td>0.027484</td>\n",
       "      <td>0.029237</td>\n",
       "      <td>0.027677</td>\n",
       "      <td>0.033613</td>\n",
       "      <td>0.033613</td>\n",
       "      <td>0.037391</td>\n",
       "      <td>0.027663</td>\n",
       "      <td>3.581234</td>\n",
       "      <td>6.583613</td>\n",
       "    </tr>\n",
       "    <tr>\n",
       "      <th>19923</th>\n",
       "      <td>156894</td>\n",
       "      <td>CCCTCAACCGCCGTGAACTTACGACAATGGGGATGTCAAAGACGTTGCGT</td>\n",
       "      <td>0.000029</td>\n",
       "      <td>0.000024</td>\n",
       "      <td>0.000010</td>\n",
       "      <td>0.000006</td>\n",
       "      <td>0.000004</td>\n",
       "      <td>0.000003</td>\n",
       "      <td>0.000002</td>\n",
       "      <td>0.000002</td>\n",
       "      <td>...</td>\n",
       "      <td>0.020798</td>\n",
       "      <td>0.022965</td>\n",
       "      <td>0.017435</td>\n",
       "      <td>0.019649</td>\n",
       "      <td>0.026580</td>\n",
       "      <td>0.026580</td>\n",
       "      <td>0.024891</td>\n",
       "      <td>0.045424</td>\n",
       "      <td>3.011118</td>\n",
       "      <td>7.129371</td>\n",
       "    </tr>\n",
       "  </tbody>\n",
       "</table>\n",
       "<p>48 rows × 34 columns</p>\n",
       "</div>"
      ],
      "text/plain": [
       "       Unnamed: 0                                                 utr  \\\n",
       "809           320  ATCGATCCACCCTGCATAGCAGGGAACTCTATTGTGCATGTTCGGATGCG   \n",
       "999        226582  AGCTTACTGAACCTGGTCGTGGAGGTATGCAGGAGGTATGTGCATGCCTG   \n",
       "1046        89012  GCGAGGGAACAAGAGCAAAGGAGAATCTAGGCCACATCTCTCGTCGTTCC   \n",
       "1733        85271  GTCCATGCAGAAAGTTCAGGTAAACTCGTGGGCGATAAGAATTTGGGAAC   \n",
       "1909       232479  ACAAAAACATTGACATGATCGGATACAGGCGGCGTACGGCATGCGCTACC   \n",
       "3279       115533  CACCGAGTCTTGCGGCCTAAATCCGTAGGGGTCTGGGTCCACGATTGTCC   \n",
       "3467       232027  CCATCAATTTATCACATAAAGCCCTGTGTGGGTTGTCTGCGCATACAGAA   \n",
       "3582        90322  CGCGCCGAACGCGCGACAAGCAAAGCACGACAGAACGTGCCCACTAAAGC   \n",
       "3974       265040  CCAGAAGATACAACCCGGGATTACTGGCGGTCCGATTAGAACTGATCAAG   \n",
       "4049       157141  CCTGCGTCTAGCCGGTGCGTGTAACGAATATCCTACCGTTGAAATACTAC   \n",
       "4553       251917  CTCAGGAGGGTGGTAAGCCACCGCCCACGCGTGGGGCACTCGTGTATTCT   \n",
       "4749       190715  GTGAAGACACGAGGGACCCACTAGTCAGCTGACTGCTGGAAACGTCCGGA   \n",
       "5424       107646  GAACATCAACTGGAAAAGATTACAAGTTTACGTATTCCAAAATCCCCTTC   \n",
       "6500       131328  GCCACGCATGAAGAAAGATTCGAGGATTCTCAAAAGCCTCTTGAGGCTAC   \n",
       "8461       115393  CAGTACCCGACGTGGGAAATTAACATACCATTGGACCCTTCCCACGTCAA   \n",
       "8845       124075  AAACGCGGTGGATCACGGCCAGCTAGAGGGCGAAGGCGTCCTTCCACCAG   \n",
       "9258       132925  CCTACCAGGAATAGTGTGCTATATGAGAGCTGTGTCGTTCCATAGATTTA   \n",
       "9571       119602  TTCAAGCCAGCAACCGGAAACCGTTACACAGCTCGGATATTCACGGTGGT   \n",
       "9627        74818  GACGCTGCTGCAGTACAAATCTAAATTAACATTGCTGATCCGCTAAAATT   \n",
       "10013      110422  CCGTATTAGATGCTCAAAATCACTGCATATAGAACTCAGGACGGGAACTT   \n",
       "10366      118197  CAGTCGGTAGATAAAGACCACACAGGCACCTGTCACCCGCTGCGTACCTC   \n",
       "10584       91579  CTCTCATAAGAAAAACCAGCACAACGAGGCGATACTGGCTACCCGAGAAA   \n",
       "10880      208745  GTTCATCGTAGCTCACGGTACAGATGAGACACGACAAACGACCGGATACC   \n",
       "11441       63076  CCGGCTACTCAAAAAAAGACATGGGCATCTTAAAGTCTAGTAGCAACAAA   \n",
       "11503      202242  CCGACCAATATCTGGGTATCGTGAGGCCCAAGTACGCCATGAGATTGCTA   \n",
       "11538      112917  GGATATTTGTCGGCAAAGGAGGCATAGCGGGTTGTAAGCACGTCACCTGT   \n",
       "11786      108231  CAATAGGCAGGTGCGCGCTACGCGCGGGATTCCTAGACCACTCGGTCAAT   \n",
       "13096      182258  TCGCACGGTTAACAAATCACATTAACGGCCGAATGATGCGGCGGGCTGCA   \n",
       "13125       35901  GAGAGTAAGTCTGGCAGCCATTGGAGACAGGTGCATATACAAAATTGTCT   \n",
       "13328      288795  TACGAAGTTTACCACTAAAGCCCTGGGCCTCGGGCGTAGCGTCAGCGTCA   \n",
       "13692      128912  ATCAGGGCTAGATTAATACGTAGCTCAGACAGTTATATTGAATCACCTGA   \n",
       "13731       70989  TGATTGCGAGGTGCCTGCGGATACCCAGGCAACCCTTCACAGGCAGTGCA   \n",
       "13927      156724  CTGGAAATCTTCGCCTAGCACGCCAGTATATAGTTCATGAACGTCAAAAC   \n",
       "14085      272927  CATCTGCGTAAAGGCGAAGGCTCAAACCAGTAAAATCTCAATAGAGAAGA   \n",
       "14193      286945  GGTTTACGGAATAAAGACATAGATTGTACCGTGCGCAGAGGCAAGAAAGA   \n",
       "14219      252321  CGAGGGTACAGGAGTAGCCACTAAGGGTACGTTCGCGGAGGTACGACGAA   \n",
       "14812      233113  CCATGATCGCTGTACCTCACATCTTGAAGGATAGAGACAACCATGTCAAT   \n",
       "15870      216814  CAGCAGCGAGTGTCTGGCCGCGTTCAGGTAAAGGCGTAAACAACGCTCAG   \n",
       "16983       95820  CCAAATAAGCCAGTGTGGGGCCCCTGCAAGGGCGAATTGGTTAGTGGGAA   \n",
       "18036       13868  CTAAGCGGTATTTTCCATACTGAAGGTCTGGTCGGCTCTCGGAGTGAATC   \n",
       "18139      170346  CCCAGGTCCGTGAACGTCGGGTATAGGGCATCACGAATAAAGTTGCTTAT   \n",
       "18152      134998  CACTCGTATACATATAACACGCAAATTGCTGTATCCATAAACAACGCAGT   \n",
       "18481      124678  CGCGCAATTTATCGTGATCTGGTCACGGAGGCGAAGGCTCACGTGACGGC   \n",
       "19033      107129  CCTTATGTAGTAAGAGTCAACTGAACAGACCTAGTCTCGATCATAACATT   \n",
       "19259      212675  TGTCCAGGAACCTCCCCGTCTTCAACAAACGTATGAATACGGGAGTTAGA   \n",
       "19760       47947  CCGGCGTGGGAAGCTCTCGACAGAATACAACACACCAGGATCTCCGGACA   \n",
       "19762       71944  CCCCTAGGAGGTCGGCACAAGCGTACCTGAACAAGGGGTCTTCCCGACTG   \n",
       "19923      156894  CCCTCAACCGCCGTGAACTTACGACAATGGGGATGTCAAAGACGTTGCGT   \n",
       "\n",
       "              0         1         2         3         4         5         6  \\\n",
       "809    0.000044  0.000042  0.000025  0.000013  0.000009  0.000010  0.000004   \n",
       "999    0.000034  0.000036  0.000025  0.000013  0.000009  0.000009  0.000005   \n",
       "1046   0.000024  0.000037  0.000028  0.000015  0.000011  0.000009  0.000006   \n",
       "1733   0.000037  0.000033  0.000024  0.000012  0.000010  0.000007  0.000004   \n",
       "1909   0.000030  0.000032  0.000024  0.000016  0.000008  0.000007  0.000004   \n",
       "3279   0.000036  0.000031  0.000018  0.000009  0.000006  0.000007  0.000004   \n",
       "3467   0.000029  0.000028  0.000017  0.000010  0.000006  0.000006  0.000005   \n",
       "3582   0.000035  0.000032  0.000018  0.000008  0.000007  0.000006  0.000005   \n",
       "3974   0.000033  0.000034  0.000017  0.000010  0.000005  0.000005  0.000004   \n",
       "4049   0.000029  0.000027  0.000019  0.000012  0.000005  0.000006  0.000003   \n",
       "4553   0.000033  0.000034  0.000017  0.000010  0.000005  0.000006  0.000003   \n",
       "4749   0.000031  0.000029  0.000014  0.000008  0.000006  0.000007  0.000004   \n",
       "5424   0.000018  0.000020  0.000023  0.000013  0.000007  0.000007  0.000005   \n",
       "6500   0.000021  0.000025  0.000019  0.000014  0.000010  0.000006  0.000004   \n",
       "8461   0.000027  0.000025  0.000015  0.000008  0.000006  0.000005  0.000004   \n",
       "8845   0.000031  0.000027  0.000013  0.000009  0.000007  0.000004  0.000003   \n",
       "9258   0.000022  0.000031  0.000019  0.000010  0.000007  0.000004  0.000003   \n",
       "9571   0.000020  0.000024  0.000018  0.000009  0.000005  0.000006  0.000003   \n",
       "9627   0.000020  0.000021  0.000018  0.000007  0.000006  0.000004  0.000003   \n",
       "10013  0.000027  0.000022  0.000015  0.000009  0.000008  0.000006  0.000003   \n",
       "10366  0.000021  0.000023  0.000016  0.000007  0.000005  0.000005  0.000004   \n",
       "10584  0.000027  0.000025  0.000015  0.000007  0.000004  0.000005  0.000003   \n",
       "10880  0.000028  0.000025  0.000012  0.000006  0.000005  0.000005  0.000004   \n",
       "11441  0.000038  0.000031  0.000010  0.000005  0.000003  0.000003  0.000002   \n",
       "11503  0.000030  0.000026  0.000013  0.000008  0.000005  0.000004  0.000003   \n",
       "11538  0.000014  0.000022  0.000018  0.000009  0.000006  0.000005  0.000004   \n",
       "11786  0.000035  0.000026  0.000013  0.000007  0.000005  0.000004  0.000003   \n",
       "13096  0.000032  0.000024  0.000012  0.000007  0.000005  0.000004  0.000002   \n",
       "13125  0.000020  0.000021  0.000016  0.000009  0.000006  0.000005  0.000004   \n",
       "13328  0.000027  0.000028  0.000014  0.000006  0.000006  0.000004  0.000003   \n",
       "13692  0.000017  0.000019  0.000017  0.000009  0.000005  0.000005  0.000003   \n",
       "13731  0.000029  0.000023  0.000010  0.000006  0.000004  0.000004  0.000002   \n",
       "13927  0.000024  0.000022  0.000014  0.000009  0.000005  0.000005  0.000003   \n",
       "14085  0.000023  0.000021  0.000014  0.000005  0.000005  0.000004  0.000003   \n",
       "14193  0.000017  0.000018  0.000018  0.000007  0.000005  0.000004  0.000003   \n",
       "14219  0.000022  0.000021  0.000016  0.000008  0.000006  0.000005  0.000003   \n",
       "14812  0.000023  0.000020  0.000014  0.000009  0.000006  0.000006  0.000002   \n",
       "15870  0.000021  0.000022  0.000014  0.000007  0.000004  0.000005  0.000004   \n",
       "16983  0.000022  0.000021  0.000013  0.000006  0.000005  0.000005  0.000004   \n",
       "18036  0.000025  0.000021  0.000011  0.000006  0.000005  0.000004  0.000003   \n",
       "18139  0.000018  0.000018  0.000015  0.000007  0.000005  0.000005  0.000004   \n",
       "18152  0.000018  0.000019  0.000014  0.000007  0.000004  0.000004  0.000003   \n",
       "18481  0.000031  0.000024  0.000011  0.000006  0.000004  0.000003  0.000002   \n",
       "19033  0.000014  0.000020  0.000014  0.000007  0.000005  0.000006  0.000004   \n",
       "19259  0.000020  0.000020  0.000013  0.000008  0.000004  0.000004  0.000003   \n",
       "19760  0.000017  0.000022  0.000015  0.000006  0.000003  0.000004  0.000004   \n",
       "19762  0.000019  0.000021  0.000014  0.000007  0.000004  0.000006  0.000003   \n",
       "19923  0.000029  0.000024  0.000010  0.000006  0.000004  0.000003  0.000002   \n",
       "\n",
       "              7  ...        r6        r7        r8        r9       r10  \\\n",
       "809    0.000005  ...  0.021431  0.024679  0.023677  0.021867  0.029297   \n",
       "999    0.000006  ...  0.029120  0.031509  0.030538  0.026672  0.043827   \n",
       "1046   0.000006  ...  0.033772  0.035514  0.035510  0.033592  0.039144   \n",
       "1733   0.000004  ...  0.024912  0.025271  0.019927  0.023506  0.035812   \n",
       "1909   0.000004  ...  0.025004  0.026887  0.025049  0.024521  0.045485   \n",
       "3279   0.000004  ...  0.027872  0.029664  0.025882  0.026299  0.035648   \n",
       "3467   0.000005  ...  0.031692  0.037771  0.034125  0.037183  0.047723   \n",
       "3582   0.000004  ...  0.032290  0.026047  0.023872  0.028277  0.034306   \n",
       "3974   0.000004  ...  0.025660  0.025103  0.025401  0.027429  0.032515   \n",
       "4049   0.000004  ...  0.022889  0.029767  0.028933  0.027242  0.050658   \n",
       "4553   0.000003  ...  0.021879  0.020438  0.019060  0.023047  0.037565   \n",
       "4749   0.000005  ...  0.031691  0.036622  0.027722  0.037957  0.038120   \n",
       "5424   0.000004  ...  0.039599  0.032969  0.035043  0.030797  0.048085   \n",
       "6500   0.000003  ...  0.029935  0.026300  0.023500  0.034187  0.032083   \n",
       "8461   0.000003  ...  0.030352  0.024091  0.029426  0.032772  0.041309   \n",
       "8845   0.000003  ...  0.025414  0.023455  0.030310  0.017522  0.033050   \n",
       "9258   0.000002  ...  0.029835  0.019504  0.019664  0.021141  0.020420   \n",
       "9571   0.000004  ...  0.030554  0.036921  0.036646  0.031290  0.040653   \n",
       "9627   0.000005  ...  0.030099  0.040094  0.034834  0.042886  0.050605   \n",
       "10013  0.000003  ...  0.029497  0.023459  0.025940  0.025412  0.032031   \n",
       "10366  0.000004  ...  0.031430  0.034574  0.035963  0.038392  0.046187   \n",
       "10584  0.000004  ...  0.028649  0.033274  0.024310  0.033714  0.035124   \n",
       "10880  0.000004  ...  0.032986  0.032512  0.025492  0.034925  0.040204   \n",
       "11441  0.000002  ...  0.015610  0.019809  0.017590  0.021771  0.026327   \n",
       "11503  0.000003  ...  0.024184  0.027447  0.017676  0.026465  0.029908   \n",
       "11538  0.000004  ...  0.031845  0.035922  0.035782  0.031953  0.044534   \n",
       "11786  0.000003  ...  0.023278  0.023326  0.014933  0.025135  0.019118   \n",
       "13096  0.000002  ...  0.020389  0.021640  0.015606  0.023483  0.027510   \n",
       "13125  0.000004  ...  0.037719  0.032656  0.022142  0.025590  0.040339   \n",
       "13328  0.000003  ...  0.029262  0.027949  0.022571  0.026085  0.025151   \n",
       "13692  0.000003  ...  0.031341  0.032347  0.046429  0.033113  0.043098   \n",
       "13731  0.000004  ...  0.020260  0.034280  0.031014  0.030990  0.042391   \n",
       "13927  0.000003  ...  0.026560  0.027655  0.024673  0.028310  0.035956   \n",
       "14085  0.000004  ...  0.029610  0.041148  0.038206  0.034176  0.046320   \n",
       "14193  0.000003  ...  0.027518  0.032699  0.046688  0.040854  0.051658   \n",
       "14219  0.000003  ...  0.028002  0.029310  0.020213  0.021017  0.035658   \n",
       "14812  0.000003  ...  0.020780  0.025572  0.026509  0.031039  0.044292   \n",
       "15870  0.000004  ...  0.037197  0.034330  0.026501  0.031449  0.034996   \n",
       "16983  0.000004  ...  0.043413  0.036756  0.035151  0.035641  0.034518   \n",
       "18036  0.000003  ...  0.029741  0.031131  0.031462  0.029371  0.036596   \n",
       "18139  0.000004  ...  0.039116  0.041162  0.038800  0.029604  0.035600   \n",
       "18152  0.000004  ...  0.032506  0.036069  0.034665  0.044169  0.042853   \n",
       "18481  0.000002  ...  0.023153  0.022047  0.020253  0.020238  0.016817   \n",
       "19033  0.000003  ...  0.041643  0.033754  0.023281  0.028933  0.043760   \n",
       "19259  0.000002  ...  0.026430  0.023376  0.027347  0.030519  0.042638   \n",
       "19760  0.000004  ...  0.037281  0.041289  0.031579  0.033009  0.047241   \n",
       "19762  0.000003  ...  0.036565  0.027484  0.029237  0.027677  0.033613   \n",
       "19923  0.000002  ...  0.020798  0.022965  0.017435  0.019649  0.026580   \n",
       "\n",
       "            r11       r12       r13        rl      pred  \n",
       "809    0.029297  0.028727  0.042218  3.331041  6.045370  \n",
       "999    0.043827  0.042533  0.051309  4.065457  5.995093  \n",
       "1046   0.039144  0.038410  0.035048  4.038996  7.305915  \n",
       "1733   0.035812  0.030385  0.042090  3.502755  5.657888  \n",
       "1909   0.045485  0.032901  0.031797  3.715876  5.623970  \n",
       "3279   0.035648  0.031976  0.037537  3.450179  6.479451  \n",
       "3467   0.047723  0.039136  0.056973  4.217225  7.151853  \n",
       "3582   0.034306  0.025561  0.041463  3.419108  6.397795  \n",
       "3974   0.032515  0.039899  0.053005  3.598649  7.219923  \n",
       "4049   0.050658  0.038351  0.045245  3.974110  6.926174  \n",
       "4553   0.037565  0.031830  0.031183  3.290073  5.753128  \n",
       "4749   0.038120  0.041766  0.043430  3.850492  7.150683  \n",
       "5424   0.048085  0.033778  0.054191  4.379428  7.251095  \n",
       "6500   0.032083  0.023536  0.033641  3.598116  5.439827  \n",
       "8461   0.041309  0.038650  0.034648  3.701647  6.924004  \n",
       "8845   0.033050  0.026678  0.034121  3.237970  5.670214  \n",
       "9258   0.020420  0.029994  0.036322  3.175697  5.858643  \n",
       "9571   0.040653  0.029556  0.034246  3.800930  7.132994  \n",
       "9627   0.050605  0.044089  0.054820  4.412648  7.565299  \n",
       "10013  0.032031  0.034071  0.042645  3.601777  6.013274  \n",
       "10366  0.046187  0.035746  0.039692  4.020205  6.855105  \n",
       "10584  0.035124  0.034519  0.030622  3.469223  6.225135  \n",
       "10880  0.040204  0.034342  0.034817  3.596276  6.815835  \n",
       "11441  0.026327  0.027027  0.033588  2.694196  6.968068  \n",
       "11503  0.029908  0.026722  0.033754  3.119788  7.397473  \n",
       "11538  0.044534  0.041392  0.059451  4.394071  6.554894  \n",
       "11786  0.019118  0.024517  0.026212  2.677383  6.863350  \n",
       "13096  0.027510  0.026419  0.024938  2.862142  7.406233  \n",
       "13125  0.040339  0.034900  0.055343  4.002043  6.365770  \n",
       "13328  0.025151  0.019612  0.024970  2.940583  6.300197  \n",
       "13692  0.043098  0.048786  0.057706  4.411140  7.143445  \n",
       "13731  0.042391  0.033041  0.042217  3.604835  6.823222  \n",
       "13927  0.035956  0.032863  0.043498  3.622184  5.759692  \n",
       "14085  0.046320  0.030109  0.052727  4.004887  7.347825  \n",
       "14193  0.051658  0.045646  0.047680  4.404682  7.324816  \n",
       "14219  0.035658  0.035703  0.050120  3.733461  6.695081  \n",
       "14812  0.044292  0.032961  0.039536  3.795335  6.061355  \n",
       "15870  0.034996  0.037160  0.046735  3.807885  6.925332  \n",
       "16983  0.034518  0.026932  0.040957  3.723705  6.615157  \n",
       "18036  0.036596  0.027711  0.040417  3.548753  7.267674  \n",
       "18139  0.035600  0.046552  0.043719  4.044968  6.927310  \n",
       "18152  0.042853  0.048468  0.039709  4.127045  7.445688  \n",
       "18481  0.016817  0.032513  0.040955  2.870973  6.708549  \n",
       "19033  0.043760  0.051450  0.059052  4.403224  6.314336  \n",
       "19259  0.042638  0.035427  0.054874  3.905940  7.019022  \n",
       "19760  0.047241  0.034981  0.046612  4.041780  6.982026  \n",
       "19762  0.033613  0.037391  0.027663  3.581234  6.583613  \n",
       "19923  0.026580  0.024891  0.045424  3.011118  7.129371  \n",
       "\n",
       "[48 rows x 34 columns]"
      ]
     },
     "execution_count": 16,
     "metadata": {},
     "output_type": "execute_result"
    }
   ],
   "source": [
    "off_diagonals"
   ]
  },
  {
   "cell_type": "code",
   "execution_count": 17,
   "metadata": {},
   "outputs": [],
   "source": [
    "off_diagonals.to_csv('../off_diagonal_utrs.csv')"
   ]
  },
  {
   "cell_type": "code",
   "execution_count": 18,
   "metadata": {},
   "outputs": [],
   "source": [
    "#How many of these contain 'ATG'?\n",
    "atg_true = off_diagonals[off_diagonals['utr'].apply(lambda x: 'ATG' in x)]\n",
    "atg_false = off_diagonals[off_diagonals['utr'].apply(lambda x: 'ATG' not in x)]"
   ]
  },
  {
   "cell_type": "code",
   "execution_count": 19,
   "metadata": {},
   "outputs": [
    {
     "name": "stdout",
     "output_type": "stream",
     "text": [
      "16\n",
      "32\n"
     ]
    }
   ],
   "source": [
    "print len(atg_true)\n",
    "print len(atg_false)"
   ]
  },
  {
   "cell_type": "code",
   "execution_count": 27,
   "metadata": {},
   "outputs": [
    {
     "data": {
      "image/png": "[encoded data removed]",
      "text/plain": [
       "<Figure size 504x504 with 3 Axes>"
      ]
     },
     "metadata": {
      "needs_background": "light"
     },
     "output_type": "display_data"
    }
   ],
   "source": [
    "g = sns.JointGrid(x='rl', y=\"pred\", data=atg_true, space=0, xlim=(1,10), ylim=(0,10), ratio=6, size=7)\n",
    "g.plot_joint(plt.scatter,s=25, color=c1, linewidth=0.2, alpha='0.6', edgecolor='black')\n",
    "f = g.fig\n",
    "ax = f.gca()\n",
    "# ax.set_yticks(np.arange(0,9.01, 1));\n",
    "# ax.set_yticklabels(range(10),size=20);\n",
    "# ax.set_xticks(np.arange(1,10.01, 1));\n",
    "# ax.set_xticklabels(range(1,11),size=20);\n",
    "ax.set_ylim(4,9)\n",
    "ax.set_xlim(1,6)\n",
    "g.plot_marginals(sns.kdeplot,shade=c1, **{'linewidth':2, 'color':'b'})\n",
    "g.set_axis_labels('Observed MRL', 'Predicted MRL', **{'size':22});\n",
    "\n",
    "g.x = atg_false['rl'].values\n",
    "g.y = atg_false['pred'].values\n",
    "g.plot_joint(plt.scatter, s=25, linewidth=0.2, alpha='0.6', color='r', edgecolor='black')\n",
    "g.plot_marginals(sns.kdeplot, shade='r', **{'linewidth':2, 'color':'r'})\n",
    "f = g.fig"
   ]
  },
  {
   "cell_type": "code",
   "execution_count": 42,
   "metadata": {},
   "outputs": [],
   "source": [
    "def baseContent(seq,verbose=False):\n",
    "    \"\"\"returns dictionary of ATGC content in the input sequence, assumes all uppercase already\"\"\"\n",
    "    d = {'A':0.0,'T':0.0,'G':0.0,'C':0.0}\n",
    "    length = len(seq)\n",
    "    s = seq.encode('ascii','ignore')\n",
    "    for b in 'ATGC':\n",
    "        d[b] = s.count(b) / length\n",
    "    if verbose:\n",
    "        print(d)\n",
    "    return d"
   ]
  },
  {
   "cell_type": "code",
   "execution_count": 44,
   "metadata": {},
   "outputs": [
    {
     "data": {
      "text/plain": [
       "809      {u'A': 0, u'C': 0, u'T': 0, u'G': 0}\n",
       "999      {u'A': 0, u'C': 0, u'T': 0, u'G': 0}\n",
       "1046     {u'A': 0, u'C': 0, u'T': 0, u'G': 0}\n",
       "1733     {u'A': 0, u'C': 0, u'T': 0, u'G': 0}\n",
       "1909     {u'A': 0, u'C': 0, u'T': 0, u'G': 0}\n",
       "3279     {u'A': 0, u'C': 0, u'T': 0, u'G': 0}\n",
       "3467     {u'A': 0, u'C': 0, u'T': 0, u'G': 0}\n",
       "3582     {u'A': 0, u'C': 0, u'T': 0, u'G': 0}\n",
       "3974     {u'A': 0, u'C': 0, u'T': 0, u'G': 0}\n",
       "4049     {u'A': 0, u'C': 0, u'T': 0, u'G': 0}\n",
       "4553     {u'A': 0, u'C': 0, u'T': 0, u'G': 0}\n",
       "4749     {u'A': 0, u'C': 0, u'T': 0, u'G': 0}\n",
       "5424     {u'A': 0, u'C': 0, u'T': 0, u'G': 0}\n",
       "6500     {u'A': 0, u'C': 0, u'T': 0, u'G': 0}\n",
       "8461     {u'A': 0, u'C': 0, u'T': 0, u'G': 0}\n",
       "8845     {u'A': 0, u'C': 0, u'T': 0, u'G': 0}\n",
       "9258     {u'A': 0, u'C': 0, u'T': 0, u'G': 0}\n",
       "9571     {u'A': 0, u'C': 0, u'T': 0, u'G': 0}\n",
       "9627     {u'A': 0, u'C': 0, u'T': 0, u'G': 0}\n",
       "10013    {u'A': 0, u'C': 0, u'T': 0, u'G': 0}\n",
       "10366    {u'A': 0, u'C': 0, u'T': 0, u'G': 0}\n",
       "10584    {u'A': 0, u'C': 0, u'T': 0, u'G': 0}\n",
       "10880    {u'A': 0, u'C': 0, u'T': 0, u'G': 0}\n",
       "11441    {u'A': 0, u'C': 0, u'T': 0, u'G': 0}\n",
       "11503    {u'A': 0, u'C': 0, u'T': 0, u'G': 0}\n",
       "11538    {u'A': 0, u'C': 0, u'T': 0, u'G': 0}\n",
       "11786    {u'A': 0, u'C': 0, u'T': 0, u'G': 0}\n",
       "13096    {u'A': 0, u'C': 0, u'T': 0, u'G': 0}\n",
       "13125    {u'A': 0, u'C': 0, u'T': 0, u'G': 0}\n",
       "13328    {u'A': 0, u'C': 0, u'T': 0, u'G': 0}\n",
       "13692    {u'A': 0, u'C': 0, u'T': 0, u'G': 0}\n",
       "13731    {u'A': 0, u'C': 0, u'T': 0, u'G': 0}\n",
       "13927    {u'A': 0, u'C': 0, u'T': 0, u'G': 0}\n",
       "14085    {u'A': 0, u'C': 0, u'T': 0, u'G': 0}\n",
       "14193    {u'A': 0, u'C': 0, u'T': 0, u'G': 0}\n",
       "14219    {u'A': 0, u'C': 0, u'T': 0, u'G': 0}\n",
       "14812    {u'A': 0, u'C': 0, u'T': 0, u'G': 0}\n",
       "15870    {u'A': 0, u'C': 0, u'T': 0, u'G': 0}\n",
       "16983    {u'A': 0, u'C': 0, u'T': 0, u'G': 0}\n",
       "18036    {u'A': 0, u'C': 0, u'T': 0, u'G': 0}\n",
       "18139    {u'A': 0, u'C': 0, u'T': 0, u'G': 0}\n",
       "18152    {u'A': 0, u'C': 0, u'T': 0, u'G': 0}\n",
       "18481    {u'A': 0, u'C': 0, u'T': 0, u'G': 0}\n",
       "19033    {u'A': 0, u'C': 0, u'T': 0, u'G': 0}\n",
       "19259    {u'A': 0, u'C': 0, u'T': 0, u'G': 0}\n",
       "19760    {u'A': 0, u'C': 0, u'T': 0, u'G': 0}\n",
       "19762    {u'A': 0, u'C': 0, u'T': 0, u'G': 0}\n",
       "19923    {u'A': 0, u'C': 0, u'T': 0, u'G': 0}\n",
       "Name: utr, dtype: object"
      ]
     },
     "execution_count": 44,
     "metadata": {},
     "output_type": "execute_result"
    }
   ],
   "source": [
    "off_diagonals[u'utr'].apply(lambda s: baseContent(s))"
   ]
  },
  {
   "cell_type": "code",
   "execution_count": null,
   "metadata": {},
   "outputs": [],
   "source": []
  }
 ],
 "metadata": {
  "kernelspec": {
   "display_name": "Python 2",
   "language": "python",
   "name": "python2"
  },
  "language_info": {
   "codemirror_mode": {
    "name": "ipython",
    "version": 2
   },
   "file_extension": ".py",
   "mimetype": "text/x-python",
   "name": "python",
   "nbconvert_exporter": "python",
   "pygments_lexer": "ipython2",
   "version": "2.7.15"
  }
 },
 "nbformat": 4,
 "nbformat_minor": 2
}
